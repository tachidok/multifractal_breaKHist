{
  "cells": [
    {
      "cell_type": "markdown",
      "metadata": {
        "id": "view-in-github",
        "colab_type": "text"
      },
      "source": [
        "<a href=\"https://colab.research.google.com/github/tachidok/multifractal_breaKHist/blob/main/Multifractal_based_on_slide_ids.ipynb\" target=\"_parent\"><img src=\"https://colab.research.google.com/assets/colab-badge.svg\" alt=\"Open In Colab\"/></a>"
      ]
    },
    {
      "cell_type": "markdown",
      "id": "sticky-compromise",
      "metadata": {
        "id": "sticky-compromise"
      },
      "source": [
        "# Cancer cells classification based on multifractal dimension"
      ]
    },
    {
      "cell_type": "markdown",
      "id": "lHB0YsS_a0f4",
      "metadata": {
        "id": "lHB0YsS_a0f4"
      },
      "source": [
        "# Install non default packages"
      ]
    },
    {
      "cell_type": "code",
      "execution_count": 1,
      "id": "Q0N6LX9Sa7Pq",
      "metadata": {
        "id": "Q0N6LX9Sa7Pq",
        "colab": {
          "base_uri": "https://localhost:8080/",
          "height": 1000
        },
        "outputId": "bcd392c6-3ff4-4372-d3a7-3a28ec2077c5"
      },
      "outputs": [
        {
          "output_type": "stream",
          "name": "stdout",
          "text": [
            "Found existing installation: scikit-learn 1.0.2\n",
            "Uninstalling scikit-learn-1.0.2:\n",
            "  Successfully uninstalled scikit-learn-1.0.2\n",
            "Looking in indexes: https://pypi.org/simple, https://us-python.pkg.dev/colab-wheels/public/simple/\n",
            "Collecting scikit-learn\n",
            "  Downloading scikit_learn-1.0.2-cp37-cp37m-manylinux_2_17_x86_64.manylinux2014_x86_64.whl (24.8 MB)\n",
            "\u001b[K     |████████████████████████████████| 24.8 MB 1.9 MB/s \n",
            "\u001b[?25hRequirement already satisfied: scipy>=1.1.0 in /usr/local/lib/python3.7/dist-packages (from scikit-learn) (1.4.1)\n",
            "Requirement already satisfied: joblib>=0.11 in /usr/local/lib/python3.7/dist-packages (from scikit-learn) (1.1.0)\n",
            "Requirement already satisfied: numpy>=1.14.6 in /usr/local/lib/python3.7/dist-packages (from scikit-learn) (1.21.6)\n",
            "Requirement already satisfied: threadpoolctl>=2.0.0 in /usr/local/lib/python3.7/dist-packages (from scikit-learn) (3.1.0)\n",
            "Installing collected packages: scikit-learn\n",
            "Successfully installed scikit-learn-1.0.2\n",
            "Looking in indexes: https://pypi.org/simple, https://us-python.pkg.dev/colab-wheels/public/simple/\n",
            "Collecting lazypredict\n",
            "  Downloading lazypredict-0.2.9-py2.py3-none-any.whl (12 kB)\n",
            "Requirement already satisfied: click==7.1.2 in /usr/local/lib/python3.7/dist-packages (from lazypredict) (7.1.2)\n",
            "Collecting joblib==1.0.0\n",
            "  Downloading joblib-1.0.0-py3-none-any.whl (302 kB)\n",
            "\u001b[K     |████████████████████████████████| 302 kB 6.9 MB/s \n",
            "\u001b[?25hCollecting PyYAML==5.3.1\n",
            "  Downloading PyYAML-5.3.1.tar.gz (269 kB)\n",
            "\u001b[K     |████████████████████████████████| 269 kB 47.4 MB/s \n",
            "\u001b[?25hCollecting xgboost==1.1.1\n",
            "  Downloading xgboost-1.1.1-py3-none-manylinux2010_x86_64.whl (127.6 MB)\n",
            "\u001b[K     |████████████████████████████████| 127.6 MB 19 kB/s \n",
            "\u001b[?25hRequirement already satisfied: six==1.15.0 in /usr/local/lib/python3.7/dist-packages (from lazypredict) (1.15.0)\n",
            "Collecting lightgbm==2.3.1\n",
            "  Downloading lightgbm-2.3.1-py2.py3-none-manylinux1_x86_64.whl (1.2 MB)\n",
            "\u001b[K     |████████████████████████████████| 1.2 MB 36.0 MB/s \n",
            "\u001b[?25hCollecting pytest==5.4.3\n",
            "  Downloading pytest-5.4.3-py3-none-any.whl (248 kB)\n",
            "\u001b[K     |████████████████████████████████| 248 kB 69.3 MB/s \n",
            "\u001b[?25hCollecting tqdm==4.56.0\n",
            "  Downloading tqdm-4.56.0-py2.py3-none-any.whl (72 kB)\n",
            "\u001b[K     |████████████████████████████████| 72 kB 1.2 MB/s \n",
            "\u001b[?25hCollecting scikit-learn==0.23.1\n",
            "  Downloading scikit_learn-0.23.1-cp37-cp37m-manylinux1_x86_64.whl (6.8 MB)\n",
            "\u001b[K     |████████████████████████████████| 6.8 MB 18.5 MB/s \n",
            "\u001b[?25hCollecting scipy==1.5.4\n",
            "  Downloading scipy-1.5.4-cp37-cp37m-manylinux1_x86_64.whl (25.9 MB)\n",
            "\u001b[K     |████████████████████████████████| 25.9 MB 70.3 MB/s \n",
            "\u001b[?25hCollecting pandas==1.0.5\n",
            "  Downloading pandas-1.0.5-cp37-cp37m-manylinux1_x86_64.whl (10.1 MB)\n",
            "\u001b[K     |████████████████████████████████| 10.1 MB 17.1 MB/s \n",
            "\u001b[?25hCollecting numpy==1.19.1\n",
            "  Downloading numpy-1.19.1-cp37-cp37m-manylinux2010_x86_64.whl (14.5 MB)\n",
            "\u001b[K     |████████████████████████████████| 14.5 MB 11.7 MB/s \n",
            "\u001b[?25hRequirement already satisfied: pytz>=2017.2 in /usr/local/lib/python3.7/dist-packages (from pandas==1.0.5->lazypredict) (2022.1)\n",
            "Requirement already satisfied: python-dateutil>=2.6.1 in /usr/local/lib/python3.7/dist-packages (from pandas==1.0.5->lazypredict) (2.8.2)\n",
            "Requirement already satisfied: py>=1.5.0 in /usr/local/lib/python3.7/dist-packages (from pytest==5.4.3->lazypredict) (1.11.0)\n",
            "Requirement already satisfied: packaging in /usr/local/lib/python3.7/dist-packages (from pytest==5.4.3->lazypredict) (21.3)\n",
            "Requirement already satisfied: attrs>=17.4.0 in /usr/local/lib/python3.7/dist-packages (from pytest==5.4.3->lazypredict) (21.4.0)\n",
            "Requirement already satisfied: more-itertools>=4.0.0 in /usr/local/lib/python3.7/dist-packages (from pytest==5.4.3->lazypredict) (8.13.0)\n",
            "Requirement already satisfied: importlib-metadata>=0.12 in /usr/local/lib/python3.7/dist-packages (from pytest==5.4.3->lazypredict) (4.11.4)\n",
            "Collecting pluggy<1.0,>=0.12\n",
            "  Downloading pluggy-0.13.1-py2.py3-none-any.whl (18 kB)\n",
            "Requirement already satisfied: wcwidth in /usr/local/lib/python3.7/dist-packages (from pytest==5.4.3->lazypredict) (0.2.5)\n",
            "Requirement already satisfied: threadpoolctl>=2.0.0 in /usr/local/lib/python3.7/dist-packages (from scikit-learn==0.23.1->lazypredict) (3.1.0)\n",
            "Requirement already satisfied: typing-extensions>=3.6.4 in /usr/local/lib/python3.7/dist-packages (from importlib-metadata>=0.12->pytest==5.4.3->lazypredict) (4.1.1)\n",
            "Requirement already satisfied: zipp>=0.5 in /usr/local/lib/python3.7/dist-packages (from importlib-metadata>=0.12->pytest==5.4.3->lazypredict) (3.8.0)\n",
            "Requirement already satisfied: pyparsing!=3.0.5,>=2.0.2 in /usr/local/lib/python3.7/dist-packages (from packaging->pytest==5.4.3->lazypredict) (3.0.9)\n",
            "Building wheels for collected packages: PyYAML\n",
            "  Building wheel for PyYAML (setup.py) ... \u001b[?25l\u001b[?25hdone\n",
            "  Created wheel for PyYAML: filename=PyYAML-5.3.1-cp37-cp37m-linux_x86_64.whl size=44636 sha256=25455a93e9537f09c41a116d31804382df039374ada5000047ddd8441bcca813\n",
            "  Stored in directory: /root/.cache/pip/wheels/5e/03/1e/e1e954795d6f35dfc7b637fe2277bff021303bd9570ecea653\n",
            "Successfully built PyYAML\n",
            "Installing collected packages: numpy, scipy, joblib, scikit-learn, pluggy, xgboost, tqdm, PyYAML, pytest, pandas, lightgbm, lazypredict\n",
            "  Attempting uninstall: numpy\n",
            "    Found existing installation: numpy 1.21.6\n",
            "    Uninstalling numpy-1.21.6:\n",
            "      Successfully uninstalled numpy-1.21.6\n",
            "  Attempting uninstall: scipy\n",
            "    Found existing installation: scipy 1.4.1\n",
            "    Uninstalling scipy-1.4.1:\n",
            "      Successfully uninstalled scipy-1.4.1\n",
            "  Attempting uninstall: joblib\n",
            "    Found existing installation: joblib 1.1.0\n",
            "    Uninstalling joblib-1.1.0:\n",
            "      Successfully uninstalled joblib-1.1.0\n",
            "  Attempting uninstall: scikit-learn\n",
            "    Found existing installation: scikit-learn 1.0.2\n",
            "    Uninstalling scikit-learn-1.0.2:\n",
            "      Successfully uninstalled scikit-learn-1.0.2\n",
            "  Attempting uninstall: pluggy\n",
            "    Found existing installation: pluggy 0.7.1\n",
            "    Uninstalling pluggy-0.7.1:\n",
            "      Successfully uninstalled pluggy-0.7.1\n",
            "  Attempting uninstall: xgboost\n",
            "    Found existing installation: xgboost 0.90\n",
            "    Uninstalling xgboost-0.90:\n",
            "      Successfully uninstalled xgboost-0.90\n",
            "  Attempting uninstall: tqdm\n",
            "    Found existing installation: tqdm 4.64.0\n",
            "    Uninstalling tqdm-4.64.0:\n",
            "      Successfully uninstalled tqdm-4.64.0\n",
            "  Attempting uninstall: PyYAML\n",
            "    Found existing installation: PyYAML 3.13\n",
            "    Uninstalling PyYAML-3.13:\n",
            "      Successfully uninstalled PyYAML-3.13\n",
            "  Attempting uninstall: pytest\n",
            "    Found existing installation: pytest 3.6.4\n",
            "    Uninstalling pytest-3.6.4:\n",
            "      Successfully uninstalled pytest-3.6.4\n",
            "  Attempting uninstall: pandas\n",
            "    Found existing installation: pandas 1.3.5\n",
            "    Uninstalling pandas-1.3.5:\n",
            "      Successfully uninstalled pandas-1.3.5\n",
            "  Attempting uninstall: lightgbm\n",
            "    Found existing installation: lightgbm 2.2.3\n",
            "    Uninstalling lightgbm-2.2.3:\n",
            "      Successfully uninstalled lightgbm-2.2.3\n",
            "\u001b[31mERROR: pip's dependency resolver does not currently take into account all the packages that are installed. This behaviour is the source of the following dependency conflicts.\n",
            "yellowbrick 1.4 requires scikit-learn>=1.0.0, but you have scikit-learn 0.23.1 which is incompatible.\n",
            "xarray 0.20.2 requires pandas>=1.1, but you have pandas 1.0.5 which is incompatible.\n",
            "xarray-einstats 0.2.2 requires numpy>=1.21, but you have numpy 1.19.1 which is incompatible.\n",
            "tensorflow 2.8.2+zzzcolab20220527125636 requires numpy>=1.20, but you have numpy 1.19.1 which is incompatible.\n",
            "imbalanced-learn 0.8.1 requires scikit-learn>=0.24, but you have scikit-learn 0.23.1 which is incompatible.\n",
            "google-colab 1.0.0 requires pandas>=1.1.0; python_version >= \"3.0\", but you have pandas 1.0.5 which is incompatible.\n",
            "datascience 0.10.6 requires folium==0.2.1, but you have folium 0.8.3 which is incompatible.\n",
            "albumentations 0.1.12 requires imgaug<0.2.7,>=0.2.5, but you have imgaug 0.2.9 which is incompatible.\u001b[0m\n",
            "Successfully installed PyYAML-5.3.1 joblib-1.0.0 lazypredict-0.2.9 lightgbm-2.3.1 numpy-1.19.1 pandas-1.0.5 pluggy-0.13.1 pytest-5.4.3 scikit-learn-0.23.1 scipy-1.5.4 tqdm-4.56.0 xgboost-1.1.1\n"
          ]
        },
        {
          "output_type": "display_data",
          "data": {
            "application/vnd.colab-display-data+json": {
              "pip_warning": {
                "packages": [
                  "numpy"
                ]
              }
            }
          },
          "metadata": {}
        }
      ],
      "source": [
        "!pip uninstall scikit-learn -y\n",
        "!pip install -U scikit-learn\n",
        "!pip install -U lazypredict"
      ]
    },
    {
      "cell_type": "markdown",
      "id": "concrete-airport",
      "metadata": {
        "id": "concrete-airport"
      },
      "source": [
        "# Import packages"
      ]
    },
    {
      "cell_type": "code",
      "execution_count": 30,
      "id": "hollywood-monitoring",
      "metadata": {
        "id": "hollywood-monitoring"
      },
      "outputs": [],
      "source": [
        "import os\n",
        "import sys\n",
        "\n",
        "# Basic plotting\n",
        "import numpy as np\n",
        "#import cv2\n",
        "import pylab as pl\n",
        "from matplotlib import pyplot as plt\n",
        "\n",
        "# Basic data base management and statistical tools\n",
        "import pandas as pd\n",
        "#import seaborn as sns\n",
        "\n",
        "# Classification tools\n",
        "from sklearn.model_selection import train_test_split\n",
        "\n",
        "# Classification models\n",
        "from sklearn.dummy import DummyClassifier\n",
        "from sklearn.linear_model import LogisticRegression\n",
        "#from sklearn.linear_model import LinearRegression\n",
        "from sklearn.neural_network import MLPClassifier\n",
        "from sklearn.naive_bayes import GaussianNB\n",
        "#from sklearn.gaussian_process import GaussianProcessClassifier\n",
        "#from sklearn.svm import SVC\n",
        "from sklearn.tree import DecisionTreeClassifier\n",
        "from sklearn.ensemble import RandomForestClassifier\n",
        "from sklearn.neighbors import KNeighborsClassifier\n",
        "\n",
        "# Cross-validation\n",
        "from sklearn.model_selection import cross_val_score\n",
        "from sklearn.model_selection import ShuffleSplit\n",
        "from sklearn.model_selection import LeaveOneOut\n",
        "\n",
        "# Metrics and tools\n",
        "from sklearn import preprocessing\n",
        "# Metrics (accuracy, precision, recall, F_beta, AUC)\n",
        "from sklearn import metrics\n",
        "# Get the time for each classifier\n",
        "from time import time\n",
        "\n",
        "# Manage unbalance data\n",
        "from imblearn.under_sampling import RandomUnderSampler\n",
        "from sklearn.model_selection import train_test_split\n",
        "from collections import Counter\n",
        "\n",
        "# Visualization\n",
        "from sklearn import tree\n",
        "\n",
        "# AutoML\n",
        "#import autosklearn.classification\n",
        "from lazypredict.Supervised import LazyClassifier"
      ]
    },
    {
      "cell_type": "markdown",
      "id": "ThcXctvkgiSa",
      "metadata": {
        "id": "ThcXctvkgiSa"
      },
      "source": [
        "# Load data"
      ]
    },
    {
      "cell_type": "markdown",
      "id": "53c48b4e",
      "metadata": {
        "id": "53c48b4e"
      },
      "source": [
        "## Load from local device (not used in colab)"
      ]
    },
    {
      "cell_type": "code",
      "execution_count": null,
      "id": "0cd3e665",
      "metadata": {
        "id": "0cd3e665"
      },
      "outputs": [],
      "source": [
        "#df = pd.read_csv('../data/csvfile_all.csv')\n",
        "#df = pd.read_csv('../data/csv_files/02_csv_06052021/csvfile_all.csv')\n",
        "#df = pd.read_csv('../data/csv_files/03_csv_files_bc_p23/csvfile_all.csv')\n",
        "#df = pd.read_csv('../data/csv_files/04_csv_files_bc_p456/csvfile_all.csv')\n",
        "#df = pd.read_csv('../data/csv_files/05_csv_files_seg_bc234/csvfile_all.csv')\n",
        "#df = pd.read_csv('../data/csv_files/06_csv_files_heq_seg_bc234_log/csvfile_all.csv')\n",
        "#df = pd.read_csv('../data/csv_files/07_csv_files_heq_segthadapt_bc234_log/csvfile_all.csv')"
      ]
    },
    {
      "cell_type": "markdown",
      "id": "xrmnN3atrk3B",
      "metadata": {
        "id": "xrmnN3atrk3B"
      },
      "source": [
        "## Load to Google Drive from local file system using Python code (not used in colab)"
      ]
    },
    {
      "cell_type": "code",
      "execution_count": null,
      "id": "1NSKYkXfrzC2",
      "metadata": {
        "id": "1NSKYkXfrzC2"
      },
      "outputs": [],
      "source": [
        "#from google.colab import files\n",
        "#uploaded = files.upload()"
      ]
    },
    {
      "cell_type": "markdown",
      "id": "d13ae963",
      "metadata": {
        "id": "d13ae963"
      },
      "source": [
        "### Load data"
      ]
    },
    {
      "cell_type": "code",
      "execution_count": null,
      "id": "-sW7aToesHTs",
      "metadata": {
        "id": "-sW7aToesHTs"
      },
      "outputs": [],
      "source": [
        "#df = pd.read_csv('csvfile_all.csv')"
      ]
    },
    {
      "cell_type": "markdown",
      "id": "efcfca5f",
      "metadata": {
        "id": "efcfca5f"
      },
      "source": [
        "## Load from Google Drive (used in colab)"
      ]
    },
    {
      "cell_type": "markdown",
      "id": "e2c52917",
      "metadata": {
        "id": "e2c52917"
      },
      "source": [
        "### Mount Google Drive"
      ]
    },
    {
      "cell_type": "code",
      "execution_count": 2,
      "id": "PJF_G_KlgoTL",
      "metadata": {
        "id": "PJF_G_KlgoTL",
        "colab": {
          "base_uri": "https://localhost:8080/"
        },
        "outputId": "86e69cfa-c71b-494d-ed82-9c2df4814cca"
      },
      "outputs": [
        {
          "output_type": "stream",
          "name": "stdout",
          "text": [
            "Mounted at /content/gdrive\n"
          ]
        }
      ],
      "source": [
        "from google.colab import drive\n",
        "drive.mount('/content/gdrive')"
      ]
    },
    {
      "cell_type": "markdown",
      "id": "centered-wright",
      "metadata": {
        "id": "centered-wright"
      },
      "source": [
        "### Where are we? (current path)"
      ]
    },
    {
      "cell_type": "code",
      "execution_count": null,
      "id": "unlikely-netscape",
      "metadata": {
        "id": "unlikely-netscape"
      },
      "outputs": [],
      "source": [
        "#!pwd"
      ]
    },
    {
      "cell_type": "markdown",
      "id": "robust-rabbit",
      "metadata": {
        "id": "robust-rabbit"
      },
      "source": [
        "### Load data from Google Drive"
      ]
    },
    {
      "cell_type": "code",
      "execution_count": 3,
      "id": "governing-reference",
      "metadata": {
        "id": "governing-reference"
      },
      "outputs": [],
      "source": [
        "df = pd.read_csv('/content/gdrive/MyDrive/Colab Notebooks/dataset/cancer/csv_files/06_csv_files_heq_seg__bc_234_log/csvfile_all.csv')"
      ]
    },
    {
      "cell_type": "markdown",
      "id": "kuYAdMJgnP2g",
      "metadata": {
        "id": "kuYAdMJgnP2g"
      },
      "source": [
        "# Output dataframe"
      ]
    },
    {
      "cell_type": "code",
      "execution_count": 31,
      "id": "comfortable-equilibrium",
      "metadata": {
        "id": "comfortable-equilibrium",
        "colab": {
          "base_uri": "https://localhost:8080/",
          "height": 424
        },
        "outputId": "65bed1d1-f659-4927-d9fe-e3631c9652e5"
      },
      "outputs": [
        {
          "output_type": "execute_result",
          "data": {
            "text/plain": [
              "      index                                               path  \\\n",
              "0         0  ./BreaKHis_v1/histology_slides/breast/malignan...   \n",
              "1         1  ./BreaKHis_v1/histology_slides/breast/malignan...   \n",
              "2         2  ./BreaKHis_v1/histology_slides/breast/malignan...   \n",
              "3         3  ./BreaKHis_v1/histology_slides/breast/malignan...   \n",
              "4         4  ./BreaKHis_v1/histology_slides/breast/malignan...   \n",
              "...     ...                                                ...   \n",
              "7904   7904  ./BreaKHis_v1/histology_slides/breast/benign/S...   \n",
              "7905   7905  ./BreaKHis_v1/histology_slides/breast/benign/S...   \n",
              "7906   7906  ./BreaKHis_v1/histology_slides/breast/benign/S...   \n",
              "7907   7907  ./BreaKHis_v1/histology_slides/breast/benign/S...   \n",
              "7908   7908  ./BreaKHis_v1/histology_slides/breast/benign/S...   \n",
              "\n",
              "                           image_name  magnification  fd_canny_100_200  \\\n",
              "0      SOB_M_MC-14-13418DE-40-010.png             40              1.20   \n",
              "1      SOB_M_MC-14-13418DE-40-012.png             40              1.16   \n",
              "2     SOB_M_MC-14-13418DE-400-011.png            400              1.10   \n",
              "3     SOB_M_MC-14-13418DE-400-005.png            400              1.07   \n",
              "4     SOB_M_MC-14-13418DE-200-008.png            200              1.04   \n",
              "...                               ...            ...               ...   \n",
              "7904    SOB_B_TA-14-16184-200-025.png            200              1.00   \n",
              "7905    SOB_B_TA-14-16184-100-024.png            100              1.04   \n",
              "7906    SOB_B_TA-14-16184-100-015.png            100              1.05   \n",
              "7907    SOB_B_TA-14-16184-100-030.png            100              1.04   \n",
              "7908    SOB_B_TA-14-16184-100-028.png            100              1.03   \n",
              "\n",
              "      fd_canny_150_250_as5 tumor_class tumor_type slide_id  \n",
              "0                     1.29           M         MC  13418DE  \n",
              "1                     1.25           M         MC  13418DE  \n",
              "2                     1.15           M         MC  13418DE  \n",
              "3                     1.12           M         MC  13418DE  \n",
              "4                     1.09           M         MC  13418DE  \n",
              "...                    ...         ...        ...      ...  \n",
              "7904                  1.07           B         TA    16184  \n",
              "7905                  1.09           B         TA    16184  \n",
              "7906                  1.10           B         TA    16184  \n",
              "7907                  1.10           B         TA    16184  \n",
              "7908                  1.08           B         TA    16184  \n",
              "\n",
              "[7909 rows x 9 columns]"
            ],
            "text/html": [
              "\n",
              "  <div id=\"df-1ce0713d-53e5-47de-9ce3-73ba5011391d\">\n",
              "    <div class=\"colab-df-container\">\n",
              "      <div>\n",
              "<style scoped>\n",
              "    .dataframe tbody tr th:only-of-type {\n",
              "        vertical-align: middle;\n",
              "    }\n",
              "\n",
              "    .dataframe tbody tr th {\n",
              "        vertical-align: top;\n",
              "    }\n",
              "\n",
              "    .dataframe thead th {\n",
              "        text-align: right;\n",
              "    }\n",
              "</style>\n",
              "<table border=\"1\" class=\"dataframe\">\n",
              "  <thead>\n",
              "    <tr style=\"text-align: right;\">\n",
              "      <th></th>\n",
              "      <th>index</th>\n",
              "      <th>path</th>\n",
              "      <th>image_name</th>\n",
              "      <th>magnification</th>\n",
              "      <th>fd_canny_100_200</th>\n",
              "      <th>fd_canny_150_250_as5</th>\n",
              "      <th>tumor_class</th>\n",
              "      <th>tumor_type</th>\n",
              "      <th>slide_id</th>\n",
              "    </tr>\n",
              "  </thead>\n",
              "  <tbody>\n",
              "    <tr>\n",
              "      <th>0</th>\n",
              "      <td>0</td>\n",
              "      <td>./BreaKHis_v1/histology_slides/breast/malignan...</td>\n",
              "      <td>SOB_M_MC-14-13418DE-40-010.png</td>\n",
              "      <td>40</td>\n",
              "      <td>1.20</td>\n",
              "      <td>1.29</td>\n",
              "      <td>M</td>\n",
              "      <td>MC</td>\n",
              "      <td>13418DE</td>\n",
              "    </tr>\n",
              "    <tr>\n",
              "      <th>1</th>\n",
              "      <td>1</td>\n",
              "      <td>./BreaKHis_v1/histology_slides/breast/malignan...</td>\n",
              "      <td>SOB_M_MC-14-13418DE-40-012.png</td>\n",
              "      <td>40</td>\n",
              "      <td>1.16</td>\n",
              "      <td>1.25</td>\n",
              "      <td>M</td>\n",
              "      <td>MC</td>\n",
              "      <td>13418DE</td>\n",
              "    </tr>\n",
              "    <tr>\n",
              "      <th>2</th>\n",
              "      <td>2</td>\n",
              "      <td>./BreaKHis_v1/histology_slides/breast/malignan...</td>\n",
              "      <td>SOB_M_MC-14-13418DE-400-011.png</td>\n",
              "      <td>400</td>\n",
              "      <td>1.10</td>\n",
              "      <td>1.15</td>\n",
              "      <td>M</td>\n",
              "      <td>MC</td>\n",
              "      <td>13418DE</td>\n",
              "    </tr>\n",
              "    <tr>\n",
              "      <th>3</th>\n",
              "      <td>3</td>\n",
              "      <td>./BreaKHis_v1/histology_slides/breast/malignan...</td>\n",
              "      <td>SOB_M_MC-14-13418DE-400-005.png</td>\n",
              "      <td>400</td>\n",
              "      <td>1.07</td>\n",
              "      <td>1.12</td>\n",
              "      <td>M</td>\n",
              "      <td>MC</td>\n",
              "      <td>13418DE</td>\n",
              "    </tr>\n",
              "    <tr>\n",
              "      <th>4</th>\n",
              "      <td>4</td>\n",
              "      <td>./BreaKHis_v1/histology_slides/breast/malignan...</td>\n",
              "      <td>SOB_M_MC-14-13418DE-200-008.png</td>\n",
              "      <td>200</td>\n",
              "      <td>1.04</td>\n",
              "      <td>1.09</td>\n",
              "      <td>M</td>\n",
              "      <td>MC</td>\n",
              "      <td>13418DE</td>\n",
              "    </tr>\n",
              "    <tr>\n",
              "      <th>...</th>\n",
              "      <td>...</td>\n",
              "      <td>...</td>\n",
              "      <td>...</td>\n",
              "      <td>...</td>\n",
              "      <td>...</td>\n",
              "      <td>...</td>\n",
              "      <td>...</td>\n",
              "      <td>...</td>\n",
              "      <td>...</td>\n",
              "    </tr>\n",
              "    <tr>\n",
              "      <th>7904</th>\n",
              "      <td>7904</td>\n",
              "      <td>./BreaKHis_v1/histology_slides/breast/benign/S...</td>\n",
              "      <td>SOB_B_TA-14-16184-200-025.png</td>\n",
              "      <td>200</td>\n",
              "      <td>1.00</td>\n",
              "      <td>1.07</td>\n",
              "      <td>B</td>\n",
              "      <td>TA</td>\n",
              "      <td>16184</td>\n",
              "    </tr>\n",
              "    <tr>\n",
              "      <th>7905</th>\n",
              "      <td>7905</td>\n",
              "      <td>./BreaKHis_v1/histology_slides/breast/benign/S...</td>\n",
              "      <td>SOB_B_TA-14-16184-100-024.png</td>\n",
              "      <td>100</td>\n",
              "      <td>1.04</td>\n",
              "      <td>1.09</td>\n",
              "      <td>B</td>\n",
              "      <td>TA</td>\n",
              "      <td>16184</td>\n",
              "    </tr>\n",
              "    <tr>\n",
              "      <th>7906</th>\n",
              "      <td>7906</td>\n",
              "      <td>./BreaKHis_v1/histology_slides/breast/benign/S...</td>\n",
              "      <td>SOB_B_TA-14-16184-100-015.png</td>\n",
              "      <td>100</td>\n",
              "      <td>1.05</td>\n",
              "      <td>1.10</td>\n",
              "      <td>B</td>\n",
              "      <td>TA</td>\n",
              "      <td>16184</td>\n",
              "    </tr>\n",
              "    <tr>\n",
              "      <th>7907</th>\n",
              "      <td>7907</td>\n",
              "      <td>./BreaKHis_v1/histology_slides/breast/benign/S...</td>\n",
              "      <td>SOB_B_TA-14-16184-100-030.png</td>\n",
              "      <td>100</td>\n",
              "      <td>1.04</td>\n",
              "      <td>1.10</td>\n",
              "      <td>B</td>\n",
              "      <td>TA</td>\n",
              "      <td>16184</td>\n",
              "    </tr>\n",
              "    <tr>\n",
              "      <th>7908</th>\n",
              "      <td>7908</td>\n",
              "      <td>./BreaKHis_v1/histology_slides/breast/benign/S...</td>\n",
              "      <td>SOB_B_TA-14-16184-100-028.png</td>\n",
              "      <td>100</td>\n",
              "      <td>1.03</td>\n",
              "      <td>1.08</td>\n",
              "      <td>B</td>\n",
              "      <td>TA</td>\n",
              "      <td>16184</td>\n",
              "    </tr>\n",
              "  </tbody>\n",
              "</table>\n",
              "<p>7909 rows × 9 columns</p>\n",
              "</div>\n",
              "      <button class=\"colab-df-convert\" onclick=\"convertToInteractive('df-1ce0713d-53e5-47de-9ce3-73ba5011391d')\"\n",
              "              title=\"Convert this dataframe to an interactive table.\"\n",
              "              style=\"display:none;\">\n",
              "        \n",
              "  <svg xmlns=\"http://www.w3.org/2000/svg\" height=\"24px\"viewBox=\"0 0 24 24\"\n",
              "       width=\"24px\">\n",
              "    <path d=\"M0 0h24v24H0V0z\" fill=\"none\"/>\n",
              "    <path d=\"M18.56 5.44l.94 2.06.94-2.06 2.06-.94-2.06-.94-.94-2.06-.94 2.06-2.06.94zm-11 1L8.5 8.5l.94-2.06 2.06-.94-2.06-.94L8.5 2.5l-.94 2.06-2.06.94zm10 10l.94 2.06.94-2.06 2.06-.94-2.06-.94-.94-2.06-.94 2.06-2.06.94z\"/><path d=\"M17.41 7.96l-1.37-1.37c-.4-.4-.92-.59-1.43-.59-.52 0-1.04.2-1.43.59L10.3 9.45l-7.72 7.72c-.78.78-.78 2.05 0 2.83L4 21.41c.39.39.9.59 1.41.59.51 0 1.02-.2 1.41-.59l7.78-7.78 2.81-2.81c.8-.78.8-2.07 0-2.86zM5.41 20L4 18.59l7.72-7.72 1.47 1.35L5.41 20z\"/>\n",
              "  </svg>\n",
              "      </button>\n",
              "      \n",
              "  <style>\n",
              "    .colab-df-container {\n",
              "      display:flex;\n",
              "      flex-wrap:wrap;\n",
              "      gap: 12px;\n",
              "    }\n",
              "\n",
              "    .colab-df-convert {\n",
              "      background-color: #E8F0FE;\n",
              "      border: none;\n",
              "      border-radius: 50%;\n",
              "      cursor: pointer;\n",
              "      display: none;\n",
              "      fill: #1967D2;\n",
              "      height: 32px;\n",
              "      padding: 0 0 0 0;\n",
              "      width: 32px;\n",
              "    }\n",
              "\n",
              "    .colab-df-convert:hover {\n",
              "      background-color: #E2EBFA;\n",
              "      box-shadow: 0px 1px 2px rgba(60, 64, 67, 0.3), 0px 1px 3px 1px rgba(60, 64, 67, 0.15);\n",
              "      fill: #174EA6;\n",
              "    }\n",
              "\n",
              "    [theme=dark] .colab-df-convert {\n",
              "      background-color: #3B4455;\n",
              "      fill: #D2E3FC;\n",
              "    }\n",
              "\n",
              "    [theme=dark] .colab-df-convert:hover {\n",
              "      background-color: #434B5C;\n",
              "      box-shadow: 0px 1px 3px 1px rgba(0, 0, 0, 0.15);\n",
              "      filter: drop-shadow(0px 1px 2px rgba(0, 0, 0, 0.3));\n",
              "      fill: #FFFFFF;\n",
              "    }\n",
              "  </style>\n",
              "\n",
              "      <script>\n",
              "        const buttonEl =\n",
              "          document.querySelector('#df-1ce0713d-53e5-47de-9ce3-73ba5011391d button.colab-df-convert');\n",
              "        buttonEl.style.display =\n",
              "          google.colab.kernel.accessAllowed ? 'block' : 'none';\n",
              "\n",
              "        async function convertToInteractive(key) {\n",
              "          const element = document.querySelector('#df-1ce0713d-53e5-47de-9ce3-73ba5011391d');\n",
              "          const dataTable =\n",
              "            await google.colab.kernel.invokeFunction('convertToInteractive',\n",
              "                                                     [key], {});\n",
              "          if (!dataTable) return;\n",
              "\n",
              "          const docLinkHtml = 'Like what you see? Visit the ' +\n",
              "            '<a target=\"_blank\" href=https://colab.research.google.com/notebooks/data_table.ipynb>data table notebook</a>'\n",
              "            + ' to learn more about interactive tables.';\n",
              "          element.innerHTML = '';\n",
              "          dataTable['output_type'] = 'display_data';\n",
              "          await google.colab.output.renderOutput(dataTable, element);\n",
              "          const docLink = document.createElement('div');\n",
              "          docLink.innerHTML = docLinkHtml;\n",
              "          element.appendChild(docLink);\n",
              "        }\n",
              "      </script>\n",
              "    </div>\n",
              "  </div>\n",
              "  "
            ]
          },
          "metadata": {},
          "execution_count": 31
        }
      ],
      "source": [
        "# Output the data frame\n",
        "df"
      ]
    },
    {
      "cell_type": "markdown",
      "id": "southwest-madagascar",
      "metadata": {
        "id": "southwest-madagascar"
      },
      "source": [
        "# Pre-process data frames\n",
        "1. Get the number of registers prior to pre-processing\n",
        "2. Drop 'NaN' entries\n",
        "3. Drop duplicates\n",
        "4. Get the final number of registers post pre-processing"
      ]
    },
    {
      "cell_type": "code",
      "execution_count": 5,
      "id": "eligible-welsh",
      "metadata": {
        "id": "eligible-welsh",
        "colab": {
          "base_uri": "https://localhost:8080/"
        },
        "outputId": "f77331fc-9685-4bac-ab5d-85a71bb5cda3"
      },
      "outputs": [
        {
          "output_type": "stream",
          "name": "stdout",
          "text": [
            "Number of registers prior pre-processing (7909, 8)\n",
            "Number of registers post pre-processing (7909, 8)\n"
          ]
        }
      ],
      "source": [
        "# Get the number of registers\n",
        "n_registers_prior_preprocessing = df.shape\n",
        "# Drop 'NaN' entries\n",
        "df = df.dropna()\n",
        "# Drop duplicates\n",
        "df = df.drop_duplicates()\n",
        "# Drop the column called unnamed, do the operation \"inplace\", that means in the same DataFrame, and remove the \"axis=1\", that means the column, not the row\n",
        "#df.drop(\"0\", inplace = True, axis = 1)#disp = metrics.ConfusionMatrixDisplay(confusion_matrix=cm, display_labels=estimator.classes_)\n",
        "#disp.plot()\n",
        "#plt.title(\"Confusion matrix\")\n",
        "#plt.figure(figsize=(10,10))\n",
        "#plt.show()\n",
        "#df = df.reset_index()\n",
        "n_registers_post_preprocessing = df.shape\n",
        "print(f\"Number of registers prior pre-processing {n_registers_prior_preprocessing}\")\n",
        "print(f\"Number of registers post pre-processing {n_registers_post_preprocessing}\")"
      ]
    },
    {
      "cell_type": "markdown",
      "id": "fGb_6tws7RTD",
      "metadata": {
        "id": "fGb_6tws7RTD"
      },
      "source": [
        "# Get information about the dataset\n",
        "* Number of samples for each tumor class or tumor type\n",
        "\n",
        "* Tumor type\n",
        "\n",
        "  * A = Adenosis\n",
        "  * F = Fibroadenoma\n",
        "  * TA = Tubular Adenoma\n",
        "  * PT = Phyllodes Tumor\n",
        "\n",
        "  * DC = Ductal Carcicoma\n",
        "  * LC = Lobular Carcicoma\n",
        "  * MC = Mucinous Carcicoma (Colloid)\n",
        "  * PC = Papillary Carcicoma\n",
        "\n",
        "* Tumor class\n",
        "\n",
        "  * B = Benign\n",
        "  * M = Malign\n"
      ]
    },
    {
      "cell_type": "code",
      "execution_count": 6,
      "id": "qLM_zlf-_k8u",
      "metadata": {
        "id": "qLM_zlf-_k8u",
        "colab": {
          "base_uri": "https://localhost:8080/"
        },
        "outputId": "b63e6816-0467-435b-a671-5150b8d426e7"
      },
      "outputs": [
        {
          "output_type": "stream",
          "name": "stdout",
          "text": [
            "Full dataset: Number of instances for each tumor type\n",
            "DC    3451\n",
            "F     1014\n",
            "MC     792\n",
            "LC     626\n",
            "TA     569\n",
            "PC     560\n",
            "PT     453\n",
            "A      444\n",
            "Name: tumor_type, dtype: int64\n",
            "\n",
            "Full dataset: Number of instances for each tumor class\n",
            "M    5429\n",
            "B    2480\n",
            "Name: tumor_class, dtype: int64\n",
            "\n",
            "\n",
            "40x dataset: describe()\n",
            "count     1995\n",
            "unique       8\n",
            "top         DC\n",
            "freq       864\n",
            "Name: tumor_type, dtype: object\n",
            "\n",
            "40x dataset: Number of instances for each tumor type\n",
            "DC    864\n",
            "F     253\n",
            "MC    205\n",
            "LC    156\n",
            "TA    149\n",
            "PC    145\n",
            "A     114\n",
            "PT    109\n",
            "Name: tumor_type, dtype: int64\n",
            "\n",
            "40x dataset: Number of instances for each tumor class\n",
            "M    1370\n",
            "B     625\n",
            "Name: tumor_class, dtype: int64\n",
            "\n",
            "\n",
            "100x dataset: describe()\n",
            "count     2081\n",
            "unique       8\n",
            "top         DC\n",
            "freq       903\n",
            "Name: tumor_type, dtype: object\n",
            "\n",
            "100x dataset: Number of instances for each tumor type\n",
            "DC    903\n",
            "F     260\n",
            "MC    222\n",
            "LC    170\n",
            "TA    150\n",
            "PC    142\n",
            "PT    121\n",
            "A     113\n",
            "Name: tumor_type, dtype: int64\n",
            "\n",
            "100x dataset: Number of instances for each tumor class\n",
            "M    1437\n",
            "B     644\n",
            "Name: tumor_class, dtype: int64\n",
            "\n",
            "\n",
            "200x dataset: describe()\n",
            "count     2013\n",
            "unique       8\n",
            "top         DC\n",
            "freq       896\n",
            "Name: tumor_type, dtype: object\n",
            "\n",
            "200x dataset: Number of instances for each tumor type\n",
            "DC    896\n",
            "F     264\n",
            "MC    196\n",
            "LC    163\n",
            "TA    140\n",
            "PC    135\n",
            "A     111\n",
            "PT    108\n",
            "Name: tumor_type, dtype: int64\n",
            "\n",
            "200x dataset: Number of instances for each tumor class\n",
            "M    1390\n",
            "B     623\n",
            "Name: tumor_class, dtype: int64\n",
            "\n",
            "\n",
            "400x dataset: describe()\n",
            "count     1820\n",
            "unique       8\n",
            "top         DC\n",
            "freq       788\n",
            "Name: tumor_type, dtype: object\n",
            "\n",
            "400x dataset: Number of instances for each tumor type\n",
            "DC    788\n",
            "F     237\n",
            "MC    169\n",
            "PC    138\n",
            "LC    137\n",
            "TA    130\n",
            "PT    115\n",
            "A     106\n",
            "Name: tumor_type, dtype: int64\n",
            "\n",
            "400x dataset: Number of instances for each tumor class\n",
            "M    1232\n",
            "B     588\n",
            "Name: tumor_class, dtype: int64\n"
          ]
        }
      ],
      "source": [
        "# Count the number of instances of each tumor type\n",
        "print(\"Full dataset: Number of instances for each tumor type\")\n",
        "print(df['tumor_type'].value_counts())\n",
        "\n",
        "# Count the number of instances of each tumor class\n",
        "print(\"\\nFull dataset: Number of instances for each tumor class\")\n",
        "print(df['tumor_class'].value_counts())\n",
        "\n",
        "# Create groups based on magnification\n",
        "groups_by_magnification = df.groupby('magnification')\n",
        "\n",
        "# Get the groups by magnification\n",
        "group_40x = groups_by_magnification.get_group(40)\n",
        "group_100x = groups_by_magnification.get_group(100)\n",
        "group_200x = groups_by_magnification.get_group(200)\n",
        "group_400x = groups_by_magnification.get_group(400)\n",
        "\n",
        "# Describe the sub-dataset\n",
        "print(\"\\n\\n40x dataset: describe()\")\n",
        "print(group_40x['tumor_type'].describe())\n",
        "# Get the number of instances of each tumor type for this magnification\n",
        "print(\"\\n40x dataset: Number of instances for each tumor type\")\n",
        "print(group_40x['tumor_type'].value_counts())\n",
        "# Get the number of instances of each tumor class for this magnification\n",
        "print(\"\\n40x dataset: Number of instances for each tumor class\")\n",
        "print(group_40x['tumor_class'].value_counts())\n",
        "\n",
        "# Describe the sub-dataset\n",
        "print(\"\\n\\n100x dataset: describe()\")\n",
        "print(group_100x['tumor_type'].describe())\n",
        "# Get the number of instances of each tumor type for this magnification\n",
        "print(\"\\n100x dataset: Number of instances for each tumor type\")\n",
        "print(group_100x['tumor_type'].value_counts())\n",
        "# Get the number of instances of each tumor class for this magnification\n",
        "print(\"\\n100x dataset: Number of instances for each tumor class\")\n",
        "print(group_100x['tumor_class'].value_counts())\n",
        "\n",
        "# Describe the sub-dataset\n",
        "print(\"\\n\\n200x dataset: describe()\")\n",
        "print(group_200x['tumor_type'].describe())\n",
        "# Get the number of instances of each tumor type for this magnification\n",
        "print(\"\\n200x dataset: Number of instances for each tumor type\")\n",
        "print(group_200x['tumor_type'].value_counts())\n",
        "# Get the number of instances of each tumor class for this magnification\n",
        "print(\"\\n200x dataset: Number of instances for each tumor class\")\n",
        "print(group_200x['tumor_class'].value_counts())\n",
        "\n",
        "# Describe the sub-dataset\n",
        "print(\"\\n\\n400x dataset: describe()\")\n",
        "print(group_400x['tumor_type'].describe())\n",
        "# Get the number of instances of each tumor type for this magnification\n",
        "print(\"\\n400x dataset: Number of instances for each tumor type\")\n",
        "print(group_400x['tumor_type'].value_counts())\n",
        "# Get the number of instances of each tumor class for this magnification\n",
        "print(\"\\n400x dataset: Number of instances for each tumor class\")\n",
        "print(group_400x['tumor_class'].value_counts())"
      ]
    },
    {
      "cell_type": "markdown",
      "id": "original-diameter",
      "metadata": {
        "id": "original-diameter"
      },
      "source": [
        "# Plot data as it is!!!"
      ]
    },
    {
      "cell_type": "markdown",
      "id": "14ed567c",
      "metadata": {
        "id": "14ed567c"
      },
      "source": [
        "## Print the name of the columns"
      ]
    },
    {
      "cell_type": "code",
      "execution_count": null,
      "id": "appreciated-welding",
      "metadata": {
        "id": "appreciated-welding"
      },
      "outputs": [],
      "source": [
        "print(df.columns)"
      ]
    },
    {
      "cell_type": "markdown",
      "id": "39759490",
      "metadata": {
        "id": "39759490"
      },
      "source": [
        "## Plot Image vs fd_canny_100_200"
      ]
    },
    {
      "cell_type": "code",
      "execution_count": null,
      "id": "remarkable-affect",
      "metadata": {
        "id": "remarkable-affect",
        "scrolled": true
      },
      "outputs": [],
      "source": [
        "ax1 = df.plot.scatter(x='index', y='fd_canny_100_200')"
      ]
    },
    {
      "cell_type": "markdown",
      "id": "b15e52d5",
      "metadata": {
        "id": "b15e52d5"
      },
      "source": [
        "## Plot Image vs fd_canny_150_250_as5"
      ]
    },
    {
      "cell_type": "code",
      "execution_count": null,
      "id": "a61bd338",
      "metadata": {
        "id": "a61bd338"
      },
      "outputs": [],
      "source": [
        "ax2 = df.plot.scatter(x='index', y='fd_canny_150_250_as5')"
      ]
    },
    {
      "cell_type": "markdown",
      "id": "aff7b193",
      "metadata": {
        "id": "aff7b193"
      },
      "source": [
        "## Plot fd_canny_100_200 vs fd_canny_150_250_as5"
      ]
    },
    {
      "cell_type": "code",
      "execution_count": null,
      "id": "2ae78b83",
      "metadata": {
        "id": "2ae78b83"
      },
      "outputs": [],
      "source": [
        "ax3 = df.plot.scatter(x='fd_canny_100_200', y='fd_canny_150_250_as5')\n",
        "#df.plot.scatter(x='index',y='magnification')"
      ]
    },
    {
      "cell_type": "markdown",
      "id": "copyrighted-transaction",
      "metadata": {
        "id": "copyrighted-transaction"
      },
      "source": [
        "# Strategy to create the new data frame\n",
        "\n",
        "1.   Extract the slide ID/patient ID and add it into the data frame\n",
        "2.   Split observations based on patients IDs/slides IDs\n",
        "3.   Split the patients sub-groups per magninfication\n",
        "4.   Create as many combinations as possible (memory constraints) by taking one element of each magnification sub-group\n",
        "5.   For each combination assign a tumor type and tumor class based on the patient IDs/slides IDs labels"
      ]
    },
    {
      "cell_type": "markdown",
      "id": "0e9e28c7",
      "metadata": {
        "id": "0e9e28c7"
      },
      "source": [
        "## Extract the slide ID/patient ID from the image name and add it as a new column to the data set"
      ]
    },
    {
      "cell_type": "code",
      "execution_count": 32,
      "id": "dwZMxPqcPVIk",
      "metadata": {
        "id": "dwZMxPqcPVIk",
        "colab": {
          "base_uri": "https://localhost:8080/",
          "height": 424
        },
        "outputId": "25916881-f59b-4a77-c575-f8c5e3b65b4a"
      },
      "outputs": [
        {
          "output_type": "execute_result",
          "data": {
            "text/plain": [
              "      index                                               path  \\\n",
              "0         0  ./BreaKHis_v1/histology_slides/breast/malignan...   \n",
              "1         1  ./BreaKHis_v1/histology_slides/breast/malignan...   \n",
              "2         2  ./BreaKHis_v1/histology_slides/breast/malignan...   \n",
              "3         3  ./BreaKHis_v1/histology_slides/breast/malignan...   \n",
              "4         4  ./BreaKHis_v1/histology_slides/breast/malignan...   \n",
              "...     ...                                                ...   \n",
              "7904   7904  ./BreaKHis_v1/histology_slides/breast/benign/S...   \n",
              "7905   7905  ./BreaKHis_v1/histology_slides/breast/benign/S...   \n",
              "7906   7906  ./BreaKHis_v1/histology_slides/breast/benign/S...   \n",
              "7907   7907  ./BreaKHis_v1/histology_slides/breast/benign/S...   \n",
              "7908   7908  ./BreaKHis_v1/histology_slides/breast/benign/S...   \n",
              "\n",
              "                           image_name  magnification  fd_canny_100_200  \\\n",
              "0      SOB_M_MC-14-13418DE-40-010.png             40              1.20   \n",
              "1      SOB_M_MC-14-13418DE-40-012.png             40              1.16   \n",
              "2     SOB_M_MC-14-13418DE-400-011.png            400              1.10   \n",
              "3     SOB_M_MC-14-13418DE-400-005.png            400              1.07   \n",
              "4     SOB_M_MC-14-13418DE-200-008.png            200              1.04   \n",
              "...                               ...            ...               ...   \n",
              "7904    SOB_B_TA-14-16184-200-025.png            200              1.00   \n",
              "7905    SOB_B_TA-14-16184-100-024.png            100              1.04   \n",
              "7906    SOB_B_TA-14-16184-100-015.png            100              1.05   \n",
              "7907    SOB_B_TA-14-16184-100-030.png            100              1.04   \n",
              "7908    SOB_B_TA-14-16184-100-028.png            100              1.03   \n",
              "\n",
              "      fd_canny_150_250_as5 tumor_class tumor_type slide_id  \n",
              "0                     1.29           M         MC  13418DE  \n",
              "1                     1.25           M         MC  13418DE  \n",
              "2                     1.15           M         MC  13418DE  \n",
              "3                     1.12           M         MC  13418DE  \n",
              "4                     1.09           M         MC  13418DE  \n",
              "...                    ...         ...        ...      ...  \n",
              "7904                  1.07           B         TA    16184  \n",
              "7905                  1.09           B         TA    16184  \n",
              "7906                  1.10           B         TA    16184  \n",
              "7907                  1.10           B         TA    16184  \n",
              "7908                  1.08           B         TA    16184  \n",
              "\n",
              "[7909 rows x 9 columns]"
            ],
            "text/html": [
              "\n",
              "  <div id=\"df-996f37e6-d5f3-47ba-bc0e-4d1217ff1b06\">\n",
              "    <div class=\"colab-df-container\">\n",
              "      <div>\n",
              "<style scoped>\n",
              "    .dataframe tbody tr th:only-of-type {\n",
              "        vertical-align: middle;\n",
              "    }\n",
              "\n",
              "    .dataframe tbody tr th {\n",
              "        vertical-align: top;\n",
              "    }\n",
              "\n",
              "    .dataframe thead th {\n",
              "        text-align: right;\n",
              "    }\n",
              "</style>\n",
              "<table border=\"1\" class=\"dataframe\">\n",
              "  <thead>\n",
              "    <tr style=\"text-align: right;\">\n",
              "      <th></th>\n",
              "      <th>index</th>\n",
              "      <th>path</th>\n",
              "      <th>image_name</th>\n",
              "      <th>magnification</th>\n",
              "      <th>fd_canny_100_200</th>\n",
              "      <th>fd_canny_150_250_as5</th>\n",
              "      <th>tumor_class</th>\n",
              "      <th>tumor_type</th>\n",
              "      <th>slide_id</th>\n",
              "    </tr>\n",
              "  </thead>\n",
              "  <tbody>\n",
              "    <tr>\n",
              "      <th>0</th>\n",
              "      <td>0</td>\n",
              "      <td>./BreaKHis_v1/histology_slides/breast/malignan...</td>\n",
              "      <td>SOB_M_MC-14-13418DE-40-010.png</td>\n",
              "      <td>40</td>\n",
              "      <td>1.20</td>\n",
              "      <td>1.29</td>\n",
              "      <td>M</td>\n",
              "      <td>MC</td>\n",
              "      <td>13418DE</td>\n",
              "    </tr>\n",
              "    <tr>\n",
              "      <th>1</th>\n",
              "      <td>1</td>\n",
              "      <td>./BreaKHis_v1/histology_slides/breast/malignan...</td>\n",
              "      <td>SOB_M_MC-14-13418DE-40-012.png</td>\n",
              "      <td>40</td>\n",
              "      <td>1.16</td>\n",
              "      <td>1.25</td>\n",
              "      <td>M</td>\n",
              "      <td>MC</td>\n",
              "      <td>13418DE</td>\n",
              "    </tr>\n",
              "    <tr>\n",
              "      <th>2</th>\n",
              "      <td>2</td>\n",
              "      <td>./BreaKHis_v1/histology_slides/breast/malignan...</td>\n",
              "      <td>SOB_M_MC-14-13418DE-400-011.png</td>\n",
              "      <td>400</td>\n",
              "      <td>1.10</td>\n",
              "      <td>1.15</td>\n",
              "      <td>M</td>\n",
              "      <td>MC</td>\n",
              "      <td>13418DE</td>\n",
              "    </tr>\n",
              "    <tr>\n",
              "      <th>3</th>\n",
              "      <td>3</td>\n",
              "      <td>./BreaKHis_v1/histology_slides/breast/malignan...</td>\n",
              "      <td>SOB_M_MC-14-13418DE-400-005.png</td>\n",
              "      <td>400</td>\n",
              "      <td>1.07</td>\n",
              "      <td>1.12</td>\n",
              "      <td>M</td>\n",
              "      <td>MC</td>\n",
              "      <td>13418DE</td>\n",
              "    </tr>\n",
              "    <tr>\n",
              "      <th>4</th>\n",
              "      <td>4</td>\n",
              "      <td>./BreaKHis_v1/histology_slides/breast/malignan...</td>\n",
              "      <td>SOB_M_MC-14-13418DE-200-008.png</td>\n",
              "      <td>200</td>\n",
              "      <td>1.04</td>\n",
              "      <td>1.09</td>\n",
              "      <td>M</td>\n",
              "      <td>MC</td>\n",
              "      <td>13418DE</td>\n",
              "    </tr>\n",
              "    <tr>\n",
              "      <th>...</th>\n",
              "      <td>...</td>\n",
              "      <td>...</td>\n",
              "      <td>...</td>\n",
              "      <td>...</td>\n",
              "      <td>...</td>\n",
              "      <td>...</td>\n",
              "      <td>...</td>\n",
              "      <td>...</td>\n",
              "      <td>...</td>\n",
              "    </tr>\n",
              "    <tr>\n",
              "      <th>7904</th>\n",
              "      <td>7904</td>\n",
              "      <td>./BreaKHis_v1/histology_slides/breast/benign/S...</td>\n",
              "      <td>SOB_B_TA-14-16184-200-025.png</td>\n",
              "      <td>200</td>\n",
              "      <td>1.00</td>\n",
              "      <td>1.07</td>\n",
              "      <td>B</td>\n",
              "      <td>TA</td>\n",
              "      <td>16184</td>\n",
              "    </tr>\n",
              "    <tr>\n",
              "      <th>7905</th>\n",
              "      <td>7905</td>\n",
              "      <td>./BreaKHis_v1/histology_slides/breast/benign/S...</td>\n",
              "      <td>SOB_B_TA-14-16184-100-024.png</td>\n",
              "      <td>100</td>\n",
              "      <td>1.04</td>\n",
              "      <td>1.09</td>\n",
              "      <td>B</td>\n",
              "      <td>TA</td>\n",
              "      <td>16184</td>\n",
              "    </tr>\n",
              "    <tr>\n",
              "      <th>7906</th>\n",
              "      <td>7906</td>\n",
              "      <td>./BreaKHis_v1/histology_slides/breast/benign/S...</td>\n",
              "      <td>SOB_B_TA-14-16184-100-015.png</td>\n",
              "      <td>100</td>\n",
              "      <td>1.05</td>\n",
              "      <td>1.10</td>\n",
              "      <td>B</td>\n",
              "      <td>TA</td>\n",
              "      <td>16184</td>\n",
              "    </tr>\n",
              "    <tr>\n",
              "      <th>7907</th>\n",
              "      <td>7907</td>\n",
              "      <td>./BreaKHis_v1/histology_slides/breast/benign/S...</td>\n",
              "      <td>SOB_B_TA-14-16184-100-030.png</td>\n",
              "      <td>100</td>\n",
              "      <td>1.04</td>\n",
              "      <td>1.10</td>\n",
              "      <td>B</td>\n",
              "      <td>TA</td>\n",
              "      <td>16184</td>\n",
              "    </tr>\n",
              "    <tr>\n",
              "      <th>7908</th>\n",
              "      <td>7908</td>\n",
              "      <td>./BreaKHis_v1/histology_slides/breast/benign/S...</td>\n",
              "      <td>SOB_B_TA-14-16184-100-028.png</td>\n",
              "      <td>100</td>\n",
              "      <td>1.03</td>\n",
              "      <td>1.08</td>\n",
              "      <td>B</td>\n",
              "      <td>TA</td>\n",
              "      <td>16184</td>\n",
              "    </tr>\n",
              "  </tbody>\n",
              "</table>\n",
              "<p>7909 rows × 9 columns</p>\n",
              "</div>\n",
              "      <button class=\"colab-df-convert\" onclick=\"convertToInteractive('df-996f37e6-d5f3-47ba-bc0e-4d1217ff1b06')\"\n",
              "              title=\"Convert this dataframe to an interactive table.\"\n",
              "              style=\"display:none;\">\n",
              "        \n",
              "  <svg xmlns=\"http://www.w3.org/2000/svg\" height=\"24px\"viewBox=\"0 0 24 24\"\n",
              "       width=\"24px\">\n",
              "    <path d=\"M0 0h24v24H0V0z\" fill=\"none\"/>\n",
              "    <path d=\"M18.56 5.44l.94 2.06.94-2.06 2.06-.94-2.06-.94-.94-2.06-.94 2.06-2.06.94zm-11 1L8.5 8.5l.94-2.06 2.06-.94-2.06-.94L8.5 2.5l-.94 2.06-2.06.94zm10 10l.94 2.06.94-2.06 2.06-.94-2.06-.94-.94-2.06-.94 2.06-2.06.94z\"/><path d=\"M17.41 7.96l-1.37-1.37c-.4-.4-.92-.59-1.43-.59-.52 0-1.04.2-1.43.59L10.3 9.45l-7.72 7.72c-.78.78-.78 2.05 0 2.83L4 21.41c.39.39.9.59 1.41.59.51 0 1.02-.2 1.41-.59l7.78-7.78 2.81-2.81c.8-.78.8-2.07 0-2.86zM5.41 20L4 18.59l7.72-7.72 1.47 1.35L5.41 20z\"/>\n",
              "  </svg>\n",
              "      </button>\n",
              "      \n",
              "  <style>\n",
              "    .colab-df-container {\n",
              "      display:flex;\n",
              "      flex-wrap:wrap;\n",
              "      gap: 12px;\n",
              "    }\n",
              "\n",
              "    .colab-df-convert {\n",
              "      background-color: #E8F0FE;\n",
              "      border: none;\n",
              "      border-radius: 50%;\n",
              "      cursor: pointer;\n",
              "      display: none;\n",
              "      fill: #1967D2;\n",
              "      height: 32px;\n",
              "      padding: 0 0 0 0;\n",
              "      width: 32px;\n",
              "    }\n",
              "\n",
              "    .colab-df-convert:hover {\n",
              "      background-color: #E2EBFA;\n",
              "      box-shadow: 0px 1px 2px rgba(60, 64, 67, 0.3), 0px 1px 3px 1px rgba(60, 64, 67, 0.15);\n",
              "      fill: #174EA6;\n",
              "    }\n",
              "\n",
              "    [theme=dark] .colab-df-convert {\n",
              "      background-color: #3B4455;\n",
              "      fill: #D2E3FC;\n",
              "    }\n",
              "\n",
              "    [theme=dark] .colab-df-convert:hover {\n",
              "      background-color: #434B5C;\n",
              "      box-shadow: 0px 1px 3px 1px rgba(0, 0, 0, 0.15);\n",
              "      filter: drop-shadow(0px 1px 2px rgba(0, 0, 0, 0.3));\n",
              "      fill: #FFFFFF;\n",
              "    }\n",
              "  </style>\n",
              "\n",
              "      <script>\n",
              "        const buttonEl =\n",
              "          document.querySelector('#df-996f37e6-d5f3-47ba-bc0e-4d1217ff1b06 button.colab-df-convert');\n",
              "        buttonEl.style.display =\n",
              "          google.colab.kernel.accessAllowed ? 'block' : 'none';\n",
              "\n",
              "        async function convertToInteractive(key) {\n",
              "          const element = document.querySelector('#df-996f37e6-d5f3-47ba-bc0e-4d1217ff1b06');\n",
              "          const dataTable =\n",
              "            await google.colab.kernel.invokeFunction('convertToInteractive',\n",
              "                                                     [key], {});\n",
              "          if (!dataTable) return;\n",
              "\n",
              "          const docLinkHtml = 'Like what you see? Visit the ' +\n",
              "            '<a target=\"_blank\" href=https://colab.research.google.com/notebooks/data_table.ipynb>data table notebook</a>'\n",
              "            + ' to learn more about interactive tables.';\n",
              "          element.innerHTML = '';\n",
              "          dataTable['output_type'] = 'display_data';\n",
              "          await google.colab.output.renderOutput(dataTable, element);\n",
              "          const docLink = document.createElement('div');\n",
              "          docLink.innerHTML = docLinkHtml;\n",
              "          element.appendChild(docLink);\n",
              "        }\n",
              "      </script>\n",
              "    </div>\n",
              "  </div>\n",
              "  "
            ]
          },
          "metadata": {},
          "execution_count": 32
        }
      ],
      "source": [
        "# Get the image name column into a numpy array\n",
        "names_array = df['image_name'].to_numpy()\n",
        "# Get the number of elements in the column\n",
        "n_names = len(names_array)\n",
        "# Create an empty list\n",
        "list_slide_ids = []#np.empty(n_names)\n",
        "#list_figure_number = []#np.empty(n_names)\n",
        "\n",
        "# Loop over all images\n",
        "for i in range(n_names):\n",
        "\n",
        "  # Get the full name of the image\n",
        "  image_name = names_array[i]\n",
        "\n",
        "  # Split the name by '-'\n",
        "  image_features = image_name.split(\"-\")\n",
        "\n",
        "  # Append the element at position 2 (which is the slide id)\n",
        "  list_slide_ids.append(image_features[2])\n",
        "\n",
        "  # Get the element at position 4 which is the figure number with the image extension [png], then get only the number and forget about the extension\n",
        "  #list_figure_number.append(image_features[4].split(\".\")[0])\n",
        "\n",
        "  #print(\"Names: %s %s\" % (list_slide_ids[i], list_figure_number[i]))\n",
        "\n",
        "# Add the column to the data frame\n",
        "df['slide_id'] = list_slide_ids\n",
        "#df['figure_number'] = list_figure_number\n",
        "\n",
        "# Show the data frame\n",
        "df"
      ]
    },
    {
      "cell_type": "markdown",
      "id": "_rH2Z4jElLLI",
      "metadata": {
        "id": "_rH2Z4jElLLI"
      },
      "source": [
        "## Drop columns and create a new data frame from groups\n",
        "\n",
        "1. Drop 'path' and 'image_name' columns\n",
        "2. Create groups by slide ids, then create subgroups by magnification and combine data into a single observation\n",
        "\n",
        " * Each row or observation in the data frame has the following structure\n",
        "\n",
        "    * Canny feature for 40x - 01\n",
        "    * Canny feature for 40x - 02\n",
        "    * Canny feature for 100x - 01\n",
        "    * Canny feature for 100x - 02\n",
        "    * Canny feature for 200x - 01\n",
        "    * Canny feature for 200x - 02\n",
        "    * Canny feature for 400x - 01\n",
        "    * Canny feature for 400x - 02\n",
        "    * Tumor class\n",
        "    * Tumor type\n",
        "\n",
        "  The variable 'n_max_ele_per_group' constraint the number of images to take for each magnification group. This is used due to memory constraints."
      ]
    },
    {
      "cell_type": "code",
      "execution_count": 33,
      "id": "0ck---9FWa5t",
      "metadata": {
        "id": "0ck---9FWa5t",
        "colab": {
          "base_uri": "https://localhost:8080/"
        },
        "outputId": "3eb7f17e-3edb-4bfa-f24e-869d71acabc7"
      },
      "outputs": [
        {
          "output_type": "stream",
          "name": "stdout",
          "text": [
            "Slide id: 10147\n",
            "Patient number: 0\n",
            "Number of images per 40x 15\n",
            "Number of images per 100x 12\n",
            "Number of images per 200x 22\n",
            "Number of images per 400x 15\n",
            "Slide id: 10926\n",
            "Patient number: 1\n",
            "Number of images per 40x 11\n",
            "Number of images per 100x 10\n",
            "Number of images per 200x 9\n",
            "Number of images per 400x 9\n",
            "Slide id: 11031\n",
            "Patient number: 2\n",
            "Number of images per 40x 14\n",
            "Number of images per 100x 17\n",
            "Number of images per 200x 14\n",
            "Number of images per 400x 15\n",
            "Slide id: 11520\n",
            "Patient number: 3\n",
            "Number of images per 40x 25\n",
            "Number of images per 100x 26\n",
            "Number of images per 200x 24\n",
            "Number of images per 400x 23\n",
            "Slide id: 11951\n",
            "Patient number: 4\n",
            "Number of images per 40x 27\n",
            "Number of images per 100x 25\n",
            "Number of images per 200x 28\n",
            "Number of images per 400x 20\n",
            "Slide id: 12204\n",
            "Patient number: 5\n",
            "Number of images per 40x 20\n",
            "Number of images per 100x 31\n",
            "Number of images per 200x 28\n",
            "Number of images per 400x 24\n",
            "Slide id: 12312\n",
            "Patient number: 6\n",
            "Number of images per 40x 32\n",
            "Number of images per 100x 41\n",
            "Number of images per 200x 35\n",
            "Number of images per 400x 38\n",
            "Slide id: 12465\n",
            "Patient number: 7\n",
            "Number of images per 40x 21\n",
            "Number of images per 100x 21\n",
            "Number of images per 200x 19\n",
            "Number of images per 400x 13\n",
            "Slide id: 12773\n",
            "Patient number: 8\n",
            "Number of images per 40x 26\n",
            "Number of images per 100x 25\n",
            "Number of images per 200x 21\n",
            "Number of images per 400x 18\n",
            "Slide id: 13200\n",
            "Patient number: 9\n",
            "Number of images per 40x 15\n",
            "Number of images per 100x 14\n",
            "Number of images per 200x 21\n",
            "Number of images per 400x 15\n",
            "Slide id: 13412\n",
            "Patient number: 10\n",
            "Number of images per 40x 64\n",
            "Number of images per 100x 66\n",
            "Number of images per 200x 64\n",
            "Number of images per 400x 52\n",
            "Slide id: 13413\n",
            "Patient number: 11\n",
            "Number of images per 40x 29\n",
            "Number of images per 100x 41\n",
            "Number of images per 200x 23\n",
            "Number of images per 400x 26\n",
            "Slide id: 13418DE\n",
            "Patient number: 12\n",
            "Number of images per 40x 15\n",
            "Number of images per 100x 15\n",
            "Number of images per 200x 14\n",
            "Number of images per 400x 11\n",
            "Slide id: 13993\n",
            "Patient number: 13\n",
            "Number of images per 40x 37\n",
            "Number of images per 100x 42\n",
            "Number of images per 200x 34\n",
            "Number of images per 400x 32\n",
            "Slide id: 14015\n",
            "Patient number: 14\n",
            "Number of images per 40x 18\n",
            "Number of images per 100x 27\n",
            "Number of images per 200x 30\n",
            "Number of images per 400x 20\n",
            "Slide id: 14134\n",
            "Patient number: 15\n",
            "Number of images per 40x 36\n",
            "Number of images per 100x 31\n",
            "Number of images per 200x 38\n",
            "Number of images per 400x 37\n",
            "Slide id: 14134E\n",
            "Patient number: 16\n",
            "Number of images per 40x 29\n",
            "Number of images per 100x 32\n",
            "Number of images per 200x 21\n",
            "Number of images per 400x 12\n",
            "Slide id: 14926\n",
            "Patient number: 17\n",
            "Number of images per 40x 20\n",
            "Number of images per 100x 19\n",
            "Number of images per 200x 18\n",
            "Number of images per 400x 16\n",
            "Slide id: 14946\n",
            "Patient number: 18\n",
            "Number of images per 40x 31\n",
            "Number of images per 100x 32\n",
            "Number of images per 200x 34\n",
            "Number of images per 400x 34\n",
            "Slide id: 15275\n",
            "Patient number: 19\n",
            "Number of images per 40x 12\n",
            "Number of images per 100x 14\n",
            "Number of images per 200x 12\n",
            "Number of images per 400x 15\n",
            "Slide id: 15570\n",
            "Patient number: 20\n",
            "Number of images per 40x 51\n",
            "Number of images per 100x 54\n",
            "Number of images per 200x 55\n",
            "Number of images per 400x 41\n",
            "Slide id: 15570C\n",
            "Patient number: 21\n",
            "Number of images per 40x 31\n",
            "Number of images per 100x 35\n",
            "Number of images per 200x 30\n",
            "Number of images per 400x 29\n",
            "Slide id: 15572\n",
            "Patient number: 22\n",
            "Number of images per 40x 23\n",
            "Number of images per 100x 23\n",
            "Number of images per 200x 19\n",
            "Number of images per 400x 15\n",
            "Slide id: 15687B\n",
            "Patient number: 23\n",
            "Number of images per 40x 17\n",
            "Number of images per 100x 16\n",
            "Number of images per 200x 14\n",
            "Number of images per 400x 15\n",
            "Slide id: 15696\n",
            "Patient number: 24\n",
            "Number of images per 40x 23\n",
            "Number of images per 100x 23\n",
            "Number of images per 200x 22\n",
            "Number of images per 400x 15\n",
            "Slide id: 15704\n",
            "Patient number: 25\n",
            "Number of images per 40x 30\n",
            "Number of images per 100x 29\n",
            "Number of images per 200x 33\n",
            "Number of images per 400x 35\n",
            "Slide id: 15792\n",
            "Patient number: 26\n",
            "Number of images per 40x 14\n",
            "Number of images per 100x 14\n",
            "Number of images per 200x 12\n",
            "Number of images per 400x 15\n",
            "Slide id: 16184\n",
            "Patient number: 27\n",
            "Number of images per 40x 39\n",
            "Number of images per 100x 34\n",
            "Number of images per 200x 35\n",
            "Number of images per 400x 24\n",
            "Slide id: 16184CD\n",
            "Patient number: 28\n",
            "Number of images per 40x 35\n",
            "Number of images per 100x 37\n",
            "Number of images per 200x 23\n",
            "Number of images per 400x 29\n",
            "Slide id: 16188\n",
            "Patient number: 29\n",
            "Number of images per 40x 24\n",
            "Number of images per 100x 19\n",
            "Number of images per 200x 21\n",
            "Number of images per 400x 23\n",
            "Slide id: 16196\n",
            "Patient number: 30\n",
            "Number of images per 40x 22\n",
            "Number of images per 100x 17\n",
            "Number of images per 200x 18\n",
            "Number of images per 400x 17\n",
            "Slide id: 16336\n",
            "Patient number: 31\n",
            "Number of images per 40x 13\n",
            "Number of images per 100x 19\n",
            "Number of images per 200x 19\n",
            "Number of images per 400x 9\n",
            "Slide id: 16448\n",
            "Patient number: 32\n",
            "Number of images per 40x 11\n",
            "Number of images per 100x 14\n",
            "Number of images per 200x 13\n",
            "Number of images per 400x 15\n",
            "Slide id: 16456\n",
            "Patient number: 33\n",
            "Number of images per 40x 46\n",
            "Number of images per 100x 50\n",
            "Number of images per 200x 47\n",
            "Number of images per 400x 35\n",
            "Slide id: 16601\n",
            "Patient number: 34\n",
            "Number of images per 40x 12\n",
            "Number of images per 100x 10\n",
            "Number of images per 200x 10\n",
            "Number of images per 400x 13\n",
            "Slide id: 16716\n",
            "Patient number: 35\n",
            "Number of images per 40x 38\n",
            "Number of images per 100x 36\n",
            "Number of images per 200x 34\n",
            "Number of images per 400x 29\n",
            "Slide id: 16875\n",
            "Patient number: 36\n",
            "Number of images per 40x 14\n",
            "Number of images per 100x 22\n",
            "Number of images per 200x 17\n",
            "Number of images per 400x 8\n",
            "Slide id: 17614\n",
            "Patient number: 37\n",
            "Number of images per 40x 39\n",
            "Number of images per 100x 29\n",
            "Number of images per 200x 33\n",
            "Number of images per 400x 28\n",
            "Slide id: 17901\n",
            "Patient number: 38\n",
            "Number of images per 40x 26\n",
            "Number of images per 100x 26\n",
            "Number of images per 200x 24\n",
            "Number of images per 400x 28\n",
            "Slide id: 17915\n",
            "Patient number: 39\n",
            "Number of images per 40x 26\n",
            "Number of images per 100x 16\n",
            "Number of images per 200x 21\n",
            "Number of images per 400x 16\n",
            "Slide id: 18650\n",
            "Patient number: 40\n",
            "Number of images per 40x 29\n",
            "Number of images per 100x 22\n",
            "Number of images per 200x 28\n",
            "Number of images per 400x 29\n",
            "Slide id: 18842\n",
            "Patient number: 41\n",
            "Number of images per 40x 15\n",
            "Number of images per 100x 22\n",
            "Number of images per 200x 16\n",
            "Number of images per 400x 9\n",
            "Slide id: 18842D\n",
            "Patient number: 42\n",
            "Number of images per 40x 16\n",
            "Number of images per 100x 16\n",
            "Number of images per 200x 16\n",
            "Number of images per 400x 16\n",
            "Slide id: 190EF\n",
            "Patient number: 43\n",
            "Number of images per 40x 19\n",
            "Number of images per 100x 16\n",
            "Number of images per 200x 15\n",
            "Number of images per 400x 15\n",
            "Slide id: 19440\n",
            "Patient number: 44\n",
            "Number of images per 40x 35\n",
            "Number of images per 100x 38\n",
            "Number of images per 200x 33\n",
            "Number of images per 400x 36\n",
            "Slide id: 19854C\n",
            "Patient number: 45\n",
            "Number of images per 40x 16\n",
            "Number of images per 100x 16\n",
            "Number of images per 200x 16\n",
            "Number of images per 400x 16\n",
            "Slide id: 19979\n",
            "Patient number: 46\n",
            "Number of images per 40x 26\n",
            "Number of images per 100x 27\n",
            "Number of images per 200x 21\n",
            "Number of images per 400x 24\n",
            "Slide id: 19979C\n",
            "Patient number: 47\n",
            "Number of images per 40x 17\n",
            "Number of images per 100x 14\n",
            "Number of images per 200x 16\n",
            "Number of images per 400x 15\n",
            "Slide id: 20629\n",
            "Patient number: 48\n",
            "Number of images per 40x 36\n",
            "Number of images per 100x 33\n",
            "Number of images per 200x 32\n",
            "Number of images per 400x 24\n",
            "Slide id: 20636\n",
            "Patient number: 49\n",
            "Number of images per 40x 25\n",
            "Number of images per 100x 37\n",
            "Number of images per 200x 27\n",
            "Number of images per 400x 22\n",
            "Slide id: 21978AB\n",
            "Patient number: 50\n",
            "Number of images per 40x 16\n",
            "Number of images per 100x 18\n",
            "Number of images per 200x 17\n",
            "Number of images per 400x 14\n",
            "Slide id: 21998AB\n",
            "Patient number: 51\n",
            "Number of images per 40x 58\n",
            "Number of images per 100x 66\n",
            "Number of images per 200x 52\n",
            "Number of images per 400x 59\n",
            "Slide id: 21998CD\n",
            "Patient number: 52\n",
            "Number of images per 40x 37\n",
            "Number of images per 100x 31\n",
            "Number of images per 200x 37\n",
            "Number of images per 400x 32\n",
            "Slide id: 21998EF\n",
            "Patient number: 53\n",
            "Number of images per 40x 31\n",
            "Number of images per 100x 33\n",
            "Number of images per 200x 29\n",
            "Number of images per 400x 28\n",
            "Slide id: 22549AB\n",
            "Patient number: 54\n",
            "Number of images per 40x 29\n",
            "Number of images per 100x 30\n",
            "Number of images per 200x 32\n",
            "Number of images per 400x 30\n",
            "Slide id: 22549CD\n",
            "Patient number: 55\n",
            "Number of images per 40x 35\n",
            "Number of images per 100x 36\n",
            "Number of images per 200x 31\n",
            "Number of images per 400x 30\n",
            "Slide id: 22549G\n",
            "Patient number: 56\n",
            "Number of images per 40x 35\n",
            "Number of images per 100x 34\n",
            "Number of images per 200x 32\n",
            "Number of images per 400x 29\n",
            "Slide id: 22704\n",
            "Patient number: 57\n",
            "Number of images per 40x 38\n",
            "Number of images per 100x 39\n",
            "Number of images per 200x 42\n",
            "Number of images per 400x 39\n",
            "Slide id: 23060AB\n",
            "Patient number: 58\n",
            "Number of images per 40x 23\n",
            "Number of images per 100x 22\n",
            "Number of images per 200x 18\n",
            "Number of images per 400x 18\n",
            "Slide id: 23060CD\n",
            "Patient number: 59\n",
            "Number of images per 40x 14\n",
            "Number of images per 100x 11\n",
            "Number of images per 200x 16\n",
            "Number of images per 400x 16\n",
            "Slide id: 23222AB\n",
            "Patient number: 60\n",
            "Number of images per 40x 17\n",
            "Number of images per 100x 16\n",
            "Number of images per 200x 17\n",
            "Number of images per 400x 18\n",
            "Slide id: 25197\n",
            "Patient number: 61\n",
            "Number of images per 40x 22\n",
            "Number of images per 100x 33\n",
            "Number of images per 200x 32\n",
            "Number of images per 400x 33\n",
            "Slide id: 2523\n",
            "Patient number: 62\n",
            "Number of images per 40x 10\n",
            "Number of images per 100x 23\n",
            "Number of images per 200x 18\n",
            "Number of images per 400x 24\n",
            "Slide id: 2773\n",
            "Patient number: 63\n",
            "Number of images per 40x 30\n",
            "Number of images per 100x 41\n",
            "Number of images per 200x 35\n",
            "Number of images per 400x 38\n",
            "Slide id: 29315EF\n",
            "Patient number: 64\n",
            "Number of images per 40x 13\n",
            "Number of images per 100x 16\n",
            "Number of images per 200x 14\n",
            "Number of images per 400x 17\n",
            "Slide id: 2980\n",
            "Patient number: 65\n",
            "Number of images per 40x 20\n",
            "Number of images per 100x 25\n",
            "Number of images per 200x 21\n",
            "Number of images per 400x 18\n",
            "Slide id: 2985\n",
            "Patient number: 66\n",
            "Number of images per 40x 20\n",
            "Number of images per 100x 11\n",
            "Number of images per 200x 14\n",
            "Number of images per 400x 14\n",
            "Slide id: 29960AB\n",
            "Patient number: 67\n",
            "Number of images per 40x 18\n",
            "Number of images per 100x 15\n",
            "Number of images per 200x 18\n",
            "Number of images per 400x 17\n",
            "Slide id: 29960CD\n",
            "Patient number: 68\n",
            "Number of images per 40x 15\n",
            "Number of images per 100x 13\n",
            "Number of images per 200x 16\n",
            "Number of images per 400x 17\n",
            "Slide id: 3411F\n",
            "Patient number: 69\n",
            "Number of images per 40x 16\n",
            "Number of images per 100x 17\n",
            "Number of images per 200x 16\n",
            "Number of images per 400x 17\n",
            "Slide id: 3909\n",
            "Patient number: 70\n",
            "Number of images per 40x 26\n",
            "Number of images per 100x 26\n",
            "Number of images per 200x 29\n",
            "Number of images per 400x 14\n",
            "Slide id: 4364\n",
            "Patient number: 71\n",
            "Number of images per 40x 1\n",
            "Number of images per 100x 10\n",
            "Number of images per 200x 25\n",
            "Number of images per 400x 8\n",
            "Slide id: 4372\n",
            "Patient number: 72\n",
            "Number of images per 40x 21\n",
            "Number of images per 100x 22\n",
            "Number of images per 200x 17\n",
            "Number of images per 400x 24\n",
            "Slide id: 5287\n",
            "Patient number: 73\n",
            "Number of images per 40x 23\n",
            "Number of images per 100x 21\n",
            "Number of images per 200x 21\n",
            "Number of images per 400x 23\n",
            "Slide id: 5694\n",
            "Patient number: 74\n",
            "Number of images per 40x 22\n",
            "Number of images per 100x 21\n",
            "Number of images per 200x 21\n",
            "Number of images per 400x 26\n",
            "Slide id: 5695\n",
            "Patient number: 75\n",
            "Number of images per 40x 23\n",
            "Number of images per 100x 21\n",
            "Number of images per 200x 22\n",
            "Number of images per 400x 24\n",
            "Slide id: 6241\n",
            "Patient number: 76\n",
            "Number of images per 40x 32\n",
            "Number of images per 100x 21\n",
            "Number of images per 200x 12\n",
            "Number of images per 400x 13\n",
            "Slide id: 8168\n",
            "Patient number: 77\n",
            "Number of images per 40x 10\n",
            "Number of images per 100x 10\n",
            "Number of images per 200x 9\n",
            "Number of images per 400x 9\n",
            "Slide id: 9133\n",
            "Patient number: 78\n",
            "Number of images per 40x 26\n",
            "Number of images per 100x 36\n",
            "Number of images per 200x 38\n",
            "Number of images per 400x 26\n",
            "Slide id: 9146\n",
            "Patient number: 79\n",
            "Number of images per 40x 23\n",
            "Number of images per 100x 22\n",
            "Number of images per 200x 21\n",
            "Number of images per 400x 24\n",
            "Slide id: 9461\n",
            "Patient number: 80\n",
            "Number of images per 40x 26\n",
            "Number of images per 100x 36\n",
            "Number of images per 200x 62\n",
            "Number of images per 400x 31\n"
          ]
        }
      ],
      "source": [
        "# Rewrite this section by using the itertools package that implements the cartesian product of multiple sets\n",
        "\n",
        "# https://www.geeksforgeeks.org/python-itertools-product/\n",
        "\n",
        "# Sort the data frame by slide ids\n",
        "#sorted_df = df.sort_values('slide_id', ascending=False)\n",
        "# Drop the path of the image and the full image name\n",
        "reduced_df = df.drop(columns=['path', 'image_name'])\n",
        "# Create groups by the slide ids\n",
        "group_df = reduced_df.groupby('slide_id')\n",
        "\n",
        "# The list to store the new data (get both canny features for each magnification)\n",
        "list_magnification_40x_canny_01 = []\n",
        "list_magnification_40x_canny_02 = []\n",
        "list_magnification_100x_canny_01 = []\n",
        "list_magnification_100x_canny_02 = []\n",
        "list_magnification_200x_canny_01 = []\n",
        "list_magnification_200x_canny_02 = []\n",
        "list_magnification_400x_canny_01 = []\n",
        "list_magnification_400x_canny_02 = []\n",
        "# Also include the tumor class and the tumor type\n",
        "list_tumor_class = []\n",
        "list_tumor_type = []\n",
        "\n",
        "counter = 0\n",
        "\n",
        "# List the groups\n",
        "for slide_id, group in group_df:\n",
        "\n",
        "  print(f\"Slide id: {slide_id}\")\n",
        "  print(\"Patient number: %d\" % counter)\n",
        "  counter += 1\n",
        "\n",
        "  # Create groups based on magnification\n",
        "  sub_groups_by_magnification = group.groupby('magnification')\n",
        "\n",
        "  # Get the groups by magnification\n",
        "  group_40x = sub_groups_by_magnification.get_group(40)\n",
        "  group_100x = sub_groups_by_magnification.get_group(100)\n",
        "  group_200x = sub_groups_by_magnification.get_group(200)\n",
        "  group_400x = sub_groups_by_magnification.get_group(400)\n",
        "\n",
        "  # Get a numpy representation of the columns with the canny features\n",
        "  canny_values_01_40x = group_40x['fd_canny_100_200'].to_numpy()\n",
        "  canny_values_02_40x = group_40x['fd_canny_150_250_as5'].to_numpy()\n",
        "  canny_values_01_100x = group_100x['fd_canny_100_200'].to_numpy()\n",
        "  canny_values_02_100x = group_100x['fd_canny_150_250_as5'].to_numpy()\n",
        "  canny_values_01_200x = group_200x['fd_canny_100_200'].to_numpy()\n",
        "  canny_values_02_200x = group_200x['fd_canny_150_250_as5'].to_numpy()\n",
        "  canny_values_01_400x = group_400x['fd_canny_100_200'].to_numpy()\n",
        "  canny_values_02_400x = group_400x['fd_canny_150_250_as5'].to_numpy()\n",
        "\n",
        "  # Get a numpy representation of the columns with the tumor class and tumor type, all the tumor class and tumor type are the same\n",
        "  tumor_class_np = group_40x['tumor_class'].to_numpy()\n",
        "  tumor_type_np = group_40x['tumor_type'].to_numpy()\n",
        "\n",
        "  # Get the number of images per group\n",
        "  n_images_40x = len(canny_values_01_40x)\n",
        "  n_images_100x = len(canny_values_01_100x)\n",
        "  n_images_200x = len(canny_values_01_200x)\n",
        "  n_images_400x = len(canny_values_01_400x)\n",
        "\n",
        "  # Print the number of images per each magnification\n",
        "  print(f\"Number of images per 40x {n_images_40x}\")\n",
        "  print(f\"Number of images per 100x {n_images_100x}\")\n",
        "  print(f\"Number of images per 200x {n_images_200x}\")\n",
        "  print(f\"Number of images per 400x {n_images_400x}\")\n",
        "\n",
        "  # Set a maximum number of images to consider per group (this is due to memory limitations)\n",
        "  n_max_img_per_group = 2\n",
        "\n",
        "  # Create a new data frame with the combinations of the canny values of the images\n",
        "  # [canny_40x, canny_40x, canny_100x, canny_100x, canny_200x, canny_200x, canny_400x, canny_400x, tumor_class, tumor_type]\n",
        "  for i in range(min(n_images_40x, n_max_img_per_group)):\n",
        "    for j in range(min(n_images_100x, n_max_img_per_group)):\n",
        "      for k in range(min(n_images_200x, n_max_img_per_group)):\n",
        "        for m in range(min(n_images_400x, n_max_img_per_group)):\n",
        "\n",
        "          feature_canny_01_40x = canny_values_01_40x[i]\n",
        "          feature_canny_02_40x = canny_values_02_40x[i]\n",
        "          feature_canny_01_100x = canny_values_01_100x[j]\n",
        "          feature_canny_02_100x = canny_values_02_100x[j]\n",
        "          feature_canny_01_200x = canny_values_01_200x[k]\n",
        "          feature_canny_02_200x = canny_values_02_200x[k]\n",
        "          feature_canny_01_400x = canny_values_01_400x[m]\n",
        "          feature_canny_02_400x = canny_values_02_400x[m]\n",
        "\n",
        "          #print(f\"Slide id {name}, m40x {feature_canny_01_40x} {feature_canny_02_40x}, m100x {feature_canny_01_100x} {feature_canny_02_100x}, m200x {feature_canny_01_200x} {feature_canny_02_200x}, m400x {feature_canny_01_400x} {feature_canny_02_400x}\")\n",
        "          list_magnification_40x_canny_01.append(feature_canny_01_40x)\n",
        "          list_magnification_40x_canny_02.append(feature_canny_02_40x)\n",
        "          list_magnification_100x_canny_01.append(feature_canny_01_100x)\n",
        "          list_magnification_100x_canny_02.append(feature_canny_02_100x)\n",
        "          list_magnification_200x_canny_01.append(feature_canny_01_200x)\n",
        "          list_magnification_200x_canny_02.append(feature_canny_02_200x)\n",
        "          list_magnification_400x_canny_01.append(feature_canny_01_400x)\n",
        "          list_magnification_400x_canny_02.append(feature_canny_02_400x)\n",
        "\n",
        "          # We take the tumor type and class from the 40x image data set, it should be the same for all magnifications\n",
        "          list_tumor_class.append(tumor_class_np[i])\n",
        "          list_tumor_type.append(tumor_type_np[i])\n"
      ]
    },
    {
      "cell_type": "markdown",
      "id": "M1IE8e7Nn9bx",
      "metadata": {
        "id": "M1IE8e7Nn9bx"
      },
      "source": [
        "## Create the new data frame"
      ]
    },
    {
      "cell_type": "code",
      "execution_count": 34,
      "id": "Y_rDUlRnn6RL",
      "metadata": {
        "id": "Y_rDUlRnn6RL",
        "colab": {
          "base_uri": "https://localhost:8080/",
          "height": 424
        },
        "outputId": "0c7bd8a8-a9ee-45bb-ae66-4a5db7b253d1"
      },
      "outputs": [
        {
          "output_type": "execute_result",
          "data": {
            "text/plain": [
              "      canny_values_01_40x  canny_values_02_40x  canny_values_01_100x  \\\n",
              "0                    1.16                 1.25                  1.10   \n",
              "1                    1.16                 1.25                  1.10   \n",
              "2                    1.16                 1.25                  1.10   \n",
              "3                    1.16                 1.25                  1.10   \n",
              "4                    1.16                 1.25                  1.08   \n",
              "...                   ...                  ...                   ...   \n",
              "1283                 1.08                 1.15                  1.00   \n",
              "1284                 1.08                 1.15                  1.01   \n",
              "1285                 1.08                 1.15                  1.01   \n",
              "1286                 1.08                 1.15                  1.01   \n",
              "1287                 1.08                 1.15                  1.01   \n",
              "\n",
              "      canny_values_02_100x  canny_values_01_200x  canny_values_02_200x  \\\n",
              "0                     1.18                  1.02                  1.10   \n",
              "1                     1.18                  1.02                  1.10   \n",
              "2                     1.18                  1.07                  1.13   \n",
              "3                     1.18                  1.07                  1.13   \n",
              "4                     1.16                  1.02                  1.10   \n",
              "...                    ...                   ...                   ...   \n",
              "1283                  1.06                  1.04                  1.06   \n",
              "1284                  1.06                  0.98                  1.03   \n",
              "1285                  1.06                  0.98                  1.03   \n",
              "1286                  1.06                  1.04                  1.06   \n",
              "1287                  1.06                  1.04                  1.06   \n",
              "\n",
              "      canny_values_01_400x  canny_values_02_400x tumor_class tumor_type  \n",
              "0                     1.03                  1.08           M         MC  \n",
              "1                     0.99                  1.02           M         MC  \n",
              "2                     1.03                  1.08           M         MC  \n",
              "3                     0.99                  1.02           M         MC  \n",
              "4                     1.03                  1.08           M         MC  \n",
              "...                    ...                   ...         ...        ...  \n",
              "1283                  1.01                  1.06           M         DC  \n",
              "1284                  1.01                  1.05           M         DC  \n",
              "1285                  1.01                  1.06           M         DC  \n",
              "1286                  1.01                  1.05           M         DC  \n",
              "1287                  1.01                  1.06           M         DC  \n",
              "\n",
              "[1288 rows x 10 columns]"
            ],
            "text/html": [
              "\n",
              "  <div id=\"df-86b3d3bf-da10-414a-9ebb-3292267db93b\">\n",
              "    <div class=\"colab-df-container\">\n",
              "      <div>\n",
              "<style scoped>\n",
              "    .dataframe tbody tr th:only-of-type {\n",
              "        vertical-align: middle;\n",
              "    }\n",
              "\n",
              "    .dataframe tbody tr th {\n",
              "        vertical-align: top;\n",
              "    }\n",
              "\n",
              "    .dataframe thead th {\n",
              "        text-align: right;\n",
              "    }\n",
              "</style>\n",
              "<table border=\"1\" class=\"dataframe\">\n",
              "  <thead>\n",
              "    <tr style=\"text-align: right;\">\n",
              "      <th></th>\n",
              "      <th>canny_values_01_40x</th>\n",
              "      <th>canny_values_02_40x</th>\n",
              "      <th>canny_values_01_100x</th>\n",
              "      <th>canny_values_02_100x</th>\n",
              "      <th>canny_values_01_200x</th>\n",
              "      <th>canny_values_02_200x</th>\n",
              "      <th>canny_values_01_400x</th>\n",
              "      <th>canny_values_02_400x</th>\n",
              "      <th>tumor_class</th>\n",
              "      <th>tumor_type</th>\n",
              "    </tr>\n",
              "  </thead>\n",
              "  <tbody>\n",
              "    <tr>\n",
              "      <th>0</th>\n",
              "      <td>1.16</td>\n",
              "      <td>1.25</td>\n",
              "      <td>1.10</td>\n",
              "      <td>1.18</td>\n",
              "      <td>1.02</td>\n",
              "      <td>1.10</td>\n",
              "      <td>1.03</td>\n",
              "      <td>1.08</td>\n",
              "      <td>M</td>\n",
              "      <td>MC</td>\n",
              "    </tr>\n",
              "    <tr>\n",
              "      <th>1</th>\n",
              "      <td>1.16</td>\n",
              "      <td>1.25</td>\n",
              "      <td>1.10</td>\n",
              "      <td>1.18</td>\n",
              "      <td>1.02</td>\n",
              "      <td>1.10</td>\n",
              "      <td>0.99</td>\n",
              "      <td>1.02</td>\n",
              "      <td>M</td>\n",
              "      <td>MC</td>\n",
              "    </tr>\n",
              "    <tr>\n",
              "      <th>2</th>\n",
              "      <td>1.16</td>\n",
              "      <td>1.25</td>\n",
              "      <td>1.10</td>\n",
              "      <td>1.18</td>\n",
              "      <td>1.07</td>\n",
              "      <td>1.13</td>\n",
              "      <td>1.03</td>\n",
              "      <td>1.08</td>\n",
              "      <td>M</td>\n",
              "      <td>MC</td>\n",
              "    </tr>\n",
              "    <tr>\n",
              "      <th>3</th>\n",
              "      <td>1.16</td>\n",
              "      <td>1.25</td>\n",
              "      <td>1.10</td>\n",
              "      <td>1.18</td>\n",
              "      <td>1.07</td>\n",
              "      <td>1.13</td>\n",
              "      <td>0.99</td>\n",
              "      <td>1.02</td>\n",
              "      <td>M</td>\n",
              "      <td>MC</td>\n",
              "    </tr>\n",
              "    <tr>\n",
              "      <th>4</th>\n",
              "      <td>1.16</td>\n",
              "      <td>1.25</td>\n",
              "      <td>1.08</td>\n",
              "      <td>1.16</td>\n",
              "      <td>1.02</td>\n",
              "      <td>1.10</td>\n",
              "      <td>1.03</td>\n",
              "      <td>1.08</td>\n",
              "      <td>M</td>\n",
              "      <td>MC</td>\n",
              "    </tr>\n",
              "    <tr>\n",
              "      <th>...</th>\n",
              "      <td>...</td>\n",
              "      <td>...</td>\n",
              "      <td>...</td>\n",
              "      <td>...</td>\n",
              "      <td>...</td>\n",
              "      <td>...</td>\n",
              "      <td>...</td>\n",
              "      <td>...</td>\n",
              "      <td>...</td>\n",
              "      <td>...</td>\n",
              "    </tr>\n",
              "    <tr>\n",
              "      <th>1283</th>\n",
              "      <td>1.08</td>\n",
              "      <td>1.15</td>\n",
              "      <td>1.00</td>\n",
              "      <td>1.06</td>\n",
              "      <td>1.04</td>\n",
              "      <td>1.06</td>\n",
              "      <td>1.01</td>\n",
              "      <td>1.06</td>\n",
              "      <td>M</td>\n",
              "      <td>DC</td>\n",
              "    </tr>\n",
              "    <tr>\n",
              "      <th>1284</th>\n",
              "      <td>1.08</td>\n",
              "      <td>1.15</td>\n",
              "      <td>1.01</td>\n",
              "      <td>1.06</td>\n",
              "      <td>0.98</td>\n",
              "      <td>1.03</td>\n",
              "      <td>1.01</td>\n",
              "      <td>1.05</td>\n",
              "      <td>M</td>\n",
              "      <td>DC</td>\n",
              "    </tr>\n",
              "    <tr>\n",
              "      <th>1285</th>\n",
              "      <td>1.08</td>\n",
              "      <td>1.15</td>\n",
              "      <td>1.01</td>\n",
              "      <td>1.06</td>\n",
              "      <td>0.98</td>\n",
              "      <td>1.03</td>\n",
              "      <td>1.01</td>\n",
              "      <td>1.06</td>\n",
              "      <td>M</td>\n",
              "      <td>DC</td>\n",
              "    </tr>\n",
              "    <tr>\n",
              "      <th>1286</th>\n",
              "      <td>1.08</td>\n",
              "      <td>1.15</td>\n",
              "      <td>1.01</td>\n",
              "      <td>1.06</td>\n",
              "      <td>1.04</td>\n",
              "      <td>1.06</td>\n",
              "      <td>1.01</td>\n",
              "      <td>1.05</td>\n",
              "      <td>M</td>\n",
              "      <td>DC</td>\n",
              "    </tr>\n",
              "    <tr>\n",
              "      <th>1287</th>\n",
              "      <td>1.08</td>\n",
              "      <td>1.15</td>\n",
              "      <td>1.01</td>\n",
              "      <td>1.06</td>\n",
              "      <td>1.04</td>\n",
              "      <td>1.06</td>\n",
              "      <td>1.01</td>\n",
              "      <td>1.06</td>\n",
              "      <td>M</td>\n",
              "      <td>DC</td>\n",
              "    </tr>\n",
              "  </tbody>\n",
              "</table>\n",
              "<p>1288 rows × 10 columns</p>\n",
              "</div>\n",
              "      <button class=\"colab-df-convert\" onclick=\"convertToInteractive('df-86b3d3bf-da10-414a-9ebb-3292267db93b')\"\n",
              "              title=\"Convert this dataframe to an interactive table.\"\n",
              "              style=\"display:none;\">\n",
              "        \n",
              "  <svg xmlns=\"http://www.w3.org/2000/svg\" height=\"24px\"viewBox=\"0 0 24 24\"\n",
              "       width=\"24px\">\n",
              "    <path d=\"M0 0h24v24H0V0z\" fill=\"none\"/>\n",
              "    <path d=\"M18.56 5.44l.94 2.06.94-2.06 2.06-.94-2.06-.94-.94-2.06-.94 2.06-2.06.94zm-11 1L8.5 8.5l.94-2.06 2.06-.94-2.06-.94L8.5 2.5l-.94 2.06-2.06.94zm10 10l.94 2.06.94-2.06 2.06-.94-2.06-.94-.94-2.06-.94 2.06-2.06.94z\"/><path d=\"M17.41 7.96l-1.37-1.37c-.4-.4-.92-.59-1.43-.59-.52 0-1.04.2-1.43.59L10.3 9.45l-7.72 7.72c-.78.78-.78 2.05 0 2.83L4 21.41c.39.39.9.59 1.41.59.51 0 1.02-.2 1.41-.59l7.78-7.78 2.81-2.81c.8-.78.8-2.07 0-2.86zM5.41 20L4 18.59l7.72-7.72 1.47 1.35L5.41 20z\"/>\n",
              "  </svg>\n",
              "      </button>\n",
              "      \n",
              "  <style>\n",
              "    .colab-df-container {\n",
              "      display:flex;\n",
              "      flex-wrap:wrap;\n",
              "      gap: 12px;\n",
              "    }\n",
              "\n",
              "    .colab-df-convert {\n",
              "      background-color: #E8F0FE;\n",
              "      border: none;\n",
              "      border-radius: 50%;\n",
              "      cursor: pointer;\n",
              "      display: none;\n",
              "      fill: #1967D2;\n",
              "      height: 32px;\n",
              "      padding: 0 0 0 0;\n",
              "      width: 32px;\n",
              "    }\n",
              "\n",
              "    .colab-df-convert:hover {\n",
              "      background-color: #E2EBFA;\n",
              "      box-shadow: 0px 1px 2px rgba(60, 64, 67, 0.3), 0px 1px 3px 1px rgba(60, 64, 67, 0.15);\n",
              "      fill: #174EA6;\n",
              "    }\n",
              "\n",
              "    [theme=dark] .colab-df-convert {\n",
              "      background-color: #3B4455;\n",
              "      fill: #D2E3FC;\n",
              "    }\n",
              "\n",
              "    [theme=dark] .colab-df-convert:hover {\n",
              "      background-color: #434B5C;\n",
              "      box-shadow: 0px 1px 3px 1px rgba(0, 0, 0, 0.15);\n",
              "      filter: drop-shadow(0px 1px 2px rgba(0, 0, 0, 0.3));\n",
              "      fill: #FFFFFF;\n",
              "    }\n",
              "  </style>\n",
              "\n",
              "      <script>\n",
              "        const buttonEl =\n",
              "          document.querySelector('#df-86b3d3bf-da10-414a-9ebb-3292267db93b button.colab-df-convert');\n",
              "        buttonEl.style.display =\n",
              "          google.colab.kernel.accessAllowed ? 'block' : 'none';\n",
              "\n",
              "        async function convertToInteractive(key) {\n",
              "          const element = document.querySelector('#df-86b3d3bf-da10-414a-9ebb-3292267db93b');\n",
              "          const dataTable =\n",
              "            await google.colab.kernel.invokeFunction('convertToInteractive',\n",
              "                                                     [key], {});\n",
              "          if (!dataTable) return;\n",
              "\n",
              "          const docLinkHtml = 'Like what you see? Visit the ' +\n",
              "            '<a target=\"_blank\" href=https://colab.research.google.com/notebooks/data_table.ipynb>data table notebook</a>'\n",
              "            + ' to learn more about interactive tables.';\n",
              "          element.innerHTML = '';\n",
              "          dataTable['output_type'] = 'display_data';\n",
              "          await google.colab.output.renderOutput(dataTable, element);\n",
              "          const docLink = document.createElement('div');\n",
              "          docLink.innerHTML = docLinkHtml;\n",
              "          element.appendChild(docLink);\n",
              "        }\n",
              "      </script>\n",
              "    </div>\n",
              "  </div>\n",
              "  "
            ]
          },
          "metadata": {},
          "execution_count": 34
        }
      ],
      "source": [
        "# Create the data frame with the new combined data\n",
        "#new_df = pd.DataFrame([list_magnification_40x_canny_01, list_magnification_40x_canny_02, list_magnification_100x_canny_01, list_magnification_100x_canny_02, list_magnification_200x_canny_01, list_magnification_200x_canny_02, list_magnification_400x_canny_01, list_magnification_400x_canny_02, list_tumor_class, list_tumor_type], columns = ['canny_values_01_40x', 'canny_values_02_40x', 'canny_values_01_100x', 'canny_values_02_100x', 'canny_values_01_200x', 'canny_values_02_200x', 'canny_values_01_400x', 'canny_values_02_400x', 'tumor_class', 'tumor_type'])\n",
        "new_df = pd.DataFrame()\n",
        "\n",
        "new_df['canny_values_01_40x'] = list_magnification_40x_canny_01\n",
        "new_df['canny_values_02_40x'] = list_magnification_40x_canny_02\n",
        "new_df['canny_values_01_100x'] = list_magnification_100x_canny_01\n",
        "new_df['canny_values_02_100x'] = list_magnification_100x_canny_02\n",
        "new_df['canny_values_01_200x'] = list_magnification_200x_canny_01\n",
        "new_df['canny_values_02_200x'] = list_magnification_200x_canny_02\n",
        "new_df['canny_values_01_400x'] = list_magnification_400x_canny_01\n",
        "new_df['canny_values_02_400x'] = list_magnification_400x_canny_02\n",
        "new_df['tumor_class'] = list_tumor_class\n",
        "new_df['tumor_type'] = list_tumor_type\n",
        "\n",
        "new_df"
      ]
    },
    {
      "cell_type": "markdown",
      "id": "hWA3E05YFz2l",
      "metadata": {
        "id": "hWA3E05YFz2l"
      },
      "source": [
        "# Get information about the new dataset\n",
        "* Number of instances per tumor class and tumor type"
      ]
    },
    {
      "cell_type": "code",
      "execution_count": 35,
      "id": "dUtEdyNmFzmX",
      "metadata": {
        "id": "dUtEdyNmFzmX",
        "colab": {
          "base_uri": "https://localhost:8080/"
        },
        "outputId": "a0538cc0-77ee-4207-d476-8eafe455518b"
      },
      "outputs": [
        {
          "output_type": "stream",
          "name": "stdout",
          "text": [
            "\n",
            "\n",
            "New dataset: describe()\n",
            "count     1288\n",
            "unique       8\n",
            "top         DC\n",
            "freq       584\n",
            "Name: tumor_type, dtype: object\n",
            "\n",
            "New dataset: Number of instances for each tumor type\n",
            "DC    584\n",
            "F     160\n",
            "MC    144\n",
            "TA    112\n",
            "PC     96\n",
            "LC     80\n",
            "A      64\n",
            "PT     48\n",
            "Name: tumor_type, dtype: int64\n",
            "\n",
            "New dataset: Number of instances for each tumor class\n",
            "M    904\n",
            "B    384\n",
            "Name: tumor_class, dtype: int64\n"
          ]
        }
      ],
      "source": [
        "# Describe the dataset\n",
        "print(\"\\n\\nNew dataset: describe()\")\n",
        "print(new_df['tumor_type'].describe())\n",
        "# Get the number of instances of each tumor type\n",
        "print(\"\\nNew dataset: Number of instances for each tumor type\")\n",
        "print(new_df['tumor_type'].value_counts())\n",
        "# Get the number of instances of each tumor class\n",
        "print(\"\\nNew dataset: Number of instances for each tumor class\")\n",
        "print(new_df['tumor_class'].value_counts())"
      ]
    },
    {
      "cell_type": "markdown",
      "id": "389b489c",
      "metadata": {
        "id": "389b489c"
      },
      "source": [
        "# Save the new data frame to disk (not run due to large file size)"
      ]
    },
    {
      "cell_type": "code",
      "execution_count": null,
      "id": "VJBlH61cry5C",
      "metadata": {
        "id": "VJBlH61cry5C"
      },
      "outputs": [],
      "source": [
        "# Save the data frame\n",
        "#new_df.to_csv(rf'csvfile_new_df_grp_max_20.csv')"
      ]
    },
    {
      "cell_type": "markdown",
      "id": "jB87anN_WRDz",
      "metadata": {
        "id": "jB87anN_WRDz"
      },
      "source": [
        "# Classification"
      ]
    },
    {
      "cell_type": "markdown",
      "id": "9b0d634f",
      "metadata": {
        "id": "9b0d634f"
      },
      "source": [
        "## Data selection\n",
        "* (Option 1) Tumor type\n",
        "\n",
        "  * A = Adenosis\n",
        "  * F = Fibroadenoma\n",
        "  * TA = Tubular Adenoma\n",
        "  * PT = Phyllodes Tumor\n",
        "\n",
        "  * DC = Ductal Carcicoma\n",
        "  * LC = Lobular Carcicoma\n",
        "  * MC = Mucinous Carcicoma (Colloid)\n",
        "  * PC = Papillary Carcicoma\n",
        "\n",
        "* (Option 2) Tumor class\n",
        "\n",
        "  * B = Benign\n",
        "  * M = Malign"
      ]
    },
    {
      "cell_type": "markdown",
      "id": "Nc8SJh0hQqgn",
      "metadata": {
        "id": "Nc8SJh0hQqgn"
      },
      "source": [
        "### Option 1: Remove the tumor class column\n"
      ]
    },
    {
      "cell_type": "code",
      "execution_count": null,
      "id": "87_giggHSCSK",
      "metadata": {
        "id": "87_giggHSCSK"
      },
      "outputs": [],
      "source": [
        "# Drop the tumor class column\n",
        "#new_df = new_df.drop(columns=['tumor_class'])\n",
        "#new_df"
      ]
    },
    {
      "cell_type": "markdown",
      "id": "Knq90kyyT1Hs",
      "metadata": {
        "id": "Knq90kyyT1Hs"
      },
      "source": [
        "### Option 2: Remove the tumor type column\n",
        "\n"
      ]
    },
    {
      "cell_type": "code",
      "execution_count": 36,
      "id": "zj7y5wzZTyCc",
      "metadata": {
        "id": "zj7y5wzZTyCc",
        "colab": {
          "base_uri": "https://localhost:8080/",
          "height": 424
        },
        "outputId": "3ae47e57-84ae-4adb-fdb8-f309af0fc722"
      },
      "outputs": [
        {
          "output_type": "execute_result",
          "data": {
            "text/plain": [
              "      canny_values_01_40x  canny_values_02_40x  canny_values_01_100x  \\\n",
              "0                    1.16                 1.25                  1.10   \n",
              "1                    1.16                 1.25                  1.10   \n",
              "2                    1.16                 1.25                  1.10   \n",
              "3                    1.16                 1.25                  1.10   \n",
              "4                    1.16                 1.25                  1.08   \n",
              "...                   ...                  ...                   ...   \n",
              "1283                 1.08                 1.15                  1.00   \n",
              "1284                 1.08                 1.15                  1.01   \n",
              "1285                 1.08                 1.15                  1.01   \n",
              "1286                 1.08                 1.15                  1.01   \n",
              "1287                 1.08                 1.15                  1.01   \n",
              "\n",
              "      canny_values_02_100x  canny_values_01_200x  canny_values_02_200x  \\\n",
              "0                     1.18                  1.02                  1.10   \n",
              "1                     1.18                  1.02                  1.10   \n",
              "2                     1.18                  1.07                  1.13   \n",
              "3                     1.18                  1.07                  1.13   \n",
              "4                     1.16                  1.02                  1.10   \n",
              "...                    ...                   ...                   ...   \n",
              "1283                  1.06                  1.04                  1.06   \n",
              "1284                  1.06                  0.98                  1.03   \n",
              "1285                  1.06                  0.98                  1.03   \n",
              "1286                  1.06                  1.04                  1.06   \n",
              "1287                  1.06                  1.04                  1.06   \n",
              "\n",
              "      canny_values_01_400x  canny_values_02_400x tumor_class  \n",
              "0                     1.03                  1.08           M  \n",
              "1                     0.99                  1.02           M  \n",
              "2                     1.03                  1.08           M  \n",
              "3                     0.99                  1.02           M  \n",
              "4                     1.03                  1.08           M  \n",
              "...                    ...                   ...         ...  \n",
              "1283                  1.01                  1.06           M  \n",
              "1284                  1.01                  1.05           M  \n",
              "1285                  1.01                  1.06           M  \n",
              "1286                  1.01                  1.05           M  \n",
              "1287                  1.01                  1.06           M  \n",
              "\n",
              "[1288 rows x 9 columns]"
            ],
            "text/html": [
              "\n",
              "  <div id=\"df-16aedc0b-836e-464f-931c-bc3b20ee39ea\">\n",
              "    <div class=\"colab-df-container\">\n",
              "      <div>\n",
              "<style scoped>\n",
              "    .dataframe tbody tr th:only-of-type {\n",
              "        vertical-align: middle;\n",
              "    }\n",
              "\n",
              "    .dataframe tbody tr th {\n",
              "        vertical-align: top;\n",
              "    }\n",
              "\n",
              "    .dataframe thead th {\n",
              "        text-align: right;\n",
              "    }\n",
              "</style>\n",
              "<table border=\"1\" class=\"dataframe\">\n",
              "  <thead>\n",
              "    <tr style=\"text-align: right;\">\n",
              "      <th></th>\n",
              "      <th>canny_values_01_40x</th>\n",
              "      <th>canny_values_02_40x</th>\n",
              "      <th>canny_values_01_100x</th>\n",
              "      <th>canny_values_02_100x</th>\n",
              "      <th>canny_values_01_200x</th>\n",
              "      <th>canny_values_02_200x</th>\n",
              "      <th>canny_values_01_400x</th>\n",
              "      <th>canny_values_02_400x</th>\n",
              "      <th>tumor_class</th>\n",
              "    </tr>\n",
              "  </thead>\n",
              "  <tbody>\n",
              "    <tr>\n",
              "      <th>0</th>\n",
              "      <td>1.16</td>\n",
              "      <td>1.25</td>\n",
              "      <td>1.10</td>\n",
              "      <td>1.18</td>\n",
              "      <td>1.02</td>\n",
              "      <td>1.10</td>\n",
              "      <td>1.03</td>\n",
              "      <td>1.08</td>\n",
              "      <td>M</td>\n",
              "    </tr>\n",
              "    <tr>\n",
              "      <th>1</th>\n",
              "      <td>1.16</td>\n",
              "      <td>1.25</td>\n",
              "      <td>1.10</td>\n",
              "      <td>1.18</td>\n",
              "      <td>1.02</td>\n",
              "      <td>1.10</td>\n",
              "      <td>0.99</td>\n",
              "      <td>1.02</td>\n",
              "      <td>M</td>\n",
              "    </tr>\n",
              "    <tr>\n",
              "      <th>2</th>\n",
              "      <td>1.16</td>\n",
              "      <td>1.25</td>\n",
              "      <td>1.10</td>\n",
              "      <td>1.18</td>\n",
              "      <td>1.07</td>\n",
              "      <td>1.13</td>\n",
              "      <td>1.03</td>\n",
              "      <td>1.08</td>\n",
              "      <td>M</td>\n",
              "    </tr>\n",
              "    <tr>\n",
              "      <th>3</th>\n",
              "      <td>1.16</td>\n",
              "      <td>1.25</td>\n",
              "      <td>1.10</td>\n",
              "      <td>1.18</td>\n",
              "      <td>1.07</td>\n",
              "      <td>1.13</td>\n",
              "      <td>0.99</td>\n",
              "      <td>1.02</td>\n",
              "      <td>M</td>\n",
              "    </tr>\n",
              "    <tr>\n",
              "      <th>4</th>\n",
              "      <td>1.16</td>\n",
              "      <td>1.25</td>\n",
              "      <td>1.08</td>\n",
              "      <td>1.16</td>\n",
              "      <td>1.02</td>\n",
              "      <td>1.10</td>\n",
              "      <td>1.03</td>\n",
              "      <td>1.08</td>\n",
              "      <td>M</td>\n",
              "    </tr>\n",
              "    <tr>\n",
              "      <th>...</th>\n",
              "      <td>...</td>\n",
              "      <td>...</td>\n",
              "      <td>...</td>\n",
              "      <td>...</td>\n",
              "      <td>...</td>\n",
              "      <td>...</td>\n",
              "      <td>...</td>\n",
              "      <td>...</td>\n",
              "      <td>...</td>\n",
              "    </tr>\n",
              "    <tr>\n",
              "      <th>1283</th>\n",
              "      <td>1.08</td>\n",
              "      <td>1.15</td>\n",
              "      <td>1.00</td>\n",
              "      <td>1.06</td>\n",
              "      <td>1.04</td>\n",
              "      <td>1.06</td>\n",
              "      <td>1.01</td>\n",
              "      <td>1.06</td>\n",
              "      <td>M</td>\n",
              "    </tr>\n",
              "    <tr>\n",
              "      <th>1284</th>\n",
              "      <td>1.08</td>\n",
              "      <td>1.15</td>\n",
              "      <td>1.01</td>\n",
              "      <td>1.06</td>\n",
              "      <td>0.98</td>\n",
              "      <td>1.03</td>\n",
              "      <td>1.01</td>\n",
              "      <td>1.05</td>\n",
              "      <td>M</td>\n",
              "    </tr>\n",
              "    <tr>\n",
              "      <th>1285</th>\n",
              "      <td>1.08</td>\n",
              "      <td>1.15</td>\n",
              "      <td>1.01</td>\n",
              "      <td>1.06</td>\n",
              "      <td>0.98</td>\n",
              "      <td>1.03</td>\n",
              "      <td>1.01</td>\n",
              "      <td>1.06</td>\n",
              "      <td>M</td>\n",
              "    </tr>\n",
              "    <tr>\n",
              "      <th>1286</th>\n",
              "      <td>1.08</td>\n",
              "      <td>1.15</td>\n",
              "      <td>1.01</td>\n",
              "      <td>1.06</td>\n",
              "      <td>1.04</td>\n",
              "      <td>1.06</td>\n",
              "      <td>1.01</td>\n",
              "      <td>1.05</td>\n",
              "      <td>M</td>\n",
              "    </tr>\n",
              "    <tr>\n",
              "      <th>1287</th>\n",
              "      <td>1.08</td>\n",
              "      <td>1.15</td>\n",
              "      <td>1.01</td>\n",
              "      <td>1.06</td>\n",
              "      <td>1.04</td>\n",
              "      <td>1.06</td>\n",
              "      <td>1.01</td>\n",
              "      <td>1.06</td>\n",
              "      <td>M</td>\n",
              "    </tr>\n",
              "  </tbody>\n",
              "</table>\n",
              "<p>1288 rows × 9 columns</p>\n",
              "</div>\n",
              "      <button class=\"colab-df-convert\" onclick=\"convertToInteractive('df-16aedc0b-836e-464f-931c-bc3b20ee39ea')\"\n",
              "              title=\"Convert this dataframe to an interactive table.\"\n",
              "              style=\"display:none;\">\n",
              "        \n",
              "  <svg xmlns=\"http://www.w3.org/2000/svg\" height=\"24px\"viewBox=\"0 0 24 24\"\n",
              "       width=\"24px\">\n",
              "    <path d=\"M0 0h24v24H0V0z\" fill=\"none\"/>\n",
              "    <path d=\"M18.56 5.44l.94 2.06.94-2.06 2.06-.94-2.06-.94-.94-2.06-.94 2.06-2.06.94zm-11 1L8.5 8.5l.94-2.06 2.06-.94-2.06-.94L8.5 2.5l-.94 2.06-2.06.94zm10 10l.94 2.06.94-2.06 2.06-.94-2.06-.94-.94-2.06-.94 2.06-2.06.94z\"/><path d=\"M17.41 7.96l-1.37-1.37c-.4-.4-.92-.59-1.43-.59-.52 0-1.04.2-1.43.59L10.3 9.45l-7.72 7.72c-.78.78-.78 2.05 0 2.83L4 21.41c.39.39.9.59 1.41.59.51 0 1.02-.2 1.41-.59l7.78-7.78 2.81-2.81c.8-.78.8-2.07 0-2.86zM5.41 20L4 18.59l7.72-7.72 1.47 1.35L5.41 20z\"/>\n",
              "  </svg>\n",
              "      </button>\n",
              "      \n",
              "  <style>\n",
              "    .colab-df-container {\n",
              "      display:flex;\n",
              "      flex-wrap:wrap;\n",
              "      gap: 12px;\n",
              "    }\n",
              "\n",
              "    .colab-df-convert {\n",
              "      background-color: #E8F0FE;\n",
              "      border: none;\n",
              "      border-radius: 50%;\n",
              "      cursor: pointer;\n",
              "      display: none;\n",
              "      fill: #1967D2;\n",
              "      height: 32px;\n",
              "      padding: 0 0 0 0;\n",
              "      width: 32px;\n",
              "    }\n",
              "\n",
              "    .colab-df-convert:hover {\n",
              "      background-color: #E2EBFA;\n",
              "      box-shadow: 0px 1px 2px rgba(60, 64, 67, 0.3), 0px 1px 3px 1px rgba(60, 64, 67, 0.15);\n",
              "      fill: #174EA6;\n",
              "    }\n",
              "\n",
              "    [theme=dark] .colab-df-convert {\n",
              "      background-color: #3B4455;\n",
              "      fill: #D2E3FC;\n",
              "    }\n",
              "\n",
              "    [theme=dark] .colab-df-convert:hover {\n",
              "      background-color: #434B5C;\n",
              "      box-shadow: 0px 1px 3px 1px rgba(0, 0, 0, 0.15);\n",
              "      filter: drop-shadow(0px 1px 2px rgba(0, 0, 0, 0.3));\n",
              "      fill: #FFFFFF;\n",
              "    }\n",
              "  </style>\n",
              "\n",
              "      <script>\n",
              "        const buttonEl =\n",
              "          document.querySelector('#df-16aedc0b-836e-464f-931c-bc3b20ee39ea button.colab-df-convert');\n",
              "        buttonEl.style.display =\n",
              "          google.colab.kernel.accessAllowed ? 'block' : 'none';\n",
              "\n",
              "        async function convertToInteractive(key) {\n",
              "          const element = document.querySelector('#df-16aedc0b-836e-464f-931c-bc3b20ee39ea');\n",
              "          const dataTable =\n",
              "            await google.colab.kernel.invokeFunction('convertToInteractive',\n",
              "                                                     [key], {});\n",
              "          if (!dataTable) return;\n",
              "\n",
              "          const docLinkHtml = 'Like what you see? Visit the ' +\n",
              "            '<a target=\"_blank\" href=https://colab.research.google.com/notebooks/data_table.ipynb>data table notebook</a>'\n",
              "            + ' to learn more about interactive tables.';\n",
              "          element.innerHTML = '';\n",
              "          dataTable['output_type'] = 'display_data';\n",
              "          await google.colab.output.renderOutput(dataTable, element);\n",
              "          const docLink = document.createElement('div');\n",
              "          docLink.innerHTML = docLinkHtml;\n",
              "          element.appendChild(docLink);\n",
              "        }\n",
              "      </script>\n",
              "    </div>\n",
              "  </div>\n",
              "  "
            ]
          },
          "metadata": {},
          "execution_count": 36
        }
      ],
      "source": [
        "# Drop the tumor class column\n",
        "new_df = new_df.drop(columns=['tumor_type'])\n",
        "new_df"
      ]
    },
    {
      "cell_type": "markdown",
      "id": "0C6PsO51GuUs",
      "metadata": {
        "id": "0C6PsO51GuUs"
      },
      "source": [
        "## Get information again\n",
        "* Number of tumor type/class in the dataset"
      ]
    },
    {
      "cell_type": "code",
      "execution_count": null,
      "id": "ExuUhrVDOrRn",
      "metadata": {
        "id": "ExuUhrVDOrRn"
      },
      "outputs": [],
      "source": [
        "# Describe the dataset\n",
        "#print(\"\\n\\nNew dataset: describe()\")\n",
        "#print(new_df['tumor_type'].describe())\n",
        "# Get the number of instances of each tumor type\n",
        "#print(\"\\nNew dataset: Number of instances for each tumor type\")\n",
        "#print(new_df['tumor_type'].value_counts())"
      ]
    },
    {
      "cell_type": "code",
      "execution_count": 37,
      "id": "_jYzO50JG1M3",
      "metadata": {
        "id": "_jYzO50JG1M3",
        "colab": {
          "base_uri": "https://localhost:8080/"
        },
        "outputId": "4208b727-89ce-4822-ece1-97d6b6ba4ae4"
      },
      "outputs": [
        {
          "output_type": "stream",
          "name": "stdout",
          "text": [
            "\n",
            "\n",
            "New dataset: describe()\n",
            "\n",
            "New dataset: Number of instances for each tumor class\n",
            "M    904\n",
            "B    384\n",
            "Name: tumor_class, dtype: int64\n"
          ]
        }
      ],
      "source": [
        "# Describe the dataset\n",
        "print(\"\\n\\nNew dataset: describe()\")\n",
        "#print(new_df['tumor_class'].describe())\n",
        "# Get the number of instances of each tumor class\n",
        "print(\"\\nNew dataset: Number of instances for each tumor class\")\n",
        "print(new_df['tumor_class'].value_counts())"
      ]
    },
    {
      "cell_type": "markdown",
      "id": "aWAI13BWUdsi",
      "metadata": {
        "id": "aWAI13BWUdsi"
      },
      "source": [
        "## Split data intro training and testing groups\n",
        "\n",
        "* X stores all observations\n",
        "* y stores all predictions\n",
        "\n",
        "* X_train stores training group observations\n",
        "* y_train stores training group predictions\n",
        "\n",
        "* X_test stores testing group observations\n",
        "* y_test stores testing group predictions"
      ]
    },
    {
      "cell_type": "code",
      "execution_count": 38,
      "id": "DXauk6jfUgc6",
      "metadata": {
        "id": "DXauk6jfUgc6",
        "colab": {
          "base_uri": "https://localhost:8080/"
        },
        "outputId": "c0516298-8f23-4f3a-bcd2-6ba3a2b66d12"
      },
      "outputs": [
        {
          "output_type": "stream",
          "name": "stdout",
          "text": [
            "Full dataset size\n",
            "(1288, 8)\n",
            "(1288,)\n",
            "\n",
            "Training dataset size\n",
            "(901, 8)\n",
            "(901,)\n",
            "\n",
            "Testing dataset size\n",
            "(387, 8)\n",
            "(387,)\n"
          ]
        }
      ],
      "source": [
        "# Get the observations/input values from the new data frame\n",
        "#X = np.c_[new_df[['canny_values_01_40x', 'canny_values_02_40x', 'canny_values_01_100x', 'canny_values_02_100x', 'canny_values_01_200x', 'canny_values_02_200x', 'canny_values_01_400x', 'canny_values_02_400x']]]\n",
        "# Get the predictions (from tge \"tumor class\" or the \"tumor type\" column)\n",
        "#y = np.c_[new_df['tumor_class']]\n",
        "#y = np.c_[new_df['tumor_type']]\n",
        "\n",
        "X = new_df[['canny_values_01_40x', 'canny_values_02_40x', 'canny_values_01_100x', 'canny_values_02_100x', 'canny_values_01_200x', 'canny_values_02_200x', 'canny_values_01_400x', 'canny_values_02_400x']]\n",
        "# Get the predictions (from tge \"tumor class\" or the \"tumor type\" column)\n",
        "y = new_df['tumor_class']\n",
        "#y = new_df['tumor_type']\n",
        "\n",
        "# Split the data\n",
        "percentage_for_test_size = 0.3\n",
        "X_train, X_test, y_train, y_test = train_test_split(X, y, test_size = percentage_for_test_size, shuffle = True)\n",
        "print(\"Full dataset size\")\n",
        "print(X.shape)\n",
        "print(y.shape)\n",
        "\n",
        "print(\"\\nTraining dataset size\")\n",
        "print(X_train.shape)\n",
        "print(y_train.shape)\n",
        "print(\"\\nTesting dataset size\")\n",
        "print(X_test.shape)\n",
        "print(y_test.shape)"
      ]
    },
    {
      "cell_type": "markdown",
      "id": "gNVpmFhSXsR8",
      "metadata": {
        "id": "gNVpmFhSXsR8"
      },
      "source": [
        "## Pre-processing"
      ]
    },
    {
      "cell_type": "markdown",
      "id": "82c06897",
      "metadata": {
        "id": "82c06897"
      },
      "source": [
        "### Scaling (training and testing data)"
      ]
    },
    {
      "cell_type": "code",
      "execution_count": 39,
      "id": "dP83SXQSX2wx",
      "metadata": {
        "id": "dP83SXQSX2wx"
      },
      "outputs": [],
      "source": [
        "#scaler = preprocessing.MinMaxScaler().fit(X_train)\n",
        "scaler = preprocessing.StandardScaler().fit(X_train)\n",
        "X_train_scaled = scaler.transform(X_train)\n",
        "X_test_scaled = scaler.transform(X_test)"
      ]
    },
    {
      "cell_type": "markdown",
      "id": "47cb44cc",
      "metadata": {
        "id": "47cb44cc"
      },
      "source": [
        "### Correct the training vector shape"
      ]
    },
    {
      "cell_type": "code",
      "execution_count": 40,
      "id": "b940bb36",
      "metadata": {
        "id": "b940bb36"
      },
      "outputs": [],
      "source": [
        "# Correct the issue of size (numpy format)\n",
        "y_train = np.ravel(y_train)"
      ]
    },
    {
      "cell_type": "markdown",
      "id": "p3WXYgwvZVcG",
      "metadata": {
        "id": "p3WXYgwvZVcG"
      },
      "source": [
        "### Manage unbalanced data set"
      ]
    },
    {
      "cell_type": "code",
      "execution_count": 41,
      "id": "m2mIobv3Zd3E",
      "metadata": {
        "id": "m2mIobv3Zd3E",
        "colab": {
          "base_uri": "https://localhost:8080/"
        },
        "outputId": "ff149170-0451-48a6-d747-4a648e051d16"
      },
      "outputs": [
        {
          "output_type": "stream",
          "name": "stdout",
          "text": [
            "Before unbalance management Counter({'M': 630, 'B': 271})\n",
            "After unbalance management Counter({'B': 271, 'M': 271})\n",
            "\n",
            "Training dataset size\n",
            "(542, 8)\n",
            "(542,)\n",
            "\n",
            "Testing dataset size\n",
            "(387, 8)\n",
            "(387,)\n"
          ]
        }
      ],
      "source": [
        "# Print data prior unbalance management\n",
        "print(\"Before unbalance management\", Counter(y_train))\n",
        "\n",
        "# Instantiate sampler strategy\n",
        "undersample = RandomUnderSampler(sampling_strategy='majority')\n",
        "\n",
        "# Apply strategy\n",
        "X_train_balanced, y_train_balanced = undersample.fit_resample(X_train_scaled, y_train)\n",
        "\n",
        "# Print data after unbalance management\n",
        "print(\"After unbalance management\", Counter(y_train_balanced))\n",
        "\n",
        "print(\"\\nTraining dataset size\")\n",
        "print(X_train_balanced.shape)\n",
        "print(y_train_balanced.shape)\n",
        "print(\"\\nTesting dataset size\")\n",
        "print(X_test_scaled.shape)\n",
        "print(y_test.shape)"
      ]
    },
    {
      "cell_type": "markdown",
      "id": "cK4PymsNJ38S",
      "metadata": {
        "id": "cK4PymsNJ38S"
      },
      "source": [
        "## Compute feature importance\n",
        "* Use a decision tree to get the importance of each feature on classification\n",
        "* Use all dataset since we want to know the feature importance"
      ]
    },
    {
      "cell_type": "code",
      "execution_count": 42,
      "id": "k-7T3TKGKBjp",
      "metadata": {
        "id": "k-7T3TKGKBjp",
        "colab": {
          "base_uri": "https://localhost:8080/"
        },
        "outputId": "2b0aa8c4-8c77-4645-cd20-17491e2297e1"
      },
      "outputs": [
        {
          "output_type": "execute_result",
          "data": {
            "text/plain": [
              "0.9627329192546584"
            ]
          },
          "metadata": {},
          "execution_count": 42
        }
      ],
      "source": [
        "# Instance the decision tree\n",
        "tree = DecisionTreeClassifier(max_depth = 10, random_state=0)\n",
        "# Fit with the whole dataset to get feature importance\n",
        "tree.fit(X, y)\n",
        "tree.score(X, y)"
      ]
    },
    {
      "cell_type": "code",
      "execution_count": 43,
      "id": "rzJPnfHjKn37",
      "metadata": {
        "id": "rzJPnfHjKn37",
        "colab": {
          "base_uri": "https://localhost:8080/",
          "height": 592
        },
        "outputId": "7bfd0bbc-94d7-42bc-fc2d-87bc9727a699"
      },
      "outputs": [
        {
          "output_type": "display_data",
          "data": {
            "text/plain": [
              "<Figure size 1800x720 with 1 Axes>"
            ],
            "image/png": "[encoded data removed]"
          },
          "metadata": {
            "needs_background": "light"
          }
        }
      ],
      "source": [
        "# Get a graph with the importance of each feature\n",
        "%matplotlib inline\n",
        "pd.Series(tree.feature_importances_, index = X.columns).plot.barh(figsize=(25, 10));"
      ]
    },
    {
      "cell_type": "markdown",
      "id": "bb5892be",
      "metadata": {
        "id": "bb5892be"
      },
      "source": [
        "## Proceed to classification (processing)"
      ]
    },
    {
      "cell_type": "markdown",
      "id": "0BSyE3buIKaX",
      "metadata": {
        "id": "0BSyE3buIKaX"
      },
      "source": [
        "### Dummy classifier\n",
        "* Create a dummy classifier to get the worst cases to compare with\n",
        "* It is expected that the tested classifiers get better results that the dummy one\n",
        "* Use different strategies for the dummy **classifier**"
      ]
    },
    {
      "cell_type": "code",
      "execution_count": 44,
      "id": "iCJ39xLIINX4",
      "metadata": {
        "id": "iCJ39xLIINX4",
        "colab": {
          "base_uri": "https://localhost:8080/"
        },
        "outputId": "89c90514-e7c4-421e-f254-3b1dc3558190"
      },
      "outputs": [
        {
          "output_type": "stream",
          "name": "stdout",
          "text": [
            "most_frequent  | score = 0.2920 | time = 0.001s/0.006s\n",
            "stratified     | score = 0.5065 | time = 0.000s/0.002s\n",
            "prior          | score = 0.2920 | time = 0.000s/0.001s\n",
            "uniform        | score = 0.4961 | time = 0.000s/0.001s\n"
          ]
        }
      ],
      "source": [
        "for strategy in ['most_frequent', 'stratified', 'prior', 'uniform']:\n",
        "  dummy = DummyClassifier(strategy = strategy, random_state = 0)\n",
        "  # Fit\n",
        "  start = time()\n",
        "  dummy.fit(X_train_balanced, y_train_balanced)\n",
        "  train_time = time() - start\n",
        "  # Compute accuracy and prediction time\n",
        "  start = time()\n",
        "  score = dummy.score(X_test_scaled, y_test)\n",
        "  predict_time = time() - start\n",
        "  # Print results\n",
        "  print(\"{:<15}| score = {:.4f} | time = {:,.3f}s/{:,.3f}s\".format(strategy, score, train_time, predict_time))"
      ]
    },
    {
      "cell_type": "markdown",
      "id": "ILR7DMvQWLFJ",
      "metadata": {
        "id": "ILR7DMvQWLFJ"
      },
      "source": [
        "### Logistic regression"
      ]
    },
    {
      "cell_type": "code",
      "execution_count": 45,
      "id": "jqZ3wrmBWdlp",
      "metadata": {
        "id": "jqZ3wrmBWdlp",
        "colab": {
          "base_uri": "https://localhost:8080/",
          "height": 322
        },
        "outputId": "3a2302ef-0019-486c-a1c8-fca45e0ebc99"
      },
      "outputs": [
        {
          "output_type": "stream",
          "name": "stdout",
          "text": [
            "Accuracy = 0.6382 | time = 0.489s/0.000s\n",
            "\n",
            "Confusion matrix\n",
            "[[ 61  52]\n",
            " [ 88 186]]\n"
          ]
        },
        {
          "output_type": "error",
          "ename": "AttributeError",
          "evalue": "ignored",
          "traceback": [
            "\u001b[0;31m---------------------------------------------------------------------------\u001b[0m",
            "\u001b[0;31mAttributeError\u001b[0m                            Traceback (most recent call last)",
            "\u001b[0;32m<ipython-input-45-9908eade5085>\u001b[0m in \u001b[0;36m<module>\u001b[0;34m()\u001b[0m\n\u001b[1;32m     41\u001b[0m \u001b[0;31m#%sklearn inline\u001b[0m\u001b[0;34m\u001b[0m\u001b[0;34m\u001b[0m\u001b[0;34m\u001b[0m\u001b[0m\n\u001b[1;32m     42\u001b[0m \u001b[0;31m#metrics.ConfusionMatrixDisplay.from_estimator(estimator, X_test_scaled, y_test, display_labels=estimator.classes_, normalize='all', cmap='Greys')\u001b[0m\u001b[0;34m\u001b[0m\u001b[0;34m\u001b[0m\u001b[0;34m\u001b[0m\u001b[0m\n\u001b[0;32m---> 43\u001b[0;31m \u001b[0mmetrics\u001b[0m\u001b[0;34m.\u001b[0m\u001b[0mConfusionMatrixDisplay\u001b[0m\u001b[0;34m.\u001b[0m\u001b[0mfrom_predictions\u001b[0m\u001b[0;34m(\u001b[0m\u001b[0my_test\u001b[0m\u001b[0;34m,\u001b[0m \u001b[0my_pred\u001b[0m\u001b[0;34m,\u001b[0m \u001b[0mdisplay_labels\u001b[0m\u001b[0;34m=\u001b[0m\u001b[0mestimator\u001b[0m\u001b[0;34m.\u001b[0m\u001b[0mclasses_\u001b[0m\u001b[0;34m,\u001b[0m \u001b[0mnormalize\u001b[0m\u001b[0;34m=\u001b[0m\u001b[0;34m'all'\u001b[0m\u001b[0;34m,\u001b[0m \u001b[0mcmap\u001b[0m\u001b[0;34m=\u001b[0m\u001b[0;34m'Greys'\u001b[0m\u001b[0;34m)\u001b[0m\u001b[0;34m\u001b[0m\u001b[0;34m\u001b[0m\u001b[0m\n\u001b[0m\u001b[1;32m     44\u001b[0m \u001b[0mplt\u001b[0m\u001b[0;34m.\u001b[0m\u001b[0mtitle\u001b[0m\u001b[0;34m(\u001b[0m\u001b[0;34m\"Confusion matrix\"\u001b[0m\u001b[0;34m)\u001b[0m\u001b[0;34m\u001b[0m\u001b[0;34m\u001b[0m\u001b[0m\n\u001b[1;32m     45\u001b[0m \u001b[0mplt\u001b[0m\u001b[0;34m.\u001b[0m\u001b[0mfigure\u001b[0m\u001b[0;34m(\u001b[0m\u001b[0mfigsize\u001b[0m\u001b[0;34m=\u001b[0m\u001b[0;34m(\u001b[0m\u001b[0;36m10\u001b[0m\u001b[0;34m,\u001b[0m\u001b[0;36m10\u001b[0m\u001b[0;34m)\u001b[0m\u001b[0;34m)\u001b[0m\u001b[0;34m\u001b[0m\u001b[0;34m\u001b[0m\u001b[0m\n",
            "\u001b[0;31mAttributeError\u001b[0m: type object 'ConfusionMatrixDisplay' has no attribute 'from_predictions'"
          ]
        }
      ],
      "source": [
        "#   ****************Logistic Regression*****************\n",
        "#estimator = LogisticRegression(random_state=0, solver='liblinear', n_jobs=-1)\n",
        "estimator = LogisticRegression(random_state=0, solver='sag', n_jobs=-1)\n",
        "#estimator = LogisticRegression(random_state=0, solver='lbfgs', n_jobs=-1, verbose=1)\n",
        "\n",
        "# Fit\n",
        "start = time()\n",
        "estimator.fit(X_train_balanced, y_train_balanced)\n",
        "train_time = time() - start\n",
        "\n",
        "# Prediction\n",
        "start = time()\n",
        "y_pred = estimator.predict(X_test_scaled)\n",
        "predict_time = time() - start\n",
        "\n",
        "# Metrics\n",
        "accuracy = metrics.accuracy_score(y_test, y_pred)\n",
        "#print(\"Precision score of logistic regression classifier :: \" , metrics.precision_score(y_test, y_pred, average=None, labels=logReg.classes_))\n",
        "#print(\"Recall score of logistic regression classifier :: \" , metrics.recall_score(y_test, y_pred, average=None, labels=logReg.classes_))\n",
        "#print(\"F1 score of logistic regression classifier :: \" , metrics.f1_score(y_test, y_pred, average=None, labels=logReg.classes_))\n",
        "\n",
        "#print(\"ROC curve score of logistic regression classifier :: \" , metrics.roc_score(y_test, y_pred, average=None, labels=logReg.classes_))\n",
        "\n",
        "# Pre-processing\n",
        "y_pred = np.ravel(y_pred)\n",
        "\n",
        "# Print results\n",
        "print(\"Accuracy = {:.4f} | time = {:,.3f}s/{:,.3f}s\".format(accuracy, train_time, predict_time))\n",
        "\n",
        "# Plot confusion matrix\n",
        "cm = metrics.confusion_matrix(y_test, y_pred, labels=estimator.classes_)\n",
        "print(\"\\nConfusion matrix\")\n",
        "print(cm)\n",
        "\n",
        "#disp = metrics.ConfusionMatrixDisplay(confusion_matrix=cm, display_labels=estimator.classes_)\n",
        "#disp.plot()\n",
        "#plt.title(\"Confusion matrix\")\n",
        "#plt.figure(figsize=(10,10))\n",
        "#plt.show()\n",
        "\n",
        "#%sklearn inline\n",
        "#metrics.ConfusionMatrixDisplay.from_estimator(estimator, X_test_scaled, y_test, display_labels=estimator.classes_, normalize='all', cmap='Greys')\n",
        "metrics.ConfusionMatrixDisplay.from_predictions(y_test, y_pred, display_labels=estimator.classes_, normalize='all', cmap='Greys')\n",
        "plt.title(\"Confusion matrix\")\n",
        "plt.figure(figsize=(10,10))\n",
        "plt.show()\n",
        "\n",
        "# Classification report\n",
        "print(metrics.classification_report(y_test, y_pred, digits=4))\n",
        "\n",
        "# ROC curve and AUC\n",
        "#fpr, tpr, thresholds = metrics.roc_curve(y_test, y_score)\n",
        "fig, ax = plt.subplots()\n",
        "metrics.RocCurveDisplay.from_estimator(estimator, X_test_scaled, y_test, alpha=0.8, lw=2, ax=ax)\n",
        "#metrics.RocCurveDisplay.from_predictions(y_test, y_pred, alpha=0.8, lw=2, ax=ax)\n",
        "ax.plot([0,1], [0,1], linestyle=\"--\", lw=2, color = \"r\", alpha = 0.5)\n",
        "plt.title(\"ROC Curve\")\n",
        "plt.figure(figsize=(20,20))\n",
        "plt.show()\n",
        "\n",
        "# Check the section for multiclass\n",
        "# https://scikit-learn.org/stable/auto_examples/model_selection/plot_roc.html\n",
        "# For displaying ROC curve\n",
        "# https://scikit-learn.org/stable/modules/generated/sklearn.metrics.RocCurveDisplay.html#sklearn.metrics.RocCurveDisplay.from_estimator\n",
        "# ROC curve with cross-validation\n",
        "# https://scikit-learn.org/stable/auto_examples/model_selection/plot_roc_crossval.html#sphx-glr-auto-examples-model-selection-plot-roc-crossval-py\n",
        "\n",
        "# Area Under Curve (AUC)\n",
        "\n",
        "#auc = metrics.roc_auc_score(y_test, estimator.decision_function(X_test_scaled))\n",
        "# Check this https://scikit-learn.org/stable/modules/model_evaluation.html#roc-auc-binary\n",
        "# where \"estimator.predict_proba(X_test_scaled)[:, 1]\" corresponds to the probability of the class with the \"greater label\", that is why the 1 as the index.\n",
        "y_score = estimator.predict_proba(X_test_scaled)[:, 1]\n",
        "auc = metrics.roc_auc_score(y_test, y_score)\n",
        "\n",
        "print(\"\\nArea Under Curve (AUC) = {:.4f}\".format(auc))\n",
        "# Check examples for multiclass\n",
        "# https://scikit-learn.org/stable/modules/generated/sklearn.metrics.roc_auc_score.html#sklearn.metrics.roc_auc_score"
      ]
    },
    {
      "cell_type": "markdown",
      "source": [
        "#### Cross-validation for logistic regression"
      ],
      "metadata": {
        "id": "z03UeRGVXfvc"
      },
      "id": "z03UeRGVXfvc"
    },
    {
      "cell_type": "code",
      "source": [
        "start = time()\n",
        "#cross_validation_scores = cross_val_score(estimator, X_train_balanced, y_train_balanced, cv=LeaveOneOut(), scoring='f1_macro', n_jobs=-1, verbose=1)\n",
        "#cv = ShuffleSplit(n_splits=5, test_size=0.3, random_state=0)\n",
        "#cross_validation_scores = cross_val_score(estimator, X_train_balanced, y_train_balanced, cv=cv, scoring='f1_macro', n_jobs=-1, verbose=1)\n",
        "cross_validation_scores = cross_val_score(estimator, X_train_balanced, y_train_balanced, cv=10, scoring='f1_macro', n_jobs=-1, verbose=1)\n",
        "cross_validation_time = time() - start\n",
        "print(\"Mean cross-validation scores (Stratified CV) = {:.4f}\".format(np.mean(cross_validation_scores)))\n",
        "print(\"Standard deviation for cross-validation scores (Stratified CV) = {:.4f}\".format(np.std(cross_validation_scores)))\n",
        "print(\"Reported cross-validation time = {:,.3f}s\".format(cross_validation_time))\n",
        "print(\"All cross-validation scores:\\n\", cross_validation_scores)"
      ],
      "metadata": {
        "id": "OUZQtuV3XlTt",
        "colab": {
          "base_uri": "https://localhost:8080/"
        },
        "outputId": "eff38fd7-eb1e-4241-c2d5-7ebda874ea3f"
      },
      "id": "OUZQtuV3XlTt",
      "execution_count": 46,
      "outputs": [
        {
          "output_type": "stream",
          "name": "stderr",
          "text": [
            "[Parallel(n_jobs=-1)]: Using backend LokyBackend with 2 concurrent workers.\n"
          ]
        },
        {
          "output_type": "stream",
          "name": "stdout",
          "text": [
            "Mean cross-validation scores (Stratified CV) = 0.5812\n",
            "Standard deviation for cross-validation scores (Stratified CV) = 0.0599\n",
            "Reported cross-validation time = 2.667s\n",
            "All cross-validation scores:\n",
            " [0.61358314 0.52586207 0.53560372 0.59203297 0.6109777  0.67155635\n",
            " 0.59203297 0.51785714 0.48571429 0.66666667]\n"
          ]
        },
        {
          "output_type": "stream",
          "name": "stderr",
          "text": [
            "[Parallel(n_jobs=-1)]: Done  10 out of  10 | elapsed:    2.7s finished\n"
          ]
        }
      ]
    },
    {
      "cell_type": "markdown",
      "id": "YdFJbF9Zb2AT",
      "metadata": {
        "id": "YdFJbF9Zb2AT"
      },
      "source": [
        "### Multilayer Perceptron"
      ]
    },
    {
      "cell_type": "code",
      "execution_count": 48,
      "id": "FV0Il9bnTTAd",
      "metadata": {
        "id": "FV0Il9bnTTAd",
        "colab": {
          "base_uri": "https://localhost:8080/",
          "height": 1000
        },
        "outputId": "1027c3a0-f083-4dff-d3bd-9c4086c44079"
      },
      "outputs": [
        {
          "output_type": "stream",
          "name": "stdout",
          "text": [
            "Iteration 1, loss = 0.70681643\n",
            "Validation score: 0.527273\n",
            "Iteration 2, loss = 0.69661314\n",
            "Validation score: 0.509091\n",
            "Iteration 3, loss = 0.68734716\n",
            "Validation score: 0.490909\n",
            "Iteration 4, loss = 0.67936398\n",
            "Validation score: 0.472727\n",
            "Iteration 5, loss = 0.67182278\n",
            "Validation score: 0.509091\n",
            "Iteration 6, loss = 0.66469193\n",
            "Validation score: 0.581818\n",
            "Iteration 7, loss = 0.65795939\n",
            "Validation score: 0.545455\n",
            "Iteration 8, loss = 0.65144822\n",
            "Validation score: 0.545455\n",
            "Iteration 9, loss = 0.64561550\n",
            "Validation score: 0.563636\n",
            "Iteration 10, loss = 0.63998128\n",
            "Validation score: 0.545455\n",
            "Iteration 11, loss = 0.63441274\n",
            "Validation score: 0.581818\n",
            "Iteration 12, loss = 0.62933475\n",
            "Validation score: 0.654545\n",
            "Iteration 13, loss = 0.62431962\n",
            "Validation score: 0.636364\n",
            "Iteration 14, loss = 0.61975472\n",
            "Validation score: 0.636364\n",
            "Iteration 15, loss = 0.61520118\n",
            "Validation score: 0.654545\n",
            "Iteration 16, loss = 0.61081482\n",
            "Validation score: 0.636364\n",
            "Iteration 17, loss = 0.60687887\n",
            "Validation score: 0.654545\n",
            "Iteration 18, loss = 0.60302018\n",
            "Validation score: 0.636364\n",
            "Iteration 19, loss = 0.59929459\n",
            "Validation score: 0.636364\n",
            "Iteration 20, loss = 0.59565561\n",
            "Validation score: 0.636364\n",
            "Iteration 21, loss = 0.59201778\n",
            "Validation score: 0.636364\n",
            "Iteration 22, loss = 0.58901102\n",
            "Validation score: 0.636364\n",
            "Iteration 23, loss = 0.58558924\n",
            "Validation score: 0.636364\n",
            "Validation score did not improve more than tol=0.001000 for 10 consecutive epochs. Stopping.\n",
            "Accuracy = 0.6615 | time = 0.151s/0.001s\n",
            "\n",
            "Confusion matrix\n",
            "[[ 83  30]\n",
            " [101 173]]\n"
          ]
        },
        {
          "output_type": "error",
          "ename": "AttributeError",
          "evalue": "ignored",
          "traceback": [
            "\u001b[0;31m---------------------------------------------------------------------------\u001b[0m",
            "\u001b[0;31mAttributeError\u001b[0m                            Traceback (most recent call last)",
            "\u001b[0;32m<ipython-input-48-e321a284a0cf>\u001b[0m in \u001b[0;36m<module>\u001b[0;34m()\u001b[0m\n\u001b[1;32m     30\u001b[0m \u001b[0;34m\u001b[0m\u001b[0m\n\u001b[1;32m     31\u001b[0m \u001b[0;31m#metrics.ConfusionMatrixDisplay.from_estimator(estimator, X_test, y_test, display_labels=estimator.classes_, normalize='all', cmap='Greys')\u001b[0m\u001b[0;34m\u001b[0m\u001b[0;34m\u001b[0m\u001b[0;34m\u001b[0m\u001b[0m\n\u001b[0;32m---> 32\u001b[0;31m \u001b[0mmetrics\u001b[0m\u001b[0;34m.\u001b[0m\u001b[0mConfusionMatrixDisplay\u001b[0m\u001b[0;34m.\u001b[0m\u001b[0mfrom_predictions\u001b[0m\u001b[0;34m(\u001b[0m\u001b[0my_test\u001b[0m\u001b[0;34m,\u001b[0m \u001b[0my_pred\u001b[0m\u001b[0;34m,\u001b[0m \u001b[0mdisplay_labels\u001b[0m\u001b[0;34m=\u001b[0m\u001b[0mestimator\u001b[0m\u001b[0;34m.\u001b[0m\u001b[0mclasses_\u001b[0m\u001b[0;34m,\u001b[0m \u001b[0mnormalize\u001b[0m\u001b[0;34m=\u001b[0m\u001b[0;34m'all'\u001b[0m\u001b[0;34m,\u001b[0m \u001b[0mcmap\u001b[0m\u001b[0;34m=\u001b[0m\u001b[0;34m'Greys'\u001b[0m\u001b[0;34m)\u001b[0m\u001b[0;34m\u001b[0m\u001b[0;34m\u001b[0m\u001b[0m\n\u001b[0m\u001b[1;32m     33\u001b[0m \u001b[0mplt\u001b[0m\u001b[0;34m.\u001b[0m\u001b[0mtitle\u001b[0m\u001b[0;34m(\u001b[0m\u001b[0;34m\"Confusion matrix\"\u001b[0m\u001b[0;34m)\u001b[0m\u001b[0;34m\u001b[0m\u001b[0;34m\u001b[0m\u001b[0m\n\u001b[1;32m     34\u001b[0m \u001b[0mplt\u001b[0m\u001b[0;34m.\u001b[0m\u001b[0mfigure\u001b[0m\u001b[0;34m(\u001b[0m\u001b[0mfigsize\u001b[0m\u001b[0;34m=\u001b[0m\u001b[0;34m(\u001b[0m\u001b[0;36m10\u001b[0m\u001b[0;34m,\u001b[0m\u001b[0;36m10\u001b[0m\u001b[0;34m)\u001b[0m\u001b[0;34m)\u001b[0m\u001b[0;34m\u001b[0m\u001b[0;34m\u001b[0m\u001b[0m\n",
            "\u001b[0;31mAttributeError\u001b[0m: type object 'ConfusionMatrixDisplay' has no attribute 'from_predictions'"
          ]
        }
      ],
      "source": [
        "#   ****************Multi-layer Perceptron*****************\n",
        "#estimator = MLPClassifier(alpha=1)\n",
        "#estimator = MLPClassifier(alpha=0.0001, solver='adam', verbose=True)\n",
        "#estimator = MLPClassifier(alpha=0.0001, solver='adam', verbose=True, early_stopping=True)\n",
        "estimator = MLPClassifier(alpha=0.001, tol=1e-3, solver='adam', verbose=True, early_stopping=True)\n",
        "\n",
        "# Fit\n",
        "start = time()\n",
        "estimator.fit(X_train_balanced, y_train_balanced)\n",
        "train_time = time() - start\n",
        "\n",
        "# Prediction\n",
        "start = time()\n",
        "y_pred = estimator.predict(X_test_scaled)\n",
        "predict_time = time() - start\n",
        "\n",
        "# Metrics\n",
        "accuracy = metrics.accuracy_score(y_test, y_pred)\n",
        "\n",
        "# Pre-processing\n",
        "y_pred = np.ravel(y_pred)\n",
        "\n",
        "# Print results\n",
        "print(\"Accuracy = {:.4f} | time = {:,.3f}s/{:,.3f}s\".format(accuracy, train_time, predict_time))\n",
        "\n",
        "# Plot confusion matrix\n",
        "cm = metrics.confusion_matrix(y_test, y_pred, labels=estimator.classes_)\n",
        "print(\"\\nConfusion matrix\")\n",
        "print(cm)\n",
        "\n",
        "#metrics.ConfusionMatrixDisplay.from_estimator(estimator, X_test, y_test, display_labels=estimator.classes_, normalize='all', cmap='Greys')\n",
        "metrics.ConfusionMatrixDisplay.from_predictions(y_test, y_pred, display_labels=estimator.classes_, normalize='all', cmap='Greys')\n",
        "plt.title(\"Confusion matrix\")\n",
        "plt.figure(figsize=(10,10))\n",
        "plt.show()\n",
        "\n",
        "# Classification report\n",
        "print(metrics.classification_report(y_test, y_pred, digits=4))\n",
        "\n",
        "# ROC curve and AUC\n",
        "fig, ax = plt.subplots()\n",
        "metrics.RocCurveDisplay.from_estimator(estimator, X_test_scaled, y_test, alpha=0.8, lw=2, ax=ax)\n",
        "ax.plot([0,1], [0,1], linestyle=\"--\", lw=2, color = \"r\", label = \"Change\", alpha = 0.5)\n",
        "plt.title(\"ROC Curve\")\n",
        "plt.figure(figsize=(10,10))\n",
        "plt.show()\n",
        "\n",
        "# Area Under Curve (AUC)\n",
        "\n",
        "#auc = metrics.roc_auc_score(y_test, estimator.decision_function(X_test))\n",
        "# Check this https://scikit-learn.org/stable/modules/model_evaluation.html#roc-auc-binary\n",
        "# where \"estimator.predict_proba(X_test_scaled)[:, 1]\" corresponds to the probability of the class with the \"greater label\", that is why the 1 as the index.\n",
        "y_score = estimator.predict_proba(X_test_scaled)[:, 1]\n",
        "auc = metrics.roc_auc_score(y_test, y_score)\n",
        "print(\"\\nArea Under Curve (AUC) = {:.4f}\".format(auc))"
      ]
    },
    {
      "cell_type": "markdown",
      "source": [
        "#### Cross-validation for Multilayer-Perceptron"
      ],
      "metadata": {
        "id": "EVm5JYmtkxEn"
      },
      "id": "EVm5JYmtkxEn"
    },
    {
      "cell_type": "code",
      "source": [
        "start = time()\n",
        "#cross_validation_scores = cross_val_score(estimator, X_train_balanced, y_train_balanced, cv=LeaveOneOut(), scoring='f1_macro', n_jobs=-1, verbose=1)\n",
        "#cv = ShuffleSplit(n_splits=5, test_size=0.3, random_state=0)\n",
        "#cross_validation_scores = cross_val_score(estimator, X_train_balanced, y_train_balanced, cv=cv, scoring='f1_macro', n_jobs=-1, verbose=1)\n",
        "cross_validation_scores = cross_val_score(estimator, X_train_balanced, y_train_balanced, cv=10, scoring='f1_macro', n_jobs=-1, verbose=1)\n",
        "cross_validation_time = time() - start\n",
        "print(\"Mean cross-validation scores (Stratified CV) = {:.4f}\".format(np.mean(cross_validation_scores)))\n",
        "print(\"Standard deviation for cross-validation scores (Stratified CV) = {:.4f}\".format(np.std(cross_validation_scores)))\n",
        "print(\"Reported cross-validation time = {:,.3f}s\".format(cross_validation_time))\n",
        "print(\"All cross-validation scores:\\n\", cross_validation_scores)"
      ],
      "metadata": {
        "id": "myAiApgBk9cd",
        "colab": {
          "base_uri": "https://localhost:8080/"
        },
        "outputId": "ace03f60-78ea-49cb-e70f-ce3a1245df3c"
      },
      "id": "myAiApgBk9cd",
      "execution_count": 49,
      "outputs": [
        {
          "output_type": "stream",
          "name": "stderr",
          "text": [
            "[Parallel(n_jobs=-1)]: Using backend LokyBackend with 2 concurrent workers.\n"
          ]
        },
        {
          "output_type": "stream",
          "name": "stdout",
          "text": [
            "Mean cross-validation scores (Stratified CV) = 0.6185\n",
            "Standard deviation for cross-validation scores (Stratified CV) = 0.0630\n",
            "Reported cross-validation time = 0.541s\n",
            "All cross-validation scores:\n",
            " [0.68926554 0.5045045  0.59427549 0.60990712 0.68507719 0.51278195\n",
            " 0.68421053 0.62962963 0.64802744 0.62758621]\n"
          ]
        },
        {
          "output_type": "stream",
          "name": "stderr",
          "text": [
            "[Parallel(n_jobs=-1)]: Done   7 out of  10 | elapsed:    0.4s remaining:    0.2s\n",
            "[Parallel(n_jobs=-1)]: Done  10 out of  10 | elapsed:    0.5s finished\n"
          ]
        }
      ]
    },
    {
      "cell_type": "markdown",
      "id": "D0OLCkx4cI4S",
      "metadata": {
        "id": "D0OLCkx4cI4S"
      },
      "source": [
        "### Naive-Bayes"
      ]
    },
    {
      "cell_type": "code",
      "execution_count": 50,
      "id": "m20rf12DVmWa",
      "metadata": {
        "id": "m20rf12DVmWa",
        "colab": {
          "base_uri": "https://localhost:8080/",
          "height": 322
        },
        "outputId": "4d83a103-c442-4f64-e2f9-7ed0346193f0"
      },
      "outputs": [
        {
          "output_type": "stream",
          "name": "stdout",
          "text": [
            "Accuracy = 0.7468 | time = 0.002s/0.000s\n",
            "\n",
            "Confusion matrix\n",
            "[[ 56  57]\n",
            " [ 41 233]]\n"
          ]
        },
        {
          "output_type": "error",
          "ename": "AttributeError",
          "evalue": "ignored",
          "traceback": [
            "\u001b[0;31m---------------------------------------------------------------------------\u001b[0m",
            "\u001b[0;31mAttributeError\u001b[0m                            Traceback (most recent call last)",
            "\u001b[0;32m<ipython-input-50-22cfafff24c5>\u001b[0m in \u001b[0;36m<module>\u001b[0;34m()\u001b[0m\n\u001b[1;32m     27\u001b[0m \u001b[0;34m\u001b[0m\u001b[0m\n\u001b[1;32m     28\u001b[0m \u001b[0;31m#metrics.ConfusionMatrixDisplay.from_estimator(estimator, X_test, y_test, display_labels=estimator.classes_, normalize='all', cmap='Greys')\u001b[0m\u001b[0;34m\u001b[0m\u001b[0;34m\u001b[0m\u001b[0;34m\u001b[0m\u001b[0m\n\u001b[0;32m---> 29\u001b[0;31m \u001b[0mmetrics\u001b[0m\u001b[0;34m.\u001b[0m\u001b[0mConfusionMatrixDisplay\u001b[0m\u001b[0;34m.\u001b[0m\u001b[0mfrom_predictions\u001b[0m\u001b[0;34m(\u001b[0m\u001b[0my_test\u001b[0m\u001b[0;34m,\u001b[0m \u001b[0my_pred\u001b[0m\u001b[0;34m,\u001b[0m \u001b[0mdisplay_labels\u001b[0m\u001b[0;34m=\u001b[0m\u001b[0mestimator\u001b[0m\u001b[0;34m.\u001b[0m\u001b[0mclasses_\u001b[0m\u001b[0;34m,\u001b[0m \u001b[0mnormalize\u001b[0m\u001b[0;34m=\u001b[0m\u001b[0;34m'all'\u001b[0m\u001b[0;34m,\u001b[0m \u001b[0mcmap\u001b[0m\u001b[0;34m=\u001b[0m\u001b[0;34m'Greys'\u001b[0m\u001b[0;34m)\u001b[0m\u001b[0;34m\u001b[0m\u001b[0;34m\u001b[0m\u001b[0m\n\u001b[0m\u001b[1;32m     30\u001b[0m \u001b[0mplt\u001b[0m\u001b[0;34m.\u001b[0m\u001b[0mtitle\u001b[0m\u001b[0;34m(\u001b[0m\u001b[0;34m\"Confusion matrix\"\u001b[0m\u001b[0;34m)\u001b[0m\u001b[0;34m\u001b[0m\u001b[0;34m\u001b[0m\u001b[0m\n\u001b[1;32m     31\u001b[0m \u001b[0mplt\u001b[0m\u001b[0;34m.\u001b[0m\u001b[0mfigure\u001b[0m\u001b[0;34m(\u001b[0m\u001b[0mfigsize\u001b[0m\u001b[0;34m=\u001b[0m\u001b[0;34m(\u001b[0m\u001b[0;36m10\u001b[0m\u001b[0;34m,\u001b[0m\u001b[0;36m10\u001b[0m\u001b[0;34m)\u001b[0m\u001b[0;34m)\u001b[0m\u001b[0;34m\u001b[0m\u001b[0;34m\u001b[0m\u001b[0m\n",
            "\u001b[0;31mAttributeError\u001b[0m: type object 'ConfusionMatrixDisplay' has no attribute 'from_predictions'"
          ]
        }
      ],
      "source": [
        "#   ****************Naive-Bayes*****************\n",
        "estimator = GaussianNB()\n",
        "\n",
        "# Fit\n",
        "start = time()\n",
        "estimator.fit(X_train_balanced, y_train_balanced)\n",
        "train_time = time() - start\n",
        "\n",
        "# Prediction\n",
        "start = time()\n",
        "y_pred = estimator.predict(X_test_scaled)\n",
        "predict_time = time() - start\n",
        "\n",
        "# Metrics\n",
        "accuracy = metrics.accuracy_score(y_test, y_pred)\n",
        "\n",
        "# Pre-processing\n",
        "y_pred = np.ravel(y_pred)\n",
        "\n",
        "# Print results\n",
        "print(\"Accuracy = {:.4f} | time = {:,.3f}s/{:,.3f}s\".format(accuracy, train_time, predict_time))\n",
        "\n",
        "# Plot confusion matrix\n",
        "cm = metrics.confusion_matrix(y_test, y_pred, labels=estimator.classes_)\n",
        "print(\"\\nConfusion matrix\")\n",
        "print(cm)\n",
        "\n",
        "#metrics.ConfusionMatrixDisplay.from_estimator(estimator, X_test, y_test, display_labels=estimator.classes_, normalize='all', cmap='Greys')\n",
        "metrics.ConfusionMatrixDisplay.from_predictions(y_test, y_pred, display_labels=estimator.classes_, normalize='all', cmap='Greys')\n",
        "plt.title(\"Confusion matrix\")\n",
        "plt.figure(figsize=(10,10))\n",
        "plt.show()\n",
        "\n",
        "# Classification report\n",
        "print(metrics.classification_report(y_test, y_pred, digits=4))\n",
        "\n",
        "# ROC curve and AUC\n",
        "fig, ax = plt.subplots()\n",
        "metrics.RocCurveDisplay.from_estimator(estimator, X_test_scaled, y_test, alpha=0.8, lw=2, ax=ax)\n",
        "ax.plot([0,1], [0,1], linestyle=\"--\", lw=2, color = \"r\", label = \"Change\", alpha = 0.5)\n",
        "plt.title(\"ROC Curve\")\n",
        "plt.figure(figsize=(10,10))\n",
        "plt.show()\n",
        "\n",
        "# Area Under Curve (AUC)\n",
        "\n",
        "#auc = metrics.roc_auc_score(y_test, estimator.decision_function(X_test))\n",
        "# Check this https://scikit-learn.org/stable/modules/model_evaluation.html#roc-auc-binary\n",
        "# where \"estimator.predict_proba(X_test_scaled)[:, 1]\" corresponds to the probability of the class with the \"greater label\", that is why the 1 as the index.\n",
        "y_score = estimator.predict_proba(X_test_scaled)[:, 1]\n",
        "auc = metrics.roc_auc_score(y_test, y_score)\n",
        "print(\"\\nArea Under Curve (AUC) = {:.4f}\".format(auc))"
      ]
    },
    {
      "cell_type": "markdown",
      "source": [
        "#### Cross-validation for Naive-Bayes"
      ],
      "metadata": {
        "id": "X7WeoIOqlS2G"
      },
      "id": "X7WeoIOqlS2G"
    },
    {
      "cell_type": "code",
      "source": [
        "start = time()\n",
        "#cross_validation_scores = cross_val_score(estimator, X_train_balanced, y_train_balanced, cv=LeaveOneOut(), scoring='f1_macro', n_jobs=-1, verbose=1)\n",
        "#cv = ShuffleSplit(n_splits=5, test_size=0.3, random_state=0)\n",
        "#cross_validation_scores = cross_val_score(estimator, X_train_balanced, y_train_balanced, cv=cv, scoring='f1_macro', n_jobs=-1, verbose=1)\n",
        "cross_validation_scores = cross_val_score(estimator, X_train_balanced, y_train_balanced, cv=10, scoring='f1_macro', n_jobs=-1, verbose=1)\n",
        "cross_validation_time = time() - start\n",
        "print(\"Mean cross-validation scores (Stratified CV) = {:.4f}\".format(np.mean(cross_validation_scores)))\n",
        "print(\"Standard deviation for cross-validation scores (Stratified CV) = {:.4f}\".format(np.std(cross_validation_scores)))\n",
        "print(\"Reported cross-validation time = {:,.3f}s\".format(cross_validation_time))\n",
        "print(\"All cross-validation scores:\\n\", cross_validation_scores)"
      ],
      "metadata": {
        "id": "rZd897FMlGoW",
        "colab": {
          "base_uri": "https://localhost:8080/"
        },
        "outputId": "3cb43ca9-431c-455e-b2d2-148462cfc0bf"
      },
      "id": "rZd897FMlGoW",
      "execution_count": 51,
      "outputs": [
        {
          "output_type": "stream",
          "name": "stdout",
          "text": [
            "Mean cross-validation scores (Stratified CV) = 0.5893\n",
            "Standard deviation for cross-validation scores (Stratified CV) = 0.0577\n",
            "Reported cross-validation time = 0.061s\n",
            "All cross-validation scores:\n",
            " [0.54545455 0.58899457 0.52912452 0.64213464 0.6625     0.59398496\n",
            " 0.55       0.51785714 0.56323529 0.7       ]\n"
          ]
        },
        {
          "output_type": "stream",
          "name": "stderr",
          "text": [
            "[Parallel(n_jobs=-1)]: Using backend LokyBackend with 2 concurrent workers.\n",
            "[Parallel(n_jobs=-1)]: Done   7 out of  10 | elapsed:    0.0s remaining:    0.0s\n",
            "[Parallel(n_jobs=-1)]: Done  10 out of  10 | elapsed:    0.1s finished\n"
          ]
        }
      ]
    },
    {
      "cell_type": "markdown",
      "id": "CmbKfe7j__lO",
      "metadata": {
        "id": "CmbKfe7j__lO"
      },
      "source": [
        "### Gaussian Process"
      ]
    },
    {
      "cell_type": "code",
      "execution_count": 52,
      "id": "b1khzyhMAEvH",
      "metadata": {
        "id": "b1khzyhMAEvH",
        "colab": {
          "base_uri": "https://localhost:8080/",
          "height": 236
        },
        "outputId": "d00cc260-fb81-4593-c478-6d2c1b280f39"
      },
      "outputs": [
        {
          "output_type": "error",
          "ename": "NameError",
          "evalue": "ignored",
          "traceback": [
            "\u001b[0;31m---------------------------------------------------------------------------\u001b[0m",
            "\u001b[0;31mNameError\u001b[0m                                 Traceback (most recent call last)",
            "\u001b[0;32m<ipython-input-52-1859411f712f>\u001b[0m in \u001b[0;36m<module>\u001b[0;34m()\u001b[0m\n\u001b[1;32m      1\u001b[0m \u001b[0;31m#   ****************Gaussian Process classifier*****************\u001b[0m\u001b[0;34m\u001b[0m\u001b[0;34m\u001b[0m\u001b[0;34m\u001b[0m\u001b[0m\n\u001b[0;32m----> 2\u001b[0;31m \u001b[0mestimator\u001b[0m \u001b[0;34m=\u001b[0m \u001b[0mGaussianProcessClassifier\u001b[0m\u001b[0;34m(\u001b[0m\u001b[0mmax_iter_predict\u001b[0m\u001b[0;34m=\u001b[0m\u001b[0;36m10\u001b[0m\u001b[0;34m,\u001b[0m \u001b[0mrandom_state\u001b[0m\u001b[0;34m=\u001b[0m\u001b[0;36m0\u001b[0m\u001b[0;34m,\u001b[0m \u001b[0mn_jobs\u001b[0m\u001b[0;34m=\u001b[0m\u001b[0;34m-\u001b[0m\u001b[0;36m1\u001b[0m\u001b[0;34m)\u001b[0m\u001b[0;34m\u001b[0m\u001b[0;34m\u001b[0m\u001b[0m\n\u001b[0m\u001b[1;32m      3\u001b[0m \u001b[0;34m\u001b[0m\u001b[0m\n\u001b[1;32m      4\u001b[0m \u001b[0;31m# Fit\u001b[0m\u001b[0;34m\u001b[0m\u001b[0;34m\u001b[0m\u001b[0;34m\u001b[0m\u001b[0m\n\u001b[1;32m      5\u001b[0m \u001b[0mstart\u001b[0m \u001b[0;34m=\u001b[0m \u001b[0mtime\u001b[0m\u001b[0;34m(\u001b[0m\u001b[0;34m)\u001b[0m\u001b[0;34m\u001b[0m\u001b[0;34m\u001b[0m\u001b[0m\n",
            "\u001b[0;31mNameError\u001b[0m: name 'GaussianProcessClassifier' is not defined"
          ]
        }
      ],
      "source": [
        "#   ****************Gaussian Process classifier*****************\n",
        "estimator = GaussianProcessClassifier(max_iter_predict=10, random_state=0, n_jobs=-1)\n",
        "\n",
        "# Fit\n",
        "start = time()\n",
        "estimator.fit(X_train_balanced, y_train_balanced)\n",
        "train_time = time() - start\n",
        "\n",
        "# Prediction\n",
        "start = time()\n",
        "y_pred = estimator.predict(X_test_scaled)\n",
        "predict_time = time() - start\n",
        "\n",
        "# Metrics\n",
        "accuracy = metrics.accuracy_score(y_test, y_pred)\n",
        "\n",
        "# Pre-processing\n",
        "y_pred = np.ravel(y_pred)\n",
        "\n",
        "# Print results\n",
        "print(\"Accuracy = {:.4f} | time = {:,.3f}s/{:,.3f}s\".format(accuracy, train_time, predict_time))\n",
        "\n",
        "# Plot confusion matrix\n",
        "cm = metrics.confusion_matrix(y_test, y_pred, labels=estimator.classes_)\n",
        "print(\"\\nConfusion matrix\")\n",
        "print(cm)\n",
        "\n",
        "#metrics.ConfusionMatrixDisplay.from_estimator(estimator, X_test, y_test, display_labels=estimator.classes_, normalize='all', cmap='Greys')\n",
        "metrics.ConfusionMatrixDisplay.from_predictions(y_test, y_pred, display_labels=estimator.classes_, normalize='all', cmap='Greys')\n",
        "plt.title(\"Confusion matrix\")\n",
        "plt.figure(figsize=(10,10))\n",
        "plt.show()\n",
        "\n",
        "# Classification report\n",
        "print(metrics.classification_report(y_test, y_pred, digits=4))\n",
        "\n",
        "# ROC curve and AUC\n",
        "fig, ax = plt.subplots()\n",
        "metrics.RocCurveDisplay.from_estimator(estimator, X_test_scaled, y_test, alpha=0.8, lw=2, ax=ax)\n",
        "ax.plot([0,1], [0,1], linestyle=\"--\", lw=2, color = \"r\", label = \"Change\", alpha = 0.5)\n",
        "plt.title(\"ROC Curve\")\n",
        "plt.figure(figsize=(10,10))\n",
        "plt.show()\n",
        "\n",
        "# Area Under Curve (AUC)\n",
        "\n",
        "#auc = metrics.roc_auc_score(y_test, estimator.decision_function(X_test))\n",
        "# Check this https://scikit-learn.org/stable/modules/model_evaluation.html#roc-auc-binary\n",
        "# where \"estimator.predict_proba(X_test_scaled)[:, 1]\" corresponds to the probability of the class with the \"greater label\", that is why the 1 as the index.\n",
        "y_score = estimator.predict_proba(X_test_scaled)[:, 1]\n",
        "auc = metrics.roc_auc_score(y_test, y_score)\n",
        "print(\"\\nArea Under Curve (AUC) = {:.4f}\".format(auc))"
      ]
    },
    {
      "cell_type": "markdown",
      "source": [
        "#### Cross-validation for Gaussian-Process"
      ],
      "metadata": {
        "id": "s8CcaOrelV9x"
      },
      "id": "s8CcaOrelV9x"
    },
    {
      "cell_type": "code",
      "source": [
        "start = time()\n",
        "#cross_validation_scores = cross_val_score(estimator, X_train_balanced, y_train_balanced, cv=LeaveOneOut(), scoring='f1_macro', n_jobs=-1, verbose=1)\n",
        "#cv = ShuffleSplit(n_splits=5, test_size=0.3, random_state=0)\n",
        "#cross_validation_scores = cross_val_score(estimator, X_train_balanced, y_train_balanced, cv=cv, scoring='f1_macro', n_jobs=-1, verbose=1)\n",
        "cross_validation_scores = cross_val_score(estimator, X_train_balanced, y_train_balanced, cv=10, scoring='f1_macro', n_jobs=-1, verbose=1)\n",
        "cross_validation_time = time() - start\n",
        "print(\"Mean cross-validation scores (Stratified CV) = {:.4f}\".format(np.mean(cross_validation_scores)))\n",
        "print(\"Standard deviation for cross-validation scores (Stratified CV) = {:.4f}\".format(np.std(cross_validation_scores)))\n",
        "print(\"Reported cross-validation time = {:,.3f}s\".format(cross_validation_time))\n",
        "print(\"All cross-validation scores:\\n\", cross_validation_scores)"
      ],
      "metadata": {
        "id": "yThY_NUMlHg1",
        "colab": {
          "base_uri": "https://localhost:8080/"
        },
        "outputId": "4e8a8bfc-8232-4e8c-c035-84c16c79abc1"
      },
      "id": "yThY_NUMlHg1",
      "execution_count": 53,
      "outputs": [
        {
          "output_type": "stream",
          "name": "stdout",
          "text": [
            "Mean cross-validation scores (Stratified CV) = 0.5893\n",
            "Standard deviation for cross-validation scores (Stratified CV) = 0.0577\n",
            "Reported cross-validation time = 0.055s\n",
            "All cross-validation scores:\n",
            " [0.54545455 0.58899457 0.52912452 0.64213464 0.6625     0.59398496\n",
            " 0.55       0.51785714 0.56323529 0.7       ]\n"
          ]
        },
        {
          "output_type": "stream",
          "name": "stderr",
          "text": [
            "[Parallel(n_jobs=-1)]: Using backend LokyBackend with 2 concurrent workers.\n",
            "[Parallel(n_jobs=-1)]: Done  10 out of  10 | elapsed:    0.0s finished\n"
          ]
        }
      ]
    },
    {
      "cell_type": "markdown",
      "id": "0Wijk73IcLJv",
      "metadata": {
        "id": "0Wijk73IcLJv"
      },
      "source": [
        "### SVM"
      ]
    },
    {
      "cell_type": "code",
      "execution_count": null,
      "id": "kSh5DD31O-Kv",
      "metadata": {
        "id": "kSh5DD31O-Kv"
      },
      "outputs": [],
      "source": [
        "#   ****************SVM 3th grade polynomial Kernel*****************\n",
        "#estimator = SVC(kernel=\"poly\")\n",
        "#estimator = SVC(kernel=\"rbf\")\n",
        "#estimator = SVC(kernel=\"linear\", verbose=True)\n",
        "estimator = SVC(kernel=\"linear\", gamma=0.001, verbose=True)\n",
        "\n",
        "# Fit\n",
        "start = time()\n",
        "estimator.fit(X_train_balanced, y_train_balanced)\n",
        "train_time = time() - start\n",
        "\n",
        "# Prediction\n",
        "start = time()\n",
        "y_pred = estimator.predict(X_test_scaled)\n",
        "predict_time = time() - start\n",
        "\n",
        "# Metrics\n",
        "accuracy = metrics.accuracy_score(y_test, y_pred)\n",
        "\n",
        "# Pre-processing\n",
        "y_pred = np.ravel(y_pred)\n",
        "\n",
        "# Print results\n",
        "print(\"Accuracy = {:.4f} | time = {:,.3f}s/{:,.3f}s\".format(accuracy, train_time, predict_time))\n",
        "\n",
        "# Plot confusion matrix\n",
        "cm = metrics.confusion_matrix(y_test, y_pred, labels=estimator.classes_)\n",
        "print(\"\\nConfusion matrix\")\n",
        "print(cm)\n",
        "\n",
        "#metrics.ConfusionMatrixDisplay.from_estimator(estimator, X_test, y_test, display_labels=estimator.classes_, normalize='all', cmap='Greys')\n",
        "metrics.ConfusionMatrixDisplay.from_predictions(y_test, y_pred, display_labels=estimator.classes_, normalize='all', cmap='Greys')\n",
        "plt.title(\"Confusion matrix\")\n",
        "plt.figure(figsize=(10,10))\n",
        "plt.show()\n",
        "\n",
        "# Classification report\n",
        "print(metrics.classification_report(y_test, y_pred, digits=4))\n",
        "\n",
        "# ROC curve and AUC\n",
        "fig, ax = plt.subplots()\n",
        "metrics.RocCurveDisplay.from_estimator(estimator, X_test_scaled, y_test, alpha=0.8, lw=2, ax=ax)\n",
        "ax.plot([0,1], [0,1], linestyle=\"--\", lw=2, color = \"r\", label = \"Change\", alpha = 0.5)\n",
        "plt.title(\"ROC Curve\")\n",
        "plt.figure(figsize=(10,10))\n",
        "plt.show()\n",
        "\n",
        "# Area Under Curve (AUC)\n",
        "\n",
        "#auc = metrics.roc_auc_score(y_test, estimator.decision_function(X_test))\n",
        "# Check this https://scikit-learn.org/stable/modules/model_evaluation.html#roc-auc-binary\n",
        "# where \"estimator.predict_proba(X_test_scaled)[:, 1]\" corresponds to the probability of the class with the \"greater label\", that is why the 1 as the index.\n",
        "y_score = estimator.predict_proba(X_test_scaled)[:, 1]\n",
        "auc = metrics.roc_auc_score(y_test, y_score)\n",
        "print(\"\\nArea Under Curve (AUC) = {:.4f}\".format(auc))"
      ]
    },
    {
      "cell_type": "markdown",
      "source": [
        "#### Cross-validation for SVM"
      ],
      "metadata": {
        "id": "HhMadcPhlZJu"
      },
      "id": "HhMadcPhlZJu"
    },
    {
      "cell_type": "code",
      "source": [
        "start = time()\n",
        "#cross_validation_scores = cross_val_score(estimator, X_train_balanced, y_train_balanced, cv=LeaveOneOut(), scoring='f1_macro', n_jobs=-1, verbose=1)\n",
        "#cv = ShuffleSplit(n_splits=5, test_size=0.3, random_state=0)\n",
        "#cross_validation_scores = cross_val_score(estimator, X_train_balanced, y_train_balanced, cv=cv, scoring='f1_macro', n_jobs=-1, verbose=1)\n",
        "cross_validation_scores = cross_val_score(estimator, X_train_balanced, y_train_balanced, cv=10, scoring='f1_macro', n_jobs=-1, verbose=1)\n",
        "cross_validation_time = time() - start\n",
        "print(\"Mean cross-validation scores (Stratified CV) = {:.4f}\".format(np.mean(cross_validation_scores)))\n",
        "print(\"Standard deviation for cross-validation scores (Stratified CV) = {:.4f}\".format(np.std(cross_validation_scores)))\n",
        "print(\"Reported cross-validation time = {:,.3f}s\".format(cross_validation_time))\n",
        "print(\"All cross-validation scores:\\n\", cross_validation_scores)"
      ],
      "metadata": {
        "id": "2IbAsqbzlIWw"
      },
      "id": "2IbAsqbzlIWw",
      "execution_count": null,
      "outputs": []
    },
    {
      "cell_type": "markdown",
      "id": "qvaHX7IbXYs-",
      "metadata": {
        "id": "qvaHX7IbXYs-"
      },
      "source": [
        "### Decision tree"
      ]
    },
    {
      "cell_type": "code",
      "execution_count": 54,
      "id": "6u_1VUvYXa2Z",
      "metadata": {
        "id": "6u_1VUvYXa2Z",
        "colab": {
          "base_uri": "https://localhost:8080/",
          "height": 322
        },
        "outputId": "0870a29e-6461-453e-dc1b-da41de2626ac"
      },
      "outputs": [
        {
          "output_type": "stream",
          "name": "stdout",
          "text": [
            "Accuracy = 0.9483 | time = 0.004s/0.000s\n",
            "\n",
            "Confusion matrix\n",
            "[[112   1]\n",
            " [ 19 255]]\n"
          ]
        },
        {
          "output_type": "error",
          "ename": "AttributeError",
          "evalue": "ignored",
          "traceback": [
            "\u001b[0;31m---------------------------------------------------------------------------\u001b[0m",
            "\u001b[0;31mAttributeError\u001b[0m                            Traceback (most recent call last)",
            "\u001b[0;32m<ipython-input-54-102fbd5b451a>\u001b[0m in \u001b[0;36m<module>\u001b[0;34m()\u001b[0m\n\u001b[1;32m     29\u001b[0m \u001b[0;34m\u001b[0m\u001b[0m\n\u001b[1;32m     30\u001b[0m \u001b[0;31m#metrics.ConfusionMatrixDisplay.from_estimator(estimator, X_test, y_test, display_labels=estimator.classes_, normalize='all', cmap='Greys')\u001b[0m\u001b[0;34m\u001b[0m\u001b[0;34m\u001b[0m\u001b[0;34m\u001b[0m\u001b[0m\n\u001b[0;32m---> 31\u001b[0;31m \u001b[0mmetrics\u001b[0m\u001b[0;34m.\u001b[0m\u001b[0mConfusionMatrixDisplay\u001b[0m\u001b[0;34m.\u001b[0m\u001b[0mfrom_predictions\u001b[0m\u001b[0;34m(\u001b[0m\u001b[0my_test\u001b[0m\u001b[0;34m,\u001b[0m \u001b[0my_pred\u001b[0m\u001b[0;34m,\u001b[0m \u001b[0mdisplay_labels\u001b[0m\u001b[0;34m=\u001b[0m\u001b[0mestimator\u001b[0m\u001b[0;34m.\u001b[0m\u001b[0mclasses_\u001b[0m\u001b[0;34m,\u001b[0m \u001b[0mnormalize\u001b[0m\u001b[0;34m=\u001b[0m\u001b[0;34m'all'\u001b[0m\u001b[0;34m,\u001b[0m \u001b[0mcmap\u001b[0m\u001b[0;34m=\u001b[0m\u001b[0;34m'Greys'\u001b[0m\u001b[0;34m)\u001b[0m\u001b[0;34m\u001b[0m\u001b[0;34m\u001b[0m\u001b[0m\n\u001b[0m\u001b[1;32m     32\u001b[0m \u001b[0mplt\u001b[0m\u001b[0;34m.\u001b[0m\u001b[0mtitle\u001b[0m\u001b[0;34m(\u001b[0m\u001b[0;34m\"Confusion matrix\"\u001b[0m\u001b[0;34m)\u001b[0m\u001b[0;34m\u001b[0m\u001b[0;34m\u001b[0m\u001b[0m\n\u001b[1;32m     33\u001b[0m \u001b[0mplt\u001b[0m\u001b[0;34m.\u001b[0m\u001b[0mfigure\u001b[0m\u001b[0;34m(\u001b[0m\u001b[0mfigsize\u001b[0m\u001b[0;34m=\u001b[0m\u001b[0;34m(\u001b[0m\u001b[0;36m10\u001b[0m\u001b[0;34m,\u001b[0m\u001b[0;36m10\u001b[0m\u001b[0;34m)\u001b[0m\u001b[0;34m)\u001b[0m\u001b[0;34m\u001b[0m\u001b[0;34m\u001b[0m\u001b[0m\n",
            "\u001b[0;31mAttributeError\u001b[0m: type object 'ConfusionMatrixDisplay' has no attribute 'from_predictions'"
          ]
        }
      ],
      "source": [
        "#   ****************Decision Tree*****************\n",
        "#estimator = DecisionTreeClassifier(max_depth=3, random_state=0)\n",
        "#estimator = DecisionTreeClassifier(random_state=0)\n",
        "estimator = DecisionTreeClassifier(max_depth=20, random_state=0)\n",
        "\n",
        "# Fit\n",
        "start = time()\n",
        "estimator.fit(X_train_balanced, y_train_balanced)\n",
        "train_time = time() - start\n",
        "\n",
        "# Prediction\n",
        "start = time()\n",
        "y_pred = estimator.predict(X_test_scaled)\n",
        "predict_time = time() - start\n",
        "\n",
        "# Metrics\n",
        "accuracy = metrics.accuracy_score(y_test, y_pred)\n",
        "\n",
        "# Pre-processing\n",
        "y_pred = np.ravel(y_pred)\n",
        "\n",
        "# Print results\n",
        "print(\"Accuracy = {:.4f} | time = {:,.3f}s/{:,.3f}s\".format(accuracy, train_time, predict_time))\n",
        "\n",
        "# Plot confusion matrix\n",
        "cm = metrics.confusion_matrix(y_test, y_pred, labels=estimator.classes_)\n",
        "print(\"\\nConfusion matrix\")\n",
        "print(cm)\n",
        "\n",
        "#metrics.ConfusionMatrixDisplay.from_estimator(estimator, X_test, y_test, display_labels=estimator.classes_, normalize='all', cmap='Greys')\n",
        "metrics.ConfusionMatrixDisplay.from_predictions(y_test, y_pred, display_labels=estimator.classes_, normalize='all', cmap='Greys')\n",
        "plt.title(\"Confusion matrix\")\n",
        "plt.figure(figsize=(10,10))\n",
        "plt.show()\n",
        "\n",
        "# Classification report\n",
        "print(metrics.classification_report(y_test, y_pred, digits=4))\n",
        "\n",
        "# ROC curve and AUC\n",
        "fig, ax = plt.subplots()\n",
        "metrics.RocCurveDisplay.from_estimator(estimator, X_test_scaled, y_test, alpha=0.8, lw=2, ax=ax)\n",
        "ax.plot([0,1], [0,1], linestyle=\"--\", lw=2, color = \"r\", label = \"Change\", alpha = 0.5)\n",
        "plt.title(\"ROC Curve\")\n",
        "plt.figure(figsize=(10,10))\n",
        "plt.show()\n",
        "\n",
        "# Area Under Curve (AUC)\n",
        "\n",
        "#auc = metrics.roc_auc_score(y_test, estimator.decision_function(X_test))\n",
        "# Check this https://scikit-learn.org/stable/modules/model_evaluation.html#roc-auc-binary\n",
        "# where \"estimator.predict_proba(X_test_scaled)[:, 1]\" corresponds to the probability of the class with the \"greater label\", that is why the 1 as the index.\n",
        "y_score = estimator.predict_proba(X_test_scaled)[:, 1]\n",
        "auc = metrics.roc_auc_score(y_test, y_score)\n",
        "print(\"\\nArea Under Curve (AUC) = {:.4f}\".format(auc))"
      ]
    },
    {
      "cell_type": "code",
      "execution_count": null,
      "id": "FzvufUF_g278",
      "metadata": {
        "id": "FzvufUF_g278"
      },
      "outputs": [],
      "source": [
        "#print(f\"Classes: {estimator.classes_}\")\n",
        "#print(f\"Feature importance: {estimator.feature_importances_}\")\n",
        "#print(f\"Max. features: {estimator.max_features}\")\n",
        "#print(f\"Number of classes: {estimator.n_classes_}\")\n",
        "#print(f\"Number of features: {estimator.n_features_}\")\n",
        "#print(f\"Number of outputs: {estimator.n_outputs_}\")\n",
        "\n",
        "#print(f\"Depth: {estimator.get_depth()}\")\n",
        "#print(f\"Number of leaves: {estimator.get_n_leaves()}\")"
      ]
    },
    {
      "cell_type": "code",
      "execution_count": null,
      "id": "ee901164",
      "metadata": {
        "id": "ee901164"
      },
      "outputs": [],
      "source": [
        "#tree.plot_tree(decTree)\n",
        "#plt.show()"
      ]
    },
    {
      "cell_type": "markdown",
      "source": [
        "#### Cross-validation for Decision Tree"
      ],
      "metadata": {
        "id": "dqjT6NC8ljyl"
      },
      "id": "dqjT6NC8ljyl"
    },
    {
      "cell_type": "code",
      "source": [
        "start = time()\n",
        "#cross_validation_scores = cross_val_score(estimator, X_train_balanced, y_train_balanced, cv=LeaveOneOut(), scoring='f1_macro', n_jobs=-1, verbose=1)\n",
        "#cv = ShuffleSplit(n_splits=5, test_size=0.3, random_state=0)\n",
        "#cross_validation_scores = cross_val_score(estimator, X_train_balanced, y_train_balanced, cv=cv, scoring='f1_macro', n_jobs=-1, verbose=1)\n",
        "cross_validation_scores = cross_val_score(estimator, X_train_balanced, y_train_balanced, cv=10, scoring='f1_macro', n_jobs=-1, verbose=1)\n",
        "cross_validation_time = time() - start\n",
        "print(\"Mean cross-validation scores (Stratified CV) = {:.4f}\".format(np.mean(cross_validation_scores)))\n",
        "print(\"Standard deviation for cross-validation scores (Stratified CV) = {:.4f}\".format(np.std(cross_validation_scores)))\n",
        "print(\"Reported cross-validation time = {:,.3f}s\".format(cross_validation_time))\n",
        "print(\"All cross-validation scores:\\n\", cross_validation_scores)"
      ],
      "metadata": {
        "id": "SwC05CuGlLYd",
        "colab": {
          "base_uri": "https://localhost:8080/"
        },
        "outputId": "971c409b-0132-4f90-c810-7c336fff9606"
      },
      "id": "SwC05CuGlLYd",
      "execution_count": 55,
      "outputs": [
        {
          "output_type": "stream",
          "name": "stdout",
          "text": [
            "Mean cross-validation scores (Stratified CV) = 0.9318\n",
            "Standard deviation for cross-validation scores (Stratified CV) = 0.0378\n",
            "Reported cross-validation time = 0.127s\n",
            "All cross-validation scores:\n",
            " [0.92724868 0.89058355 0.90737564 0.8703259  1.         0.90737564\n",
            " 0.98147513 0.94442539 0.94442539 0.94442539]\n"
          ]
        },
        {
          "output_type": "stream",
          "name": "stderr",
          "text": [
            "[Parallel(n_jobs=-1)]: Using backend LokyBackend with 2 concurrent workers.\n",
            "[Parallel(n_jobs=-1)]: Done  10 out of  10 | elapsed:    0.1s finished\n"
          ]
        }
      ]
    },
    {
      "cell_type": "markdown",
      "id": "mavCAReZZf22",
      "metadata": {
        "id": "mavCAReZZf22"
      },
      "source": [
        "### Random forest"
      ]
    },
    {
      "cell_type": "code",
      "execution_count": 56,
      "id": "Rj1sNKXeZi6B",
      "metadata": {
        "id": "Rj1sNKXeZi6B",
        "colab": {
          "base_uri": "https://localhost:8080/",
          "height": 565
        },
        "outputId": "f3cd5b7b-9217-4edd-f5cc-9de56d6ad994"
      },
      "outputs": [
        {
          "output_type": "stream",
          "name": "stderr",
          "text": [
            "[Parallel(n_jobs=-1)]: Using backend ThreadingBackend with 2 concurrent workers.\n",
            "[Parallel(n_jobs=-1)]: Done  10 out of  10 | elapsed:    0.0s finished\n",
            "[Parallel(n_jobs=2)]: Using backend ThreadingBackend with 2 concurrent workers.\n",
            "[Parallel(n_jobs=2)]: Done  10 out of  10 | elapsed:    0.0s finished\n"
          ]
        },
        {
          "output_type": "stream",
          "name": "stdout",
          "text": [
            "building tree 1 of 10\n",
            "building tree 2 of 10\n",
            "building tree 3 of 10\n",
            "building tree 4 of 10\n",
            "building tree 5 of 10building tree 6 of 10\n",
            "\n",
            "building tree 7 of 10\n",
            "building tree 8 of 10\n",
            "building tree 9 of 10\n",
            "building tree 10 of 10\n",
            "Accuracy = 0.9612 | time = 0.109s/0.103s\n",
            "\n",
            "Confusion matrix\n",
            "[[112   1]\n",
            " [ 14 260]]\n"
          ]
        },
        {
          "output_type": "error",
          "ename": "AttributeError",
          "evalue": "ignored",
          "traceback": [
            "\u001b[0;31m---------------------------------------------------------------------------\u001b[0m",
            "\u001b[0;31mAttributeError\u001b[0m                            Traceback (most recent call last)",
            "\u001b[0;32m<ipython-input-56-62b4e1ca367f>\u001b[0m in \u001b[0;36m<module>\u001b[0;34m()\u001b[0m\n\u001b[1;32m     28\u001b[0m \u001b[0;34m\u001b[0m\u001b[0m\n\u001b[1;32m     29\u001b[0m \u001b[0;31m#metrics.ConfusionMatrixDisplay.from_estimator(estimator, X_test, y_test, display_labels=estimator.classes_, normalize='all', cmap='Greys')\u001b[0m\u001b[0;34m\u001b[0m\u001b[0;34m\u001b[0m\u001b[0;34m\u001b[0m\u001b[0m\n\u001b[0;32m---> 30\u001b[0;31m \u001b[0mmetrics\u001b[0m\u001b[0;34m.\u001b[0m\u001b[0mConfusionMatrixDisplay\u001b[0m\u001b[0;34m.\u001b[0m\u001b[0mfrom_predictions\u001b[0m\u001b[0;34m(\u001b[0m\u001b[0my_test\u001b[0m\u001b[0;34m,\u001b[0m \u001b[0my_pred\u001b[0m\u001b[0;34m,\u001b[0m \u001b[0mdisplay_labels\u001b[0m\u001b[0;34m=\u001b[0m\u001b[0mestimator\u001b[0m\u001b[0;34m.\u001b[0m\u001b[0mclasses_\u001b[0m\u001b[0;34m,\u001b[0m \u001b[0mnormalize\u001b[0m\u001b[0;34m=\u001b[0m\u001b[0;34m'all'\u001b[0m\u001b[0;34m,\u001b[0m \u001b[0mcmap\u001b[0m\u001b[0;34m=\u001b[0m\u001b[0;34m'Greys'\u001b[0m\u001b[0;34m)\u001b[0m\u001b[0;34m\u001b[0m\u001b[0;34m\u001b[0m\u001b[0m\n\u001b[0m\u001b[1;32m     31\u001b[0m \u001b[0mplt\u001b[0m\u001b[0;34m.\u001b[0m\u001b[0mtitle\u001b[0m\u001b[0;34m(\u001b[0m\u001b[0;34m\"Confusion matrix\"\u001b[0m\u001b[0;34m)\u001b[0m\u001b[0;34m\u001b[0m\u001b[0;34m\u001b[0m\u001b[0m\n\u001b[1;32m     32\u001b[0m \u001b[0mplt\u001b[0m\u001b[0;34m.\u001b[0m\u001b[0mfigure\u001b[0m\u001b[0;34m(\u001b[0m\u001b[0mfigsize\u001b[0m\u001b[0;34m=\u001b[0m\u001b[0;34m(\u001b[0m\u001b[0;36m10\u001b[0m\u001b[0;34m,\u001b[0m\u001b[0;36m10\u001b[0m\u001b[0;34m)\u001b[0m\u001b[0;34m)\u001b[0m\u001b[0;34m\u001b[0m\u001b[0;34m\u001b[0m\u001b[0m\n",
            "\u001b[0;31mAttributeError\u001b[0m: type object 'ConfusionMatrixDisplay' has no attribute 'from_predictions'"
          ]
        }
      ],
      "source": [
        "#   ****************Random Forest*****************\n",
        "#estimator = RandomForestClassifier(n_estimators=10, random_state=0, n_jobs=-1)\n",
        "estimator = RandomForestClassifier(n_estimators=10, max_depth=20, random_state=0, n_jobs=-1, verbose=2)\n",
        "\n",
        "# Fit\n",
        "start = time()\n",
        "estimator.fit(X_train_balanced, y_train_balanced)\n",
        "train_time = time() - start\n",
        "\n",
        "# Prediction\n",
        "start = time()\n",
        "y_pred = estimator.predict(X_test_scaled)\n",
        "predict_time = time() - start\n",
        "\n",
        "# Metrics\n",
        "accuracy = metrics.accuracy_score(y_test, y_pred)\n",
        "\n",
        "# Pre-processing\n",
        "y_pred = np.ravel(y_pred)\n",
        "\n",
        "# Print results\n",
        "print(\"Accuracy = {:.4f} | time = {:,.3f}s/{:,.3f}s\".format(accuracy, train_time, predict_time))\n",
        "\n",
        "# Plot confusion matrix\n",
        "cm = metrics.confusion_matrix(y_test, y_pred, labels=estimator.classes_)\n",
        "print(\"\\nConfusion matrix\")\n",
        "print(cm)\n",
        "\n",
        "#metrics.ConfusionMatrixDisplay.from_estimator(estimator, X_test, y_test, display_labels=estimator.classes_, normalize='all', cmap='Greys')\n",
        "metrics.ConfusionMatrixDisplay.from_predictions(y_test, y_pred, display_labels=estimator.classes_, normalize='all', cmap='Greys')\n",
        "plt.title(\"Confusion matrix\")\n",
        "plt.figure(figsize=(10,10))\n",
        "plt.show()\n",
        "\n",
        "# Classification report\n",
        "print(metrics.classification_report(y_test, y_pred, digits=4))\n",
        "\n",
        "# ROC curve and AUC\n",
        "fig, ax = plt.subplots()\n",
        "metrics.RocCurveDisplay.from_estimator(estimator, X_test_scaled, y_test, alpha=0.8, lw=2, ax=ax)\n",
        "ax.plot([0,1], [0,1], linestyle=\"--\", lw=2, color = \"r\", label = \"Change\", alpha = 0.5)\n",
        "plt.title(\"ROC Curve\")\n",
        "plt.figure(figsize=(10,10))\n",
        "plt.show()\n",
        "\n",
        "# Area Under Curve (AUC)\n",
        "\n",
        "#auc = metrics.roc_auc_score(y_test, estimator.decision_function(X_test))\n",
        "# Check this https://scikit-learn.org/stable/modules/model_evaluation.html#roc-auc-binary\n",
        "# where \"estimator.predict_proba(X_test_scaled)[:, 1]\" corresponds to the probability of the class with the \"greater label\", that is why the 1 as the index.\n",
        "y_score = estimator.predict_proba(X_test_scaled)[:, 1]\n",
        "auc = metrics.roc_auc_score(y_test, y_score)\n",
        "print(\"\\nArea Under Curve (AUC) = {:.4f}\".format(auc))"
      ]
    },
    {
      "cell_type": "code",
      "execution_count": null,
      "id": "bMgYY8n0hVYd",
      "metadata": {
        "id": "bMgYY8n0hVYd"
      },
      "outputs": [],
      "source": [
        "#print(f\"Classes: {rf.classes_}\")\n",
        "#print(f\"Feature importance: {rf.feature_importances_}\")\n",
        "#print(f\"Max. features: {rf.max_features}\")\n",
        "#print(f\"Number of classes: {rf.n_classes_}\")\n",
        "#print(f\"Number of features: {rf.n_features_}\")\n",
        "#print(f\"Number of outputs: {rf.n_outputs_}\")\n",
        "\n",
        "#print(f\"Base estimator: {rf.base_estimator_}\")\n",
        "##print(f\"Estimators: {rf.estimators_}\")\n",
        "#for estimator in rf.estimators_:\n",
        "    #print(f\"Estimator: {estimator}\")"
      ]
    },
    {
      "cell_type": "markdown",
      "source": [
        "#### Cross-validation for Random Forest"
      ],
      "metadata": {
        "id": "qY7lms5FlrLd"
      },
      "id": "qY7lms5FlrLd"
    },
    {
      "cell_type": "code",
      "source": [
        "start = time()\n",
        "#cross_validation_scores = cross_val_score(estimator, X_train_balanced, y_train_balanced, cv=LeaveOneOut(), scoring='f1_macro', n_jobs=-1, verbose=1)\n",
        "#cv = ShuffleSplit(n_splits=5, test_size=0.3, random_state=0)\n",
        "#cross_validation_scores = cross_val_score(estimator, X_train_balanced, y_train_balanced, cv=cv, scoring='f1_macro', n_jobs=-1, verbose=1)\n",
        "cross_validation_scores = cross_val_score(estimator, X_train_balanced, y_train_balanced, cv=10, scoring='f1_macro', n_jobs=-1, verbose=1)\n",
        "cross_validation_time = time() - start\n",
        "print(\"Mean cross-validation scores (Stratified CV) = {:.4f}\".format(np.mean(cross_validation_scores)))\n",
        "print(\"Standard deviation for cross-validation scores (Stratified CV) = {:.4f}\".format(np.std(cross_validation_scores)))\n",
        "print(\"Reported cross-validation time = {:,.3f}s\".format(cross_validation_time))\n",
        "print(\"All cross-validation scores:\\n\", cross_validation_scores)"
      ],
      "metadata": {
        "id": "_vzZONZplMrq",
        "colab": {
          "base_uri": "https://localhost:8080/"
        },
        "outputId": "981f70c0-1e5a-4244-d37f-9416ba7048d2"
      },
      "id": "_vzZONZplMrq",
      "execution_count": 57,
      "outputs": [
        {
          "output_type": "stream",
          "name": "stderr",
          "text": [
            "[Parallel(n_jobs=-1)]: Using backend LokyBackend with 2 concurrent workers.\n"
          ]
        },
        {
          "output_type": "stream",
          "name": "stdout",
          "text": [
            "Mean cross-validation scores (Stratified CV) = 0.9556\n",
            "Standard deviation for cross-validation scores (Stratified CV) = 0.0345\n",
            "Reported cross-validation time = 1.137s\n",
            "All cross-validation scores:\n",
            " [0.98181818 0.96362434 0.92551724 0.86996904 0.96291209 0.96296296\n",
            " 1.         0.94442539 0.98147513 0.96291209]\n"
          ]
        },
        {
          "output_type": "stream",
          "name": "stderr",
          "text": [
            "[Parallel(n_jobs=-1)]: Done  10 out of  10 | elapsed:    1.1s finished\n"
          ]
        }
      ]
    },
    {
      "cell_type": "markdown",
      "id": "99Pd8faZ8lC6",
      "metadata": {
        "id": "99Pd8faZ8lC6"
      },
      "source": [
        "### K Neighbors"
      ]
    },
    {
      "cell_type": "code",
      "execution_count": 58,
      "id": "O7jwNQIE8ow3",
      "metadata": {
        "id": "O7jwNQIE8ow3",
        "colab": {
          "base_uri": "https://localhost:8080/",
          "height": 322
        },
        "outputId": "075548e4-7632-4043-cf35-53f34000e3d9"
      },
      "outputs": [
        {
          "output_type": "stream",
          "name": "stdout",
          "text": [
            "Accuracy = 0.8475 | time = 0.002s/0.103s\n",
            "\n",
            "Confusion matrix\n",
            "[[103  10]\n",
            " [ 49 225]]\n"
          ]
        },
        {
          "output_type": "error",
          "ename": "AttributeError",
          "evalue": "ignored",
          "traceback": [
            "\u001b[0;31m---------------------------------------------------------------------------\u001b[0m",
            "\u001b[0;31mAttributeError\u001b[0m                            Traceback (most recent call last)",
            "\u001b[0;32m<ipython-input-58-2aa630fd0ba4>\u001b[0m in \u001b[0;36m<module>\u001b[0;34m()\u001b[0m\n\u001b[1;32m     28\u001b[0m \u001b[0;34m\u001b[0m\u001b[0m\n\u001b[1;32m     29\u001b[0m \u001b[0;31m#metrics.ConfusionMatrixDisplay.from_estimator(estimator, X_test, y_test, display_labels=estimator.classes_, normalize='all', cmap='Greys')\u001b[0m\u001b[0;34m\u001b[0m\u001b[0;34m\u001b[0m\u001b[0;34m\u001b[0m\u001b[0m\n\u001b[0;32m---> 30\u001b[0;31m \u001b[0mmetrics\u001b[0m\u001b[0;34m.\u001b[0m\u001b[0mConfusionMatrixDisplay\u001b[0m\u001b[0;34m.\u001b[0m\u001b[0mfrom_predictions\u001b[0m\u001b[0;34m(\u001b[0m\u001b[0my_test\u001b[0m\u001b[0;34m,\u001b[0m \u001b[0my_pred\u001b[0m\u001b[0;34m,\u001b[0m \u001b[0mdisplay_labels\u001b[0m\u001b[0;34m=\u001b[0m\u001b[0mestimator\u001b[0m\u001b[0;34m.\u001b[0m\u001b[0mclasses_\u001b[0m\u001b[0;34m,\u001b[0m \u001b[0mnormalize\u001b[0m\u001b[0;34m=\u001b[0m\u001b[0;34m'all'\u001b[0m\u001b[0;34m,\u001b[0m \u001b[0mcmap\u001b[0m\u001b[0;34m=\u001b[0m\u001b[0;34m'Greys'\u001b[0m\u001b[0;34m)\u001b[0m\u001b[0;34m\u001b[0m\u001b[0;34m\u001b[0m\u001b[0m\n\u001b[0m\u001b[1;32m     31\u001b[0m \u001b[0mplt\u001b[0m\u001b[0;34m.\u001b[0m\u001b[0mtitle\u001b[0m\u001b[0;34m(\u001b[0m\u001b[0;34m\"Confusion matrix\"\u001b[0m\u001b[0;34m)\u001b[0m\u001b[0;34m\u001b[0m\u001b[0;34m\u001b[0m\u001b[0m\n\u001b[1;32m     32\u001b[0m \u001b[0mplt\u001b[0m\u001b[0;34m.\u001b[0m\u001b[0mfigure\u001b[0m\u001b[0;34m(\u001b[0m\u001b[0mfigsize\u001b[0m\u001b[0;34m=\u001b[0m\u001b[0;34m(\u001b[0m\u001b[0;36m10\u001b[0m\u001b[0;34m,\u001b[0m\u001b[0;36m10\u001b[0m\u001b[0;34m)\u001b[0m\u001b[0;34m)\u001b[0m\u001b[0;34m\u001b[0m\u001b[0;34m\u001b[0m\u001b[0m\n",
            "\u001b[0;31mAttributeError\u001b[0m: type object 'ConfusionMatrixDisplay' has no attribute 'from_predictions'"
          ]
        }
      ],
      "source": [
        "#   ****************K Neighbors classifier*****************\n",
        "#estimator = KNeighborsClassifier(n_neighbors = 3, weights = 'distance', n_jobs = 4)\n",
        "estimator = KNeighborsClassifier(n_neighbors = 5, weights = 'distance', n_jobs = -1)\n",
        "\n",
        "# Fit\n",
        "start = time()\n",
        "estimator.fit(X_train_balanced, y_train_balanced)\n",
        "train_time = time() - start\n",
        "\n",
        "# Prediction\n",
        "start = time()\n",
        "y_pred = estimator.predict(X_test_scaled)\n",
        "predict_time = time() - start\n",
        "\n",
        "# Metrics\n",
        "accuracy = metrics.accuracy_score(y_test, y_pred)\n",
        "\n",
        "# Pre-processing\n",
        "y_pred = np.ravel(y_pred)\n",
        "\n",
        "# Print results\n",
        "print(\"Accuracy = {:.4f} | time = {:,.3f}s/{:,.3f}s\".format(accuracy, train_time, predict_time))\n",
        "\n",
        "# Plot confusion matrix\n",
        "cm = metrics.confusion_matrix(y_test, y_pred, labels=estimator.classes_)\n",
        "print(\"\\nConfusion matrix\")\n",
        "print(cm)\n",
        "\n",
        "#metrics.ConfusionMatrixDisplay.from_estimator(estimator, X_test, y_test, display_labels=estimator.classes_, normalize='all', cmap='Greys')\n",
        "metrics.ConfusionMatrixDisplay.from_predictions(y_test, y_pred, display_labels=estimator.classes_, normalize='all', cmap='Greys')\n",
        "plt.title(\"Confusion matrix\")\n",
        "plt.figure(figsize=(10,10))\n",
        "plt.show()\n",
        "\n",
        "# Classification report\n",
        "print(metrics.classification_report(y_test, y_pred, digits=4))\n",
        "\n",
        "# ROC curve and AUC\n",
        "fig, ax = plt.subplots()\n",
        "metrics.RocCurveDisplay.from_estimator(estimator, X_test_scaled, y_test, alpha=0.8, lw=2, ax=ax)\n",
        "ax.plot([0,1], [0,1], linestyle=\"--\", lw=2, color = \"r\", label = \"Change\", alpha = 0.5)\n",
        "plt.title(\"ROC Curve\")\n",
        "plt.figure(figsize=(10,10))\n",
        "plt.show()\n",
        "\n",
        "# Area Under Curve (AUC)\n",
        "\n",
        "#auc = metrics.roc_auc_score(y_test, estimator.decision_function(X_test))\n",
        "# Check this https://scikit-learn.org/stable/modules/model_evaluation.html#roc-auc-binary\n",
        "# where \"estimator.predict_proba(X_test_scaled)[:, 1]\" corresponds to the probability of the class with the \"greater label\", that is why the 1 as the index.\n",
        "y_score = estimator.predict_proba(X_test_scaled)[:, 1]\n",
        "auc = metrics.roc_auc_score(y_test, y_score)\n",
        "print(\"\\nArea Under Curve (AUC) = {:.4f}\".format(auc))"
      ]
    },
    {
      "cell_type": "code",
      "execution_count": null,
      "id": "e6e26d91",
      "metadata": {
        "id": "e6e26d91"
      },
      "outputs": [],
      "source": [
        "#print(f\"Classes: {knc.classes_}\")\n",
        "#print(f\"Effective metric: {knc.effective_metric_}\")\n",
        "#print(f\"Effective metric params: {knc.effective_metric_params_}\")\n",
        "#print(f\"N. samples fit: {knc.n_samples_fit_}\")"
      ]
    },
    {
      "cell_type": "markdown",
      "source": [
        "#### Cross-validation for KNN"
      ],
      "metadata": {
        "id": "FzUtnX2nnwA4"
      },
      "id": "FzUtnX2nnwA4"
    },
    {
      "cell_type": "code",
      "source": [
        "start = time()\n",
        "#cross_validation_scores = cross_val_score(estimator, X_train_balanced, y_train_balanced, cv=LeaveOneOut(), scoring='f1_macro', n_jobs=-1, verbose=1)\n",
        "#cv = ShuffleSplit(n_splits=5, test_size=0.3, random_state=0)\n",
        "#cross_validation_scores = cross_val_score(estimator, X_train_balanced, y_train_balanced, cv=cv, scoring='f1_macro', n_jobs=-1, verbose=1)\n",
        "cross_validation_scores = cross_val_score(estimator, X_train_balanced, y_train_balanced, cv=10, scoring='f1_macro', n_jobs=-1, verbose=1)\n",
        "cross_validation_time = time() - start\n",
        "print(\"Mean cross-validation scores (Stratified CV) = {:.4f}\".format(np.mean(cross_validation_scores)))\n",
        "print(\"Standard deviation for cross-validation scores (Stratified CV) = {:.4f}\".format(np.std(cross_validation_scores)))\n",
        "print(\"Reported cross-validation time = {:,.3f}s\".format(cross_validation_time))\n",
        "print(\"All cross-validation scores:\\n\", cross_validation_scores)"
      ],
      "metadata": {
        "id": "QjR4YWx7lNmD",
        "colab": {
          "base_uri": "https://localhost:8080/"
        },
        "outputId": "cbc33b54-5479-4c9c-9cdb-d7ec9e68cc9a"
      },
      "id": "QjR4YWx7lNmD",
      "execution_count": 59,
      "outputs": [
        {
          "output_type": "stream",
          "name": "stderr",
          "text": [
            "[Parallel(n_jobs=-1)]: Using backend LokyBackend with 2 concurrent workers.\n"
          ]
        },
        {
          "output_type": "stream",
          "name": "stdout",
          "text": [
            "Mean cross-validation scores (Stratified CV) = 0.8612\n",
            "Standard deviation for cross-validation scores (Stratified CV) = 0.0500\n",
            "Reported cross-validation time = 0.553s\n",
            "All cross-validation scores:\n",
            " [0.81666667 0.87255876 0.85164835 0.77747253 0.88827586 0.8125\n",
            " 0.94442539 0.83327616 0.92592593 0.88888889]\n"
          ]
        },
        {
          "output_type": "stream",
          "name": "stderr",
          "text": [
            "[Parallel(n_jobs=-1)]: Done  10 out of  10 | elapsed:    0.5s finished\n"
          ]
        }
      ]
    },
    {
      "cell_type": "markdown",
      "source": [
        "# AutoML with LazyPredict"
      ],
      "metadata": {
        "id": "N87QKhVbUoPg"
      },
      "id": "N87QKhVbUoPg"
    },
    {
      "cell_type": "code",
      "source": [
        "clf = LazyClassifier(verbose=0, ignore_warnings=True, custom_metric=None)\n",
        "# Fit\n",
        "start = time()\n",
        "models, predictions = clf.fit(X_train_balanced, X_test_scaled, y_train_balanced, y_test)\n",
        "lazy_classifier_time = time() - start\n",
        "\n",
        "# Print results\n",
        "print(\"time = {:,.3f}s\".format(lazy_classifier_time))"
      ],
      "metadata": {
        "colab": {
          "base_uri": "https://localhost:8080/"
        },
        "id": "YYTndDIMUtt-",
        "outputId": "b371159f-589e-4624-f2db-716871236367"
      },
      "id": "YYTndDIMUtt-",
      "execution_count": 60,
      "outputs": [
        {
          "output_type": "stream",
          "name": "stderr",
          "text": [
            "100%|██████████| 29/29 [00:01<00:00, 17.66it/s]"
          ]
        },
        {
          "output_type": "stream",
          "name": "stdout",
          "text": [
            "time = 1.662s\n"
          ]
        },
        {
          "output_type": "stream",
          "name": "stderr",
          "text": [
            "\n"
          ]
        }
      ]
    },
    {
      "cell_type": "code",
      "source": [
        "print(models)"
      ],
      "metadata": {
        "colab": {
          "base_uri": "https://localhost:8080/"
        },
        "id": "OqkFBvYvX09M",
        "outputId": "5a86a8a8-f14f-4230-9689-b33667b95eff"
      },
      "id": "OqkFBvYvX09M",
      "execution_count": 61,
      "outputs": [
        {
          "output_type": "stream",
          "name": "stdout",
          "text": [
            "                               Accuracy  Balanced Accuracy ROC AUC  F1 Score  \\\n",
            "Model                                                                          \n",
            "ExtraTreesClassifier               0.98               0.99    None      0.98   \n",
            "XGBClassifier                      0.97               0.98    None      0.97   \n",
            "LGBMClassifier                     0.97               0.98    None      0.97   \n",
            "RandomForestClassifier             0.97               0.98    None      0.97   \n",
            "DecisionTreeClassifier             0.94               0.95    None      0.94   \n",
            "BaggingClassifier                  0.94               0.95    None      0.94   \n",
            "LabelSpreading                     0.87               0.90    None      0.87   \n",
            "ExtraTreeClassifier                0.88               0.89    None      0.88   \n",
            "LabelPropagation                   0.86               0.89    None      0.87   \n",
            "AdaBoostClassifier                 0.89               0.88    None      0.89   \n",
            "KNeighborsClassifier               0.82               0.85    None      0.83   \n",
            "NuSVC                              0.80               0.81    None      0.81   \n",
            "SVC                                0.80               0.78    None      0.80   \n",
            "QuadraticDiscriminantAnalysis      0.72               0.69    None      0.73   \n",
            "GaussianNB                         0.75               0.67    None      0.74   \n",
            "NearestCentroid                    0.70               0.66    None      0.70   \n",
            "BernoulliNB                        0.68               0.65    None      0.69   \n",
            "Perceptron                         0.68               0.65    None      0.69   \n",
            "RidgeClassifierCV                  0.67               0.63    None      0.68   \n",
            "LogisticRegression                 0.64               0.61    None      0.65   \n",
            "CalibratedClassifierCV             0.63               0.60    None      0.64   \n",
            "LinearDiscriminantAnalysis         0.63               0.60    None      0.64   \n",
            "LinearSVC                          0.63               0.60    None      0.64   \n",
            "RidgeClassifier                    0.63               0.60    None      0.64   \n",
            "SGDClassifier                      0.58               0.51    None      0.59   \n",
            "DummyClassifier                    0.49               0.49    None      0.51   \n",
            "PassiveAggressiveClassifier        0.32               0.40    None      0.31   \n",
            "\n",
            "                               Time Taken  \n",
            "Model                                      \n",
            "ExtraTreesClassifier                 0.17  \n",
            "XGBClassifier                        0.10  \n",
            "LGBMClassifier                       0.08  \n",
            "RandomForestClassifier               0.23  \n",
            "DecisionTreeClassifier               0.03  \n",
            "BaggingClassifier                    0.06  \n",
            "LabelSpreading                       0.06  \n",
            "ExtraTreeClassifier                  0.02  \n",
            "LabelPropagation                     0.05  \n",
            "AdaBoostClassifier                   0.24  \n",
            "KNeighborsClassifier                 0.03  \n",
            "NuSVC                                0.04  \n",
            "SVC                                  0.03  \n",
            "QuadraticDiscriminantAnalysis        0.02  \n",
            "GaussianNB                           0.02  \n",
            "NearestCentroid                      0.02  \n",
            "BernoulliNB                          0.02  \n",
            "Perceptron                           0.02  \n",
            "RidgeClassifierCV                    0.02  \n",
            "LogisticRegression                   0.04  \n",
            "CalibratedClassifierCV               0.15  \n",
            "LinearDiscriminantAnalysis           0.03  \n",
            "LinearSVC                            0.05  \n",
            "RidgeClassifier                      0.02  \n",
            "SGDClassifier                        0.02  \n",
            "DummyClassifier                      0.02  \n",
            "PassiveAggressiveClassifier          0.02  \n"
          ]
        }
      ]
    },
    {
      "cell_type": "markdown",
      "id": "c791711c",
      "metadata": {
        "id": "c791711c"
      },
      "source": [
        "# AutoML with auto-sklearn"
      ]
    },
    {
      "cell_type": "code",
      "execution_count": null,
      "id": "4409bbfc",
      "metadata": {
        "id": "4409bbfc"
      },
      "outputs": [],
      "source": [
        "#automl = autosklearn.classification.AutoSklearnClassifier(\n",
        "    #include_estimators=[\"decision_tree\", \"k_nearest_neighbors\", \"random_forest\", ], exclude_estimators=None,\n",
        "    #include_preprocessors=[\"fast_ica\", \"pca\", \"polynomial\", \"no_preprocessing\", \"truncatedSVD\", ], exclude_preprocessors=None,\n",
        "    #n_jobs=4)\n",
        "#automl.fit(X_train, y_train)\n",
        "#y_pred_auto = automl.predict(X_test)\n",
        "#print(\"Accuracy score of AutoML\", metrics.accuracy_score(y_test, y_pred_auto))"
      ]
    },
    {
      "cell_type": "code",
      "execution_count": null,
      "id": "7c6f266e",
      "metadata": {
        "id": "7c6f266e"
      },
      "outputs": [],
      "source": [
        "#automl.cv_results_"
      ]
    },
    {
      "cell_type": "code",
      "execution_count": null,
      "id": "7cd7f3bb",
      "metadata": {
        "id": "7cd7f3bb"
      },
      "outputs": [],
      "source": [
        "#automl.sprint_statistics()"
      ]
    },
    {
      "cell_type": "code",
      "execution_count": null,
      "id": "adba58dc",
      "metadata": {
        "id": "adba58dc"
      },
      "outputs": [],
      "source": [
        "#automl.show_models()"
      ]
    },
    {
      "cell_type": "code",
      "execution_count": null,
      "id": "e97fb06b",
      "metadata": {
        "id": "e97fb06b"
      },
      "outputs": [],
      "source": [
        "#print(automl.show_models())"
      ]
    }
  ],
  "metadata": {
    "colab": {
      "collapsed_sections": [
        "original-diameter",
        "banned-application",
        "6a299ea0",
        "e0d91b4a",
        "a886ccf3",
        "b8a7a938",
        "fdc57427",
        "6391d798",
        "aab82110",
        "e231659f",
        "8cef7799",
        "b1165f40",
        "b5d8e754",
        "7167ee03"
      ],
      "name": "Multifractal based on slide ids.ipynb",
      "provenance": [],
      "include_colab_link": true
    },
    "kernelspec": {
      "display_name": "Python 3",
      "language": "python",
      "name": "python3"
    },
    "language_info": {
      "codemirror_mode": {
        "name": "ipython",
        "version": 3
      },
      "file_extension": ".py",
      "mimetype": "text/x-python",
      "name": "python",
      "nbconvert_exporter": "python",
      "pygments_lexer": "ipython3",
      "version": "3.8.8"
    }
  },
  "nbformat": 4,
  "nbformat_minor": 5
}