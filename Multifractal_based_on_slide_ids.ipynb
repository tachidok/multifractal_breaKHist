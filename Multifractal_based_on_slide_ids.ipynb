{
  "cells": [
    {
      "cell_type": "markdown",
      "metadata": {
        "id": "view-in-github",
        "colab_type": "text"
      },
      "source": [
        "<a href=\"https://colab.research.google.com/github/tachidok/multifractal_breaKHist/blob/main/Multifractal_based_on_slide_ids.ipynb\" target=\"_parent\"><img src=\"https://colab.research.google.com/assets/colab-badge.svg\" alt=\"Open In Colab\"/></a>"
      ]
    },
    {
      "cell_type": "markdown",
      "id": "sticky-compromise",
      "metadata": {
        "id": "sticky-compromise"
      },
      "source": [
        "# Cancer cells classification based on multifractal dimension"
      ]
    },
    {
      "cell_type": "markdown",
      "id": "lHB0YsS_a0f4",
      "metadata": {
        "id": "lHB0YsS_a0f4"
      },
      "source": [
        "# Install non default packages"
      ]
    },
    {
      "cell_type": "code",
      "execution_count": 1,
      "id": "Q0N6LX9Sa7Pq",
      "metadata": {
        "id": "Q0N6LX9Sa7Pq",
        "colab": {
          "base_uri": "https://localhost:8080/"
        },
        "outputId": "653f1af0-3779-4776-b486-290739a78fd1"
      },
      "outputs": [
        {
          "output_type": "stream",
          "name": "stdout",
          "text": [
            "Found existing installation: scikit-learn 1.0.2\n",
            "Uninstalling scikit-learn-1.0.2:\n",
            "  Successfully uninstalled scikit-learn-1.0.2\n",
            "Looking in indexes: https://pypi.org/simple, https://us-python.pkg.dev/colab-wheels/public/simple/\n",
            "Collecting scikit-learn\n",
            "  Using cached scikit_learn-1.0.2-cp37-cp37m-manylinux_2_17_x86_64.manylinux2014_x86_64.whl (24.8 MB)\n",
            "Requirement already satisfied: threadpoolctl>=2.0.0 in /usr/local/lib/python3.7/dist-packages (from scikit-learn) (3.1.0)\n",
            "Requirement already satisfied: scipy>=1.1.0 in /usr/local/lib/python3.7/dist-packages (from scikit-learn) (1.5.4)\n",
            "Requirement already satisfied: joblib>=0.11 in /usr/local/lib/python3.7/dist-packages (from scikit-learn) (1.0.0)\n",
            "Requirement already satisfied: numpy>=1.14.6 in /usr/local/lib/python3.7/dist-packages (from scikit-learn) (1.19.1)\n",
            "Installing collected packages: scikit-learn\n",
            "\u001b[31mERROR: pip's dependency resolver does not currently take into account all the packages that are installed. This behaviour is the source of the following dependency conflicts.\n",
            "lazypredict 0.2.9 requires scikit-learn==0.23.1, but you have scikit-learn 1.0.2 which is incompatible.\u001b[0m\n",
            "Successfully installed scikit-learn-1.0.2\n"
          ]
        }
      ],
      "source": [
        "!pip uninstall scikit-learn -y\n",
        "!pip install -U scikit-learn\n",
        "#!pip install -U lazypredict"
      ]
    },
    {
      "cell_type": "markdown",
      "id": "concrete-airport",
      "metadata": {
        "id": "concrete-airport"
      },
      "source": [
        "# Import packages"
      ]
    },
    {
      "cell_type": "code",
      "execution_count": 3,
      "id": "hollywood-monitoring",
      "metadata": {
        "id": "hollywood-monitoring"
      },
      "outputs": [],
      "source": [
        "import os\n",
        "import sys\n",
        "\n",
        "# Basic plotting\n",
        "import numpy as np\n",
        "#import cv2\n",
        "import pylab as pl\n",
        "from matplotlib import pyplot as plt\n",
        "\n",
        "# Basic data base management and statistical tools\n",
        "import pandas as pd\n",
        "#import seaborn as sns\n",
        "\n",
        "# Classification tools\n",
        "from sklearn.model_selection import train_test_split\n",
        "\n",
        "# Classification models\n",
        "from sklearn.dummy import DummyClassifier\n",
        "from sklearn.linear_model import LogisticRegression\n",
        "#from sklearn.linear_model import LinearRegression\n",
        "from sklearn.neural_network import MLPClassifier\n",
        "from sklearn.naive_bayes import GaussianNB\n",
        "#from sklearn.gaussian_process import GaussianProcessClassifier\n",
        "#from sklearn.svm import SVC\n",
        "from sklearn.tree import DecisionTreeClassifier\n",
        "from sklearn.ensemble import RandomForestClassifier\n",
        "from sklearn.neighbors import KNeighborsClassifier\n",
        "\n",
        "# Cross-validation\n",
        "from sklearn.model_selection import cross_val_score\n",
        "from sklearn.model_selection import ShuffleSplit\n",
        "from sklearn.model_selection import LeaveOneOut\n",
        "\n",
        "# Metrics and tools\n",
        "from sklearn import preprocessing\n",
        "# Metrics (accuracy, precision, recall, F_beta, AUC)\n",
        "from sklearn import metrics\n",
        "# Get the time for each classifier\n",
        "from time import time\n",
        "\n",
        "# Manage unbalance data\n",
        "from imblearn.under_sampling import RandomUnderSampler\n",
        "from sklearn.model_selection import train_test_split\n",
        "from collections import Counter\n",
        "\n",
        "# Visualization\n",
        "from sklearn import tree\n",
        "\n",
        "# AutoML\n",
        "#import autosklearn.classification\n",
        "from lazypredict.Supervised import LazyClassifier"
      ]
    },
    {
      "cell_type": "markdown",
      "id": "ThcXctvkgiSa",
      "metadata": {
        "id": "ThcXctvkgiSa"
      },
      "source": [
        "# Load data"
      ]
    },
    {
      "cell_type": "markdown",
      "id": "53c48b4e",
      "metadata": {
        "id": "53c48b4e"
      },
      "source": [
        "## Load from local device (not used in colab)"
      ]
    },
    {
      "cell_type": "code",
      "execution_count": null,
      "id": "0cd3e665",
      "metadata": {
        "id": "0cd3e665"
      },
      "outputs": [],
      "source": [
        "#df = pd.read_csv('../data/csvfile_all.csv')\n",
        "#df = pd.read_csv('../data/csv_files/02_csv_06052021/csvfile_all.csv')\n",
        "#df = pd.read_csv('../data/csv_files/03_csv_files_bc_p23/csvfile_all.csv')\n",
        "#df = pd.read_csv('../data/csv_files/04_csv_files_bc_p456/csvfile_all.csv')\n",
        "#df = pd.read_csv('../data/csv_files/05_csv_files_seg_bc234/csvfile_all.csv')\n",
        "#df = pd.read_csv('../data/csv_files/06_csv_files_heq_seg_bc234_log/csvfile_all.csv')\n",
        "#df = pd.read_csv('../data/csv_files/07_csv_files_heq_segthadapt_bc234_log/csvfile_all.csv')"
      ]
    },
    {
      "cell_type": "markdown",
      "id": "xrmnN3atrk3B",
      "metadata": {
        "id": "xrmnN3atrk3B"
      },
      "source": [
        "## Load to Google Drive from local file system using Python code (not used in colab)"
      ]
    },
    {
      "cell_type": "code",
      "execution_count": null,
      "id": "1NSKYkXfrzC2",
      "metadata": {
        "id": "1NSKYkXfrzC2"
      },
      "outputs": [],
      "source": [
        "#from google.colab import files\n",
        "#uploaded = files.upload()"
      ]
    },
    {
      "cell_type": "markdown",
      "id": "d13ae963",
      "metadata": {
        "id": "d13ae963"
      },
      "source": [
        "### Load data"
      ]
    },
    {
      "cell_type": "code",
      "execution_count": null,
      "id": "-sW7aToesHTs",
      "metadata": {
        "id": "-sW7aToesHTs"
      },
      "outputs": [],
      "source": [
        "#df = pd.read_csv('csvfile_all.csv')"
      ]
    },
    {
      "cell_type": "markdown",
      "id": "efcfca5f",
      "metadata": {
        "id": "efcfca5f"
      },
      "source": [
        "## Load from Google Drive (used in colab)"
      ]
    },
    {
      "cell_type": "markdown",
      "id": "e2c52917",
      "metadata": {
        "id": "e2c52917"
      },
      "source": [
        "### Mount Google Drive"
      ]
    },
    {
      "cell_type": "code",
      "execution_count": 4,
      "id": "PJF_G_KlgoTL",
      "metadata": {
        "id": "PJF_G_KlgoTL",
        "colab": {
          "base_uri": "https://localhost:8080/"
        },
        "outputId": "f04a83cc-63fa-4c58-8757-1b2bc4c0b976"
      },
      "outputs": [
        {
          "output_type": "stream",
          "name": "stdout",
          "text": [
            "Drive already mounted at /content/gdrive; to attempt to forcibly remount, call drive.mount(\"/content/gdrive\", force_remount=True).\n"
          ]
        }
      ],
      "source": [
        "from google.colab import drive\n",
        "drive.mount('/content/gdrive')"
      ]
    },
    {
      "cell_type": "markdown",
      "id": "centered-wright",
      "metadata": {
        "id": "centered-wright"
      },
      "source": [
        "### Where are we? (current path)"
      ]
    },
    {
      "cell_type": "code",
      "execution_count": null,
      "id": "unlikely-netscape",
      "metadata": {
        "id": "unlikely-netscape"
      },
      "outputs": [],
      "source": [
        "#!pwd"
      ]
    },
    {
      "cell_type": "markdown",
      "id": "robust-rabbit",
      "metadata": {
        "id": "robust-rabbit"
      },
      "source": [
        "### Load data from Google Drive"
      ]
    },
    {
      "cell_type": "code",
      "execution_count": 5,
      "id": "governing-reference",
      "metadata": {
        "id": "governing-reference"
      },
      "outputs": [],
      "source": [
        "df = pd.read_csv('/content/gdrive/MyDrive/Colab Notebooks/dataset/cancer/csv_files/06_csv_files_heq_seg__bc_234_log/csvfile_all.csv')"
      ]
    },
    {
      "cell_type": "markdown",
      "id": "kuYAdMJgnP2g",
      "metadata": {
        "id": "kuYAdMJgnP2g"
      },
      "source": [
        "# Output dataframe"
      ]
    },
    {
      "cell_type": "code",
      "execution_count": 6,
      "id": "comfortable-equilibrium",
      "metadata": {
        "id": "comfortable-equilibrium",
        "colab": {
          "base_uri": "https://localhost:8080/",
          "height": 424
        },
        "outputId": "37659144-0dcd-4ee0-96d9-b416f2018a85"
      },
      "outputs": [
        {
          "output_type": "execute_result",
          "data": {
            "text/plain": [
              "      index                                               path  \\\n",
              "0         0  ./BreaKHis_v1/histology_slides/breast/malignan...   \n",
              "1         1  ./BreaKHis_v1/histology_slides/breast/malignan...   \n",
              "2         2  ./BreaKHis_v1/histology_slides/breast/malignan...   \n",
              "3         3  ./BreaKHis_v1/histology_slides/breast/malignan...   \n",
              "4         4  ./BreaKHis_v1/histology_slides/breast/malignan...   \n",
              "...     ...                                                ...   \n",
              "7904   7904  ./BreaKHis_v1/histology_slides/breast/benign/S...   \n",
              "7905   7905  ./BreaKHis_v1/histology_slides/breast/benign/S...   \n",
              "7906   7906  ./BreaKHis_v1/histology_slides/breast/benign/S...   \n",
              "7907   7907  ./BreaKHis_v1/histology_slides/breast/benign/S...   \n",
              "7908   7908  ./BreaKHis_v1/histology_slides/breast/benign/S...   \n",
              "\n",
              "                           image_name  magnification  fd_canny_100_200  \\\n",
              "0      SOB_M_MC-14-13418DE-40-010.png             40          1.199419   \n",
              "1      SOB_M_MC-14-13418DE-40-012.png             40          1.164002   \n",
              "2     SOB_M_MC-14-13418DE-400-011.png            400          1.097742   \n",
              "3     SOB_M_MC-14-13418DE-400-005.png            400          1.069848   \n",
              "4     SOB_M_MC-14-13418DE-200-008.png            200          1.040156   \n",
              "...                               ...            ...               ...   \n",
              "7904    SOB_B_TA-14-16184-200-025.png            200          1.004378   \n",
              "7905    SOB_B_TA-14-16184-100-024.png            100          1.038602   \n",
              "7906    SOB_B_TA-14-16184-100-015.png            100          1.046032   \n",
              "7907    SOB_B_TA-14-16184-100-030.png            100          1.043061   \n",
              "7908    SOB_B_TA-14-16184-100-028.png            100          1.027624   \n",
              "\n",
              "      fd_canny_150_250_as5 tumor_class tumor_type  \n",
              "0                 1.292474           M         MC  \n",
              "1                 1.253220           M         MC  \n",
              "2                 1.145330           M         MC  \n",
              "3                 1.119671           M         MC  \n",
              "4                 1.088144           M         MC  \n",
              "...                    ...         ...        ...  \n",
              "7904              1.074530           B         TA  \n",
              "7905              1.091838           B         TA  \n",
              "7906              1.095969           B         TA  \n",
              "7907              1.104366           B         TA  \n",
              "7908              1.080088           B         TA  \n",
              "\n",
              "[7909 rows x 8 columns]"
            ],
            "text/html": [
              "\n",
              "  <div id=\"df-2ca9761e-fa4e-4903-adc8-62fa82541cba\">\n",
              "    <div class=\"colab-df-container\">\n",
              "      <div>\n",
              "<style scoped>\n",
              "    .dataframe tbody tr th:only-of-type {\n",
              "        vertical-align: middle;\n",
              "    }\n",
              "\n",
              "    .dataframe tbody tr th {\n",
              "        vertical-align: top;\n",
              "    }\n",
              "\n",
              "    .dataframe thead th {\n",
              "        text-align: right;\n",
              "    }\n",
              "</style>\n",
              "<table border=\"1\" class=\"dataframe\">\n",
              "  <thead>\n",
              "    <tr style=\"text-align: right;\">\n",
              "      <th></th>\n",
              "      <th>index</th>\n",
              "      <th>path</th>\n",
              "      <th>image_name</th>\n",
              "      <th>magnification</th>\n",
              "      <th>fd_canny_100_200</th>\n",
              "      <th>fd_canny_150_250_as5</th>\n",
              "      <th>tumor_class</th>\n",
              "      <th>tumor_type</th>\n",
              "    </tr>\n",
              "  </thead>\n",
              "  <tbody>\n",
              "    <tr>\n",
              "      <th>0</th>\n",
              "      <td>0</td>\n",
              "      <td>./BreaKHis_v1/histology_slides/breast/malignan...</td>\n",
              "      <td>SOB_M_MC-14-13418DE-40-010.png</td>\n",
              "      <td>40</td>\n",
              "      <td>1.199419</td>\n",
              "      <td>1.292474</td>\n",
              "      <td>M</td>\n",
              "      <td>MC</td>\n",
              "    </tr>\n",
              "    <tr>\n",
              "      <th>1</th>\n",
              "      <td>1</td>\n",
              "      <td>./BreaKHis_v1/histology_slides/breast/malignan...</td>\n",
              "      <td>SOB_M_MC-14-13418DE-40-012.png</td>\n",
              "      <td>40</td>\n",
              "      <td>1.164002</td>\n",
              "      <td>1.253220</td>\n",
              "      <td>M</td>\n",
              "      <td>MC</td>\n",
              "    </tr>\n",
              "    <tr>\n",
              "      <th>2</th>\n",
              "      <td>2</td>\n",
              "      <td>./BreaKHis_v1/histology_slides/breast/malignan...</td>\n",
              "      <td>SOB_M_MC-14-13418DE-400-011.png</td>\n",
              "      <td>400</td>\n",
              "      <td>1.097742</td>\n",
              "      <td>1.145330</td>\n",
              "      <td>M</td>\n",
              "      <td>MC</td>\n",
              "    </tr>\n",
              "    <tr>\n",
              "      <th>3</th>\n",
              "      <td>3</td>\n",
              "      <td>./BreaKHis_v1/histology_slides/breast/malignan...</td>\n",
              "      <td>SOB_M_MC-14-13418DE-400-005.png</td>\n",
              "      <td>400</td>\n",
              "      <td>1.069848</td>\n",
              "      <td>1.119671</td>\n",
              "      <td>M</td>\n",
              "      <td>MC</td>\n",
              "    </tr>\n",
              "    <tr>\n",
              "      <th>4</th>\n",
              "      <td>4</td>\n",
              "      <td>./BreaKHis_v1/histology_slides/breast/malignan...</td>\n",
              "      <td>SOB_M_MC-14-13418DE-200-008.png</td>\n",
              "      <td>200</td>\n",
              "      <td>1.040156</td>\n",
              "      <td>1.088144</td>\n",
              "      <td>M</td>\n",
              "      <td>MC</td>\n",
              "    </tr>\n",
              "    <tr>\n",
              "      <th>...</th>\n",
              "      <td>...</td>\n",
              "      <td>...</td>\n",
              "      <td>...</td>\n",
              "      <td>...</td>\n",
              "      <td>...</td>\n",
              "      <td>...</td>\n",
              "      <td>...</td>\n",
              "      <td>...</td>\n",
              "    </tr>\n",
              "    <tr>\n",
              "      <th>7904</th>\n",
              "      <td>7904</td>\n",
              "      <td>./BreaKHis_v1/histology_slides/breast/benign/S...</td>\n",
              "      <td>SOB_B_TA-14-16184-200-025.png</td>\n",
              "      <td>200</td>\n",
              "      <td>1.004378</td>\n",
              "      <td>1.074530</td>\n",
              "      <td>B</td>\n",
              "      <td>TA</td>\n",
              "    </tr>\n",
              "    <tr>\n",
              "      <th>7905</th>\n",
              "      <td>7905</td>\n",
              "      <td>./BreaKHis_v1/histology_slides/breast/benign/S...</td>\n",
              "      <td>SOB_B_TA-14-16184-100-024.png</td>\n",
              "      <td>100</td>\n",
              "      <td>1.038602</td>\n",
              "      <td>1.091838</td>\n",
              "      <td>B</td>\n",
              "      <td>TA</td>\n",
              "    </tr>\n",
              "    <tr>\n",
              "      <th>7906</th>\n",
              "      <td>7906</td>\n",
              "      <td>./BreaKHis_v1/histology_slides/breast/benign/S...</td>\n",
              "      <td>SOB_B_TA-14-16184-100-015.png</td>\n",
              "      <td>100</td>\n",
              "      <td>1.046032</td>\n",
              "      <td>1.095969</td>\n",
              "      <td>B</td>\n",
              "      <td>TA</td>\n",
              "    </tr>\n",
              "    <tr>\n",
              "      <th>7907</th>\n",
              "      <td>7907</td>\n",
              "      <td>./BreaKHis_v1/histology_slides/breast/benign/S...</td>\n",
              "      <td>SOB_B_TA-14-16184-100-030.png</td>\n",
              "      <td>100</td>\n",
              "      <td>1.043061</td>\n",
              "      <td>1.104366</td>\n",
              "      <td>B</td>\n",
              "      <td>TA</td>\n",
              "    </tr>\n",
              "    <tr>\n",
              "      <th>7908</th>\n",
              "      <td>7908</td>\n",
              "      <td>./BreaKHis_v1/histology_slides/breast/benign/S...</td>\n",
              "      <td>SOB_B_TA-14-16184-100-028.png</td>\n",
              "      <td>100</td>\n",
              "      <td>1.027624</td>\n",
              "      <td>1.080088</td>\n",
              "      <td>B</td>\n",
              "      <td>TA</td>\n",
              "    </tr>\n",
              "  </tbody>\n",
              "</table>\n",
              "<p>7909 rows × 8 columns</p>\n",
              "</div>\n",
              "      <button class=\"colab-df-convert\" onclick=\"convertToInteractive('df-2ca9761e-fa4e-4903-adc8-62fa82541cba')\"\n",
              "              title=\"Convert this dataframe to an interactive table.\"\n",
              "              style=\"display:none;\">\n",
              "        \n",
              "  <svg xmlns=\"http://www.w3.org/2000/svg\" height=\"24px\"viewBox=\"0 0 24 24\"\n",
              "       width=\"24px\">\n",
              "    <path d=\"M0 0h24v24H0V0z\" fill=\"none\"/>\n",
              "    <path d=\"M18.56 5.44l.94 2.06.94-2.06 2.06-.94-2.06-.94-.94-2.06-.94 2.06-2.06.94zm-11 1L8.5 8.5l.94-2.06 2.06-.94-2.06-.94L8.5 2.5l-.94 2.06-2.06.94zm10 10l.94 2.06.94-2.06 2.06-.94-2.06-.94-.94-2.06-.94 2.06-2.06.94z\"/><path d=\"M17.41 7.96l-1.37-1.37c-.4-.4-.92-.59-1.43-.59-.52 0-1.04.2-1.43.59L10.3 9.45l-7.72 7.72c-.78.78-.78 2.05 0 2.83L4 21.41c.39.39.9.59 1.41.59.51 0 1.02-.2 1.41-.59l7.78-7.78 2.81-2.81c.8-.78.8-2.07 0-2.86zM5.41 20L4 18.59l7.72-7.72 1.47 1.35L5.41 20z\"/>\n",
              "  </svg>\n",
              "      </button>\n",
              "      \n",
              "  <style>\n",
              "    .colab-df-container {\n",
              "      display:flex;\n",
              "      flex-wrap:wrap;\n",
              "      gap: 12px;\n",
              "    }\n",
              "\n",
              "    .colab-df-convert {\n",
              "      background-color: #E8F0FE;\n",
              "      border: none;\n",
              "      border-radius: 50%;\n",
              "      cursor: pointer;\n",
              "      display: none;\n",
              "      fill: #1967D2;\n",
              "      height: 32px;\n",
              "      padding: 0 0 0 0;\n",
              "      width: 32px;\n",
              "    }\n",
              "\n",
              "    .colab-df-convert:hover {\n",
              "      background-color: #E2EBFA;\n",
              "      box-shadow: 0px 1px 2px rgba(60, 64, 67, 0.3), 0px 1px 3px 1px rgba(60, 64, 67, 0.15);\n",
              "      fill: #174EA6;\n",
              "    }\n",
              "\n",
              "    [theme=dark] .colab-df-convert {\n",
              "      background-color: #3B4455;\n",
              "      fill: #D2E3FC;\n",
              "    }\n",
              "\n",
              "    [theme=dark] .colab-df-convert:hover {\n",
              "      background-color: #434B5C;\n",
              "      box-shadow: 0px 1px 3px 1px rgba(0, 0, 0, 0.15);\n",
              "      filter: drop-shadow(0px 1px 2px rgba(0, 0, 0, 0.3));\n",
              "      fill: #FFFFFF;\n",
              "    }\n",
              "  </style>\n",
              "\n",
              "      <script>\n",
              "        const buttonEl =\n",
              "          document.querySelector('#df-2ca9761e-fa4e-4903-adc8-62fa82541cba button.colab-df-convert');\n",
              "        buttonEl.style.display =\n",
              "          google.colab.kernel.accessAllowed ? 'block' : 'none';\n",
              "\n",
              "        async function convertToInteractive(key) {\n",
              "          const element = document.querySelector('#df-2ca9761e-fa4e-4903-adc8-62fa82541cba');\n",
              "          const dataTable =\n",
              "            await google.colab.kernel.invokeFunction('convertToInteractive',\n",
              "                                                     [key], {});\n",
              "          if (!dataTable) return;\n",
              "\n",
              "          const docLinkHtml = 'Like what you see? Visit the ' +\n",
              "            '<a target=\"_blank\" href=https://colab.research.google.com/notebooks/data_table.ipynb>data table notebook</a>'\n",
              "            + ' to learn more about interactive tables.';\n",
              "          element.innerHTML = '';\n",
              "          dataTable['output_type'] = 'display_data';\n",
              "          await google.colab.output.renderOutput(dataTable, element);\n",
              "          const docLink = document.createElement('div');\n",
              "          docLink.innerHTML = docLinkHtml;\n",
              "          element.appendChild(docLink);\n",
              "        }\n",
              "      </script>\n",
              "    </div>\n",
              "  </div>\n",
              "  "
            ]
          },
          "metadata": {},
          "execution_count": 6
        }
      ],
      "source": [
        "# Output the data frame\n",
        "df"
      ]
    },
    {
      "cell_type": "markdown",
      "id": "southwest-madagascar",
      "metadata": {
        "id": "southwest-madagascar"
      },
      "source": [
        "# Pre-process data frames\n",
        "1. Get the number of registers prior to pre-processing\n",
        "2. Drop 'NaN' entries\n",
        "3. Drop duplicates\n",
        "4. Get the final number of registers post pre-processing"
      ]
    },
    {
      "cell_type": "code",
      "execution_count": 7,
      "id": "eligible-welsh",
      "metadata": {
        "id": "eligible-welsh",
        "colab": {
          "base_uri": "https://localhost:8080/"
        },
        "outputId": "e3985e0e-2972-43fa-ef63-fb957c40d03f"
      },
      "outputs": [
        {
          "output_type": "stream",
          "name": "stdout",
          "text": [
            "Number of registers prior pre-processing (7909, 8)\n",
            "Number of registers post pre-processing (7909, 8)\n"
          ]
        }
      ],
      "source": [
        "# Get the number of registers\n",
        "n_registers_prior_preprocessing = df.shape\n",
        "# Drop 'NaN' entries\n",
        "df = df.dropna()\n",
        "# Drop duplicates\n",
        "df = df.drop_duplicates()\n",
        "# Drop the column called unnamed, do the operation \"inplace\", that means in the same DataFrame, and remove the \"axis=1\", that means the column, not the row\n",
        "#df.drop(\"0\", inplace = True, axis = 1)#disp = metrics.ConfusionMatrixDisplay(confusion_matrix=cm, display_labels=estimator.classes_)\n",
        "#disp.plot()\n",
        "#plt.title(\"Confusion matrix\")\n",
        "#plt.figure(figsize=(10,10))\n",
        "#plt.show()\n",
        "#df = df.reset_index()\n",
        "n_registers_post_preprocessing = df.shape\n",
        "print(f\"Number of registers prior pre-processing {n_registers_prior_preprocessing}\")\n",
        "print(f\"Number of registers post pre-processing {n_registers_post_preprocessing}\")"
      ]
    },
    {
      "cell_type": "markdown",
      "id": "fGb_6tws7RTD",
      "metadata": {
        "id": "fGb_6tws7RTD"
      },
      "source": [
        "# Get information about the dataset\n",
        "* Number of samples for each tumor class or tumor type\n",
        "\n",
        "* Tumor type\n",
        "\n",
        "  * A = Adenosis\n",
        "  * F = Fibroadenoma\n",
        "  * TA = Tubular Adenoma\n",
        "  * PT = Phyllodes Tumor\n",
        "\n",
        "  * DC = Ductal Carcicoma\n",
        "  * LC = Lobular Carcicoma\n",
        "  * MC = Mucinous Carcicoma (Colloid)\n",
        "  * PC = Papillary Carcicoma\n",
        "\n",
        "* Tumor class\n",
        "\n",
        "  * B = Benign\n",
        "  * M = Malign\n"
      ]
    },
    {
      "cell_type": "code",
      "execution_count": 8,
      "id": "qLM_zlf-_k8u",
      "metadata": {
        "id": "qLM_zlf-_k8u",
        "colab": {
          "base_uri": "https://localhost:8080/"
        },
        "outputId": "301c2495-af76-4aa8-bc5b-37decb750ea9"
      },
      "outputs": [
        {
          "output_type": "stream",
          "name": "stdout",
          "text": [
            "Full dataset: Number of instances for each tumor type\n",
            "DC    3451\n",
            "F     1014\n",
            "MC     792\n",
            "LC     626\n",
            "TA     569\n",
            "PC     560\n",
            "PT     453\n",
            "A      444\n",
            "Name: tumor_type, dtype: int64\n",
            "\n",
            "Full dataset: Number of instances for each tumor class\n",
            "M    5429\n",
            "B    2480\n",
            "Name: tumor_class, dtype: int64\n",
            "\n",
            "\n",
            "40x dataset: describe()\n",
            "count     1995\n",
            "unique       8\n",
            "top         DC\n",
            "freq       864\n",
            "Name: tumor_type, dtype: object\n",
            "\n",
            "40x dataset: Number of instances for each tumor type\n",
            "DC    864\n",
            "F     253\n",
            "MC    205\n",
            "LC    156\n",
            "TA    149\n",
            "PC    145\n",
            "A     114\n",
            "PT    109\n",
            "Name: tumor_type, dtype: int64\n",
            "\n",
            "40x dataset: Number of instances for each tumor class\n",
            "M    1370\n",
            "B     625\n",
            "Name: tumor_class, dtype: int64\n",
            "\n",
            "\n",
            "100x dataset: describe()\n",
            "count     2081\n",
            "unique       8\n",
            "top         DC\n",
            "freq       903\n",
            "Name: tumor_type, dtype: object\n",
            "\n",
            "100x dataset: Number of instances for each tumor type\n",
            "DC    903\n",
            "F     260\n",
            "MC    222\n",
            "LC    170\n",
            "TA    150\n",
            "PC    142\n",
            "PT    121\n",
            "A     113\n",
            "Name: tumor_type, dtype: int64\n",
            "\n",
            "100x dataset: Number of instances for each tumor class\n",
            "M    1437\n",
            "B     644\n",
            "Name: tumor_class, dtype: int64\n",
            "\n",
            "\n",
            "200x dataset: describe()\n",
            "count     2013\n",
            "unique       8\n",
            "top         DC\n",
            "freq       896\n",
            "Name: tumor_type, dtype: object\n",
            "\n",
            "200x dataset: Number of instances for each tumor type\n",
            "DC    896\n",
            "F     264\n",
            "MC    196\n",
            "LC    163\n",
            "TA    140\n",
            "PC    135\n",
            "A     111\n",
            "PT    108\n",
            "Name: tumor_type, dtype: int64\n",
            "\n",
            "200x dataset: Number of instances for each tumor class\n",
            "M    1390\n",
            "B     623\n",
            "Name: tumor_class, dtype: int64\n",
            "\n",
            "\n",
            "400x dataset: describe()\n",
            "count     1820\n",
            "unique       8\n",
            "top         DC\n",
            "freq       788\n",
            "Name: tumor_type, dtype: object\n",
            "\n",
            "400x dataset: Number of instances for each tumor type\n",
            "DC    788\n",
            "F     237\n",
            "MC    169\n",
            "PC    138\n",
            "LC    137\n",
            "TA    130\n",
            "PT    115\n",
            "A     106\n",
            "Name: tumor_type, dtype: int64\n",
            "\n",
            "400x dataset: Number of instances for each tumor class\n",
            "M    1232\n",
            "B     588\n",
            "Name: tumor_class, dtype: int64\n"
          ]
        }
      ],
      "source": [
        "# Count the number of instances of each tumor type\n",
        "print(\"Full dataset: Number of instances for each tumor type\")\n",
        "print(df['tumor_type'].value_counts())\n",
        "\n",
        "# Count the number of instances of each tumor class\n",
        "print(\"\\nFull dataset: Number of instances for each tumor class\")\n",
        "print(df['tumor_class'].value_counts())\n",
        "\n",
        "# Create groups based on magnification\n",
        "groups_by_magnification = df.groupby('magnification')\n",
        "\n",
        "# Get the groups by magnification\n",
        "group_40x = groups_by_magnification.get_group(40)\n",
        "group_100x = groups_by_magnification.get_group(100)\n",
        "group_200x = groups_by_magnification.get_group(200)\n",
        "group_400x = groups_by_magnification.get_group(400)\n",
        "\n",
        "# Describe the sub-dataset\n",
        "print(\"\\n\\n40x dataset: describe()\")\n",
        "print(group_40x['tumor_type'].describe())\n",
        "# Get the number of instances of each tumor type for this magnification\n",
        "print(\"\\n40x dataset: Number of instances for each tumor type\")\n",
        "print(group_40x['tumor_type'].value_counts())\n",
        "# Get the number of instances of each tumor class for this magnification\n",
        "print(\"\\n40x dataset: Number of instances for each tumor class\")\n",
        "print(group_40x['tumor_class'].value_counts())\n",
        "\n",
        "# Describe the sub-dataset\n",
        "print(\"\\n\\n100x dataset: describe()\")\n",
        "print(group_100x['tumor_type'].describe())\n",
        "# Get the number of instances of each tumor type for this magnification\n",
        "print(\"\\n100x dataset: Number of instances for each tumor type\")\n",
        "print(group_100x['tumor_type'].value_counts())\n",
        "# Get the number of instances of each tumor class for this magnification\n",
        "print(\"\\n100x dataset: Number of instances for each tumor class\")\n",
        "print(group_100x['tumor_class'].value_counts())\n",
        "\n",
        "# Describe the sub-dataset\n",
        "print(\"\\n\\n200x dataset: describe()\")\n",
        "print(group_200x['tumor_type'].describe())\n",
        "# Get the number of instances of each tumor type for this magnification\n",
        "print(\"\\n200x dataset: Number of instances for each tumor type\")\n",
        "print(group_200x['tumor_type'].value_counts())\n",
        "# Get the number of instances of each tumor class for this magnification\n",
        "print(\"\\n200x dataset: Number of instances for each tumor class\")\n",
        "print(group_200x['tumor_class'].value_counts())\n",
        "\n",
        "# Describe the sub-dataset\n",
        "print(\"\\n\\n400x dataset: describe()\")\n",
        "print(group_400x['tumor_type'].describe())\n",
        "# Get the number of instances of each tumor type for this magnification\n",
        "print(\"\\n400x dataset: Number of instances for each tumor type\")\n",
        "print(group_400x['tumor_type'].value_counts())\n",
        "# Get the number of instances of each tumor class for this magnification\n",
        "print(\"\\n400x dataset: Number of instances for each tumor class\")\n",
        "print(group_400x['tumor_class'].value_counts())"
      ]
    },
    {
      "cell_type": "markdown",
      "id": "original-diameter",
      "metadata": {
        "id": "original-diameter"
      },
      "source": [
        "# Plot data as it is!!!"
      ]
    },
    {
      "cell_type": "markdown",
      "id": "14ed567c",
      "metadata": {
        "id": "14ed567c"
      },
      "source": [
        "## Print the name of the columns"
      ]
    },
    {
      "cell_type": "code",
      "execution_count": null,
      "id": "appreciated-welding",
      "metadata": {
        "id": "appreciated-welding"
      },
      "outputs": [],
      "source": [
        "print(df.columns)"
      ]
    },
    {
      "cell_type": "markdown",
      "id": "39759490",
      "metadata": {
        "id": "39759490"
      },
      "source": [
        "## Plot Image vs fd_canny_100_200"
      ]
    },
    {
      "cell_type": "code",
      "execution_count": null,
      "id": "remarkable-affect",
      "metadata": {
        "id": "remarkable-affect",
        "scrolled": true
      },
      "outputs": [],
      "source": [
        "ax1 = df.plot.scatter(x='index', y='fd_canny_100_200')"
      ]
    },
    {
      "cell_type": "markdown",
      "id": "b15e52d5",
      "metadata": {
        "id": "b15e52d5"
      },
      "source": [
        "## Plot Image vs fd_canny_150_250_as5"
      ]
    },
    {
      "cell_type": "code",
      "execution_count": null,
      "id": "a61bd338",
      "metadata": {
        "id": "a61bd338"
      },
      "outputs": [],
      "source": [
        "ax2 = df.plot.scatter(x='index', y='fd_canny_150_250_as5')"
      ]
    },
    {
      "cell_type": "markdown",
      "id": "aff7b193",
      "metadata": {
        "id": "aff7b193"
      },
      "source": [
        "## Plot fd_canny_100_200 vs fd_canny_150_250_as5"
      ]
    },
    {
      "cell_type": "code",
      "execution_count": null,
      "id": "2ae78b83",
      "metadata": {
        "id": "2ae78b83"
      },
      "outputs": [],
      "source": [
        "ax3 = df.plot.scatter(x='fd_canny_100_200', y='fd_canny_150_250_as5')\n",
        "#df.plot.scatter(x='index',y='magnification')"
      ]
    },
    {
      "cell_type": "markdown",
      "id": "copyrighted-transaction",
      "metadata": {
        "id": "copyrighted-transaction"
      },
      "source": [
        "# Strategy to create the new data frame\n",
        "\n",
        "1.   Extract the slide ID/patient ID and add it into the data frame\n",
        "2.   Split observations based on patients IDs/slides IDs\n",
        "3.   Split the patients sub-groups per magninfication\n",
        "4.   Create as many combinations as possible (memory constraints) by taking one element of each magnification sub-group\n",
        "5.   For each combination assign a tumor type and tumor class based on the patient IDs/slides IDs labels"
      ]
    },
    {
      "cell_type": "markdown",
      "id": "0e9e28c7",
      "metadata": {
        "id": "0e9e28c7"
      },
      "source": [
        "## Extract the slide ID/patient ID from the image name and add it as a new column to the data set"
      ]
    },
    {
      "cell_type": "code",
      "execution_count": 9,
      "id": "dwZMxPqcPVIk",
      "metadata": {
        "id": "dwZMxPqcPVIk",
        "colab": {
          "base_uri": "https://localhost:8080/",
          "height": 424
        },
        "outputId": "a5f4b2b4-3aea-45d4-8273-bbb556bb6b08"
      },
      "outputs": [
        {
          "output_type": "execute_result",
          "data": {
            "text/plain": [
              "      index                                               path  \\\n",
              "0         0  ./BreaKHis_v1/histology_slides/breast/malignan...   \n",
              "1         1  ./BreaKHis_v1/histology_slides/breast/malignan...   \n",
              "2         2  ./BreaKHis_v1/histology_slides/breast/malignan...   \n",
              "3         3  ./BreaKHis_v1/histology_slides/breast/malignan...   \n",
              "4         4  ./BreaKHis_v1/histology_slides/breast/malignan...   \n",
              "...     ...                                                ...   \n",
              "7904   7904  ./BreaKHis_v1/histology_slides/breast/benign/S...   \n",
              "7905   7905  ./BreaKHis_v1/histology_slides/breast/benign/S...   \n",
              "7906   7906  ./BreaKHis_v1/histology_slides/breast/benign/S...   \n",
              "7907   7907  ./BreaKHis_v1/histology_slides/breast/benign/S...   \n",
              "7908   7908  ./BreaKHis_v1/histology_slides/breast/benign/S...   \n",
              "\n",
              "                           image_name  magnification  fd_canny_100_200  \\\n",
              "0      SOB_M_MC-14-13418DE-40-010.png             40          1.199419   \n",
              "1      SOB_M_MC-14-13418DE-40-012.png             40          1.164002   \n",
              "2     SOB_M_MC-14-13418DE-400-011.png            400          1.097742   \n",
              "3     SOB_M_MC-14-13418DE-400-005.png            400          1.069848   \n",
              "4     SOB_M_MC-14-13418DE-200-008.png            200          1.040156   \n",
              "...                               ...            ...               ...   \n",
              "7904    SOB_B_TA-14-16184-200-025.png            200          1.004378   \n",
              "7905    SOB_B_TA-14-16184-100-024.png            100          1.038602   \n",
              "7906    SOB_B_TA-14-16184-100-015.png            100          1.046032   \n",
              "7907    SOB_B_TA-14-16184-100-030.png            100          1.043061   \n",
              "7908    SOB_B_TA-14-16184-100-028.png            100          1.027624   \n",
              "\n",
              "      fd_canny_150_250_as5 tumor_class tumor_type slide_id  \n",
              "0                 1.292474           M         MC  13418DE  \n",
              "1                 1.253220           M         MC  13418DE  \n",
              "2                 1.145330           M         MC  13418DE  \n",
              "3                 1.119671           M         MC  13418DE  \n",
              "4                 1.088144           M         MC  13418DE  \n",
              "...                    ...         ...        ...      ...  \n",
              "7904              1.074530           B         TA    16184  \n",
              "7905              1.091838           B         TA    16184  \n",
              "7906              1.095969           B         TA    16184  \n",
              "7907              1.104366           B         TA    16184  \n",
              "7908              1.080088           B         TA    16184  \n",
              "\n",
              "[7909 rows x 9 columns]"
            ],
            "text/html": [
              "\n",
              "  <div id=\"df-e8a3b8f4-9bb4-40d3-982d-777973650359\">\n",
              "    <div class=\"colab-df-container\">\n",
              "      <div>\n",
              "<style scoped>\n",
              "    .dataframe tbody tr th:only-of-type {\n",
              "        vertical-align: middle;\n",
              "    }\n",
              "\n",
              "    .dataframe tbody tr th {\n",
              "        vertical-align: top;\n",
              "    }\n",
              "\n",
              "    .dataframe thead th {\n",
              "        text-align: right;\n",
              "    }\n",
              "</style>\n",
              "<table border=\"1\" class=\"dataframe\">\n",
              "  <thead>\n",
              "    <tr style=\"text-align: right;\">\n",
              "      <th></th>\n",
              "      <th>index</th>\n",
              "      <th>path</th>\n",
              "      <th>image_name</th>\n",
              "      <th>magnification</th>\n",
              "      <th>fd_canny_100_200</th>\n",
              "      <th>fd_canny_150_250_as5</th>\n",
              "      <th>tumor_class</th>\n",
              "      <th>tumor_type</th>\n",
              "      <th>slide_id</th>\n",
              "    </tr>\n",
              "  </thead>\n",
              "  <tbody>\n",
              "    <tr>\n",
              "      <th>0</th>\n",
              "      <td>0</td>\n",
              "      <td>./BreaKHis_v1/histology_slides/breast/malignan...</td>\n",
              "      <td>SOB_M_MC-14-13418DE-40-010.png</td>\n",
              "      <td>40</td>\n",
              "      <td>1.199419</td>\n",
              "      <td>1.292474</td>\n",
              "      <td>M</td>\n",
              "      <td>MC</td>\n",
              "      <td>13418DE</td>\n",
              "    </tr>\n",
              "    <tr>\n",
              "      <th>1</th>\n",
              "      <td>1</td>\n",
              "      <td>./BreaKHis_v1/histology_slides/breast/malignan...</td>\n",
              "      <td>SOB_M_MC-14-13418DE-40-012.png</td>\n",
              "      <td>40</td>\n",
              "      <td>1.164002</td>\n",
              "      <td>1.253220</td>\n",
              "      <td>M</td>\n",
              "      <td>MC</td>\n",
              "      <td>13418DE</td>\n",
              "    </tr>\n",
              "    <tr>\n",
              "      <th>2</th>\n",
              "      <td>2</td>\n",
              "      <td>./BreaKHis_v1/histology_slides/breast/malignan...</td>\n",
              "      <td>SOB_M_MC-14-13418DE-400-011.png</td>\n",
              "      <td>400</td>\n",
              "      <td>1.097742</td>\n",
              "      <td>1.145330</td>\n",
              "      <td>M</td>\n",
              "      <td>MC</td>\n",
              "      <td>13418DE</td>\n",
              "    </tr>\n",
              "    <tr>\n",
              "      <th>3</th>\n",
              "      <td>3</td>\n",
              "      <td>./BreaKHis_v1/histology_slides/breast/malignan...</td>\n",
              "      <td>SOB_M_MC-14-13418DE-400-005.png</td>\n",
              "      <td>400</td>\n",
              "      <td>1.069848</td>\n",
              "      <td>1.119671</td>\n",
              "      <td>M</td>\n",
              "      <td>MC</td>\n",
              "      <td>13418DE</td>\n",
              "    </tr>\n",
              "    <tr>\n",
              "      <th>4</th>\n",
              "      <td>4</td>\n",
              "      <td>./BreaKHis_v1/histology_slides/breast/malignan...</td>\n",
              "      <td>SOB_M_MC-14-13418DE-200-008.png</td>\n",
              "      <td>200</td>\n",
              "      <td>1.040156</td>\n",
              "      <td>1.088144</td>\n",
              "      <td>M</td>\n",
              "      <td>MC</td>\n",
              "      <td>13418DE</td>\n",
              "    </tr>\n",
              "    <tr>\n",
              "      <th>...</th>\n",
              "      <td>...</td>\n",
              "      <td>...</td>\n",
              "      <td>...</td>\n",
              "      <td>...</td>\n",
              "      <td>...</td>\n",
              "      <td>...</td>\n",
              "      <td>...</td>\n",
              "      <td>...</td>\n",
              "      <td>...</td>\n",
              "    </tr>\n",
              "    <tr>\n",
              "      <th>7904</th>\n",
              "      <td>7904</td>\n",
              "      <td>./BreaKHis_v1/histology_slides/breast/benign/S...</td>\n",
              "      <td>SOB_B_TA-14-16184-200-025.png</td>\n",
              "      <td>200</td>\n",
              "      <td>1.004378</td>\n",
              "      <td>1.074530</td>\n",
              "      <td>B</td>\n",
              "      <td>TA</td>\n",
              "      <td>16184</td>\n",
              "    </tr>\n",
              "    <tr>\n",
              "      <th>7905</th>\n",
              "      <td>7905</td>\n",
              "      <td>./BreaKHis_v1/histology_slides/breast/benign/S...</td>\n",
              "      <td>SOB_B_TA-14-16184-100-024.png</td>\n",
              "      <td>100</td>\n",
              "      <td>1.038602</td>\n",
              "      <td>1.091838</td>\n",
              "      <td>B</td>\n",
              "      <td>TA</td>\n",
              "      <td>16184</td>\n",
              "    </tr>\n",
              "    <tr>\n",
              "      <th>7906</th>\n",
              "      <td>7906</td>\n",
              "      <td>./BreaKHis_v1/histology_slides/breast/benign/S...</td>\n",
              "      <td>SOB_B_TA-14-16184-100-015.png</td>\n",
              "      <td>100</td>\n",
              "      <td>1.046032</td>\n",
              "      <td>1.095969</td>\n",
              "      <td>B</td>\n",
              "      <td>TA</td>\n",
              "      <td>16184</td>\n",
              "    </tr>\n",
              "    <tr>\n",
              "      <th>7907</th>\n",
              "      <td>7907</td>\n",
              "      <td>./BreaKHis_v1/histology_slides/breast/benign/S...</td>\n",
              "      <td>SOB_B_TA-14-16184-100-030.png</td>\n",
              "      <td>100</td>\n",
              "      <td>1.043061</td>\n",
              "      <td>1.104366</td>\n",
              "      <td>B</td>\n",
              "      <td>TA</td>\n",
              "      <td>16184</td>\n",
              "    </tr>\n",
              "    <tr>\n",
              "      <th>7908</th>\n",
              "      <td>7908</td>\n",
              "      <td>./BreaKHis_v1/histology_slides/breast/benign/S...</td>\n",
              "      <td>SOB_B_TA-14-16184-100-028.png</td>\n",
              "      <td>100</td>\n",
              "      <td>1.027624</td>\n",
              "      <td>1.080088</td>\n",
              "      <td>B</td>\n",
              "      <td>TA</td>\n",
              "      <td>16184</td>\n",
              "    </tr>\n",
              "  </tbody>\n",
              "</table>\n",
              "<p>7909 rows × 9 columns</p>\n",
              "</div>\n",
              "      <button class=\"colab-df-convert\" onclick=\"convertToInteractive('df-e8a3b8f4-9bb4-40d3-982d-777973650359')\"\n",
              "              title=\"Convert this dataframe to an interactive table.\"\n",
              "              style=\"display:none;\">\n",
              "        \n",
              "  <svg xmlns=\"http://www.w3.org/2000/svg\" height=\"24px\"viewBox=\"0 0 24 24\"\n",
              "       width=\"24px\">\n",
              "    <path d=\"M0 0h24v24H0V0z\" fill=\"none\"/>\n",
              "    <path d=\"M18.56 5.44l.94 2.06.94-2.06 2.06-.94-2.06-.94-.94-2.06-.94 2.06-2.06.94zm-11 1L8.5 8.5l.94-2.06 2.06-.94-2.06-.94L8.5 2.5l-.94 2.06-2.06.94zm10 10l.94 2.06.94-2.06 2.06-.94-2.06-.94-.94-2.06-.94 2.06-2.06.94z\"/><path d=\"M17.41 7.96l-1.37-1.37c-.4-.4-.92-.59-1.43-.59-.52 0-1.04.2-1.43.59L10.3 9.45l-7.72 7.72c-.78.78-.78 2.05 0 2.83L4 21.41c.39.39.9.59 1.41.59.51 0 1.02-.2 1.41-.59l7.78-7.78 2.81-2.81c.8-.78.8-2.07 0-2.86zM5.41 20L4 18.59l7.72-7.72 1.47 1.35L5.41 20z\"/>\n",
              "  </svg>\n",
              "      </button>\n",
              "      \n",
              "  <style>\n",
              "    .colab-df-container {\n",
              "      display:flex;\n",
              "      flex-wrap:wrap;\n",
              "      gap: 12px;\n",
              "    }\n",
              "\n",
              "    .colab-df-convert {\n",
              "      background-color: #E8F0FE;\n",
              "      border: none;\n",
              "      border-radius: 50%;\n",
              "      cursor: pointer;\n",
              "      display: none;\n",
              "      fill: #1967D2;\n",
              "      height: 32px;\n",
              "      padding: 0 0 0 0;\n",
              "      width: 32px;\n",
              "    }\n",
              "\n",
              "    .colab-df-convert:hover {\n",
              "      background-color: #E2EBFA;\n",
              "      box-shadow: 0px 1px 2px rgba(60, 64, 67, 0.3), 0px 1px 3px 1px rgba(60, 64, 67, 0.15);\n",
              "      fill: #174EA6;\n",
              "    }\n",
              "\n",
              "    [theme=dark] .colab-df-convert {\n",
              "      background-color: #3B4455;\n",
              "      fill: #D2E3FC;\n",
              "    }\n",
              "\n",
              "    [theme=dark] .colab-df-convert:hover {\n",
              "      background-color: #434B5C;\n",
              "      box-shadow: 0px 1px 3px 1px rgba(0, 0, 0, 0.15);\n",
              "      filter: drop-shadow(0px 1px 2px rgba(0, 0, 0, 0.3));\n",
              "      fill: #FFFFFF;\n",
              "    }\n",
              "  </style>\n",
              "\n",
              "      <script>\n",
              "        const buttonEl =\n",
              "          document.querySelector('#df-e8a3b8f4-9bb4-40d3-982d-777973650359 button.colab-df-convert');\n",
              "        buttonEl.style.display =\n",
              "          google.colab.kernel.accessAllowed ? 'block' : 'none';\n",
              "\n",
              "        async function convertToInteractive(key) {\n",
              "          const element = document.querySelector('#df-e8a3b8f4-9bb4-40d3-982d-777973650359');\n",
              "          const dataTable =\n",
              "            await google.colab.kernel.invokeFunction('convertToInteractive',\n",
              "                                                     [key], {});\n",
              "          if (!dataTable) return;\n",
              "\n",
              "          const docLinkHtml = 'Like what you see? Visit the ' +\n",
              "            '<a target=\"_blank\" href=https://colab.research.google.com/notebooks/data_table.ipynb>data table notebook</a>'\n",
              "            + ' to learn more about interactive tables.';\n",
              "          element.innerHTML = '';\n",
              "          dataTable['output_type'] = 'display_data';\n",
              "          await google.colab.output.renderOutput(dataTable, element);\n",
              "          const docLink = document.createElement('div');\n",
              "          docLink.innerHTML = docLinkHtml;\n",
              "          element.appendChild(docLink);\n",
              "        }\n",
              "      </script>\n",
              "    </div>\n",
              "  </div>\n",
              "  "
            ]
          },
          "metadata": {},
          "execution_count": 9
        }
      ],
      "source": [
        "# Get the image name column into a numpy array\n",
        "names_array = df['image_name'].to_numpy()\n",
        "# Get the number of elements in the column\n",
        "n_names = len(names_array)\n",
        "# Create an empty list\n",
        "list_slide_ids = []#np.empty(n_names)\n",
        "#list_figure_number = []#np.empty(n_names)\n",
        "\n",
        "# Loop over all images\n",
        "for i in range(n_names):\n",
        "\n",
        "  # Get the full name of the image\n",
        "  image_name = names_array[i]\n",
        "\n",
        "  # Split the name by '-'\n",
        "  image_features = image_name.split(\"-\")\n",
        "\n",
        "  # Append the element at position 2 (which is the slide id)\n",
        "  list_slide_ids.append(image_features[2])\n",
        "\n",
        "  # Get the element at position 4 which is the figure number with the image extension [png], then get only the number and forget about the extension\n",
        "  #list_figure_number.append(image_features[4].split(\".\")[0])\n",
        "\n",
        "  #print(\"Names: %s %s\" % (list_slide_ids[i], list_figure_number[i]))\n",
        "\n",
        "# Add the column to the data frame\n",
        "df['slide_id'] = list_slide_ids\n",
        "#df['figure_number'] = list_figure_number\n",
        "\n",
        "# Show the data frame\n",
        "df"
      ]
    },
    {
      "cell_type": "markdown",
      "id": "_rH2Z4jElLLI",
      "metadata": {
        "id": "_rH2Z4jElLLI"
      },
      "source": [
        "## Drop columns and create a new data frame from groups\n",
        "\n",
        "1. Drop 'path' and 'image_name' columns\n",
        "2. Create groups by slide ids, then create subgroups by magnification and combine data into a single observation\n",
        "\n",
        " * Each row or observation in the data frame has the following structure\n",
        "\n",
        "    * Canny feature for 40x - 01\n",
        "    * Canny feature for 40x - 02\n",
        "    * Canny feature for 100x - 01\n",
        "    * Canny feature for 100x - 02\n",
        "    * Canny feature for 200x - 01\n",
        "    * Canny feature for 200x - 02\n",
        "    * Canny feature for 400x - 01\n",
        "    * Canny feature for 400x - 02\n",
        "    * Tumor class\n",
        "    * Tumor type\n",
        "\n",
        "  The variable 'n_max_ele_per_group' constraint the number of images to take for each magnification group. This is used due to memory constraints."
      ]
    },
    {
      "cell_type": "code",
      "execution_count": 10,
      "id": "0ck---9FWa5t",
      "metadata": {
        "id": "0ck---9FWa5t",
        "colab": {
          "base_uri": "https://localhost:8080/"
        },
        "outputId": "6dc57122-c32b-4f4b-ace6-e36fe3fe32dd"
      },
      "outputs": [
        {
          "output_type": "stream",
          "name": "stdout",
          "text": [
            "Slide id: 10147\n",
            "Patient number: 0\n",
            "Number of images per 40x 15\n",
            "Number of images per 100x 12\n",
            "Number of images per 200x 22\n",
            "Number of images per 400x 15\n",
            "Slide id: 10926\n",
            "Patient number: 1\n",
            "Number of images per 40x 11\n",
            "Number of images per 100x 10\n",
            "Number of images per 200x 9\n",
            "Number of images per 400x 9\n",
            "Slide id: 11031\n",
            "Patient number: 2\n",
            "Number of images per 40x 14\n",
            "Number of images per 100x 17\n",
            "Number of images per 200x 14\n",
            "Number of images per 400x 15\n",
            "Slide id: 11520\n",
            "Patient number: 3\n",
            "Number of images per 40x 25\n",
            "Number of images per 100x 26\n",
            "Number of images per 200x 24\n",
            "Number of images per 400x 23\n",
            "Slide id: 11951\n",
            "Patient number: 4\n",
            "Number of images per 40x 27\n",
            "Number of images per 100x 25\n",
            "Number of images per 200x 28\n",
            "Number of images per 400x 20\n",
            "Slide id: 12204\n",
            "Patient number: 5\n",
            "Number of images per 40x 20\n",
            "Number of images per 100x 31\n",
            "Number of images per 200x 28\n",
            "Number of images per 400x 24\n",
            "Slide id: 12312\n",
            "Patient number: 6\n",
            "Number of images per 40x 32\n",
            "Number of images per 100x 41\n",
            "Number of images per 200x 35\n",
            "Number of images per 400x 38\n",
            "Slide id: 12465\n",
            "Patient number: 7\n",
            "Number of images per 40x 21\n",
            "Number of images per 100x 21\n",
            "Number of images per 200x 19\n",
            "Number of images per 400x 13\n",
            "Slide id: 12773\n",
            "Patient number: 8\n",
            "Number of images per 40x 26\n",
            "Number of images per 100x 25\n",
            "Number of images per 200x 21\n",
            "Number of images per 400x 18\n",
            "Slide id: 13200\n",
            "Patient number: 9\n",
            "Number of images per 40x 15\n",
            "Number of images per 100x 14\n",
            "Number of images per 200x 21\n",
            "Number of images per 400x 15\n",
            "Slide id: 13412\n",
            "Patient number: 10\n",
            "Number of images per 40x 64\n",
            "Number of images per 100x 66\n",
            "Number of images per 200x 64\n",
            "Number of images per 400x 52\n",
            "Slide id: 13413\n",
            "Patient number: 11\n",
            "Number of images per 40x 29\n",
            "Number of images per 100x 41\n",
            "Number of images per 200x 23\n",
            "Number of images per 400x 26\n",
            "Slide id: 13418DE\n",
            "Patient number: 12\n",
            "Number of images per 40x 15\n",
            "Number of images per 100x 15\n",
            "Number of images per 200x 14\n",
            "Number of images per 400x 11\n",
            "Slide id: 13993\n",
            "Patient number: 13\n",
            "Number of images per 40x 37\n",
            "Number of images per 100x 42\n",
            "Number of images per 200x 34\n",
            "Number of images per 400x 32\n",
            "Slide id: 14015\n",
            "Patient number: 14\n",
            "Number of images per 40x 18\n",
            "Number of images per 100x 27\n",
            "Number of images per 200x 30\n",
            "Number of images per 400x 20\n",
            "Slide id: 14134\n",
            "Patient number: 15\n",
            "Number of images per 40x 36\n",
            "Number of images per 100x 31\n",
            "Number of images per 200x 38\n",
            "Number of images per 400x 37\n",
            "Slide id: 14134E\n",
            "Patient number: 16\n",
            "Number of images per 40x 29\n",
            "Number of images per 100x 32\n",
            "Number of images per 200x 21\n",
            "Number of images per 400x 12\n",
            "Slide id: 14926\n",
            "Patient number: 17\n",
            "Number of images per 40x 20\n",
            "Number of images per 100x 19\n",
            "Number of images per 200x 18\n",
            "Number of images per 400x 16\n",
            "Slide id: 14946\n",
            "Patient number: 18\n",
            "Number of images per 40x 31\n",
            "Number of images per 100x 32\n",
            "Number of images per 200x 34\n",
            "Number of images per 400x 34\n",
            "Slide id: 15275\n",
            "Patient number: 19\n",
            "Number of images per 40x 12\n",
            "Number of images per 100x 14\n",
            "Number of images per 200x 12\n",
            "Number of images per 400x 15\n",
            "Slide id: 15570\n",
            "Patient number: 20\n",
            "Number of images per 40x 51\n",
            "Number of images per 100x 54\n",
            "Number of images per 200x 55\n",
            "Number of images per 400x 41\n",
            "Slide id: 15570C\n",
            "Patient number: 21\n",
            "Number of images per 40x 31\n",
            "Number of images per 100x 35\n",
            "Number of images per 200x 30\n",
            "Number of images per 400x 29\n",
            "Slide id: 15572\n",
            "Patient number: 22\n",
            "Number of images per 40x 23\n",
            "Number of images per 100x 23\n",
            "Number of images per 200x 19\n",
            "Number of images per 400x 15\n",
            "Slide id: 15687B\n",
            "Patient number: 23\n",
            "Number of images per 40x 17\n",
            "Number of images per 100x 16\n",
            "Number of images per 200x 14\n",
            "Number of images per 400x 15\n",
            "Slide id: 15696\n",
            "Patient number: 24\n",
            "Number of images per 40x 23\n",
            "Number of images per 100x 23\n",
            "Number of images per 200x 22\n",
            "Number of images per 400x 15\n",
            "Slide id: 15704\n",
            "Patient number: 25\n",
            "Number of images per 40x 30\n",
            "Number of images per 100x 29\n",
            "Number of images per 200x 33\n",
            "Number of images per 400x 35\n",
            "Slide id: 15792\n",
            "Patient number: 26\n",
            "Number of images per 40x 14\n",
            "Number of images per 100x 14\n",
            "Number of images per 200x 12\n",
            "Number of images per 400x 15\n",
            "Slide id: 16184\n",
            "Patient number: 27\n",
            "Number of images per 40x 39\n",
            "Number of images per 100x 34\n",
            "Number of images per 200x 35\n",
            "Number of images per 400x 24\n",
            "Slide id: 16184CD\n",
            "Patient number: 28\n",
            "Number of images per 40x 35\n",
            "Number of images per 100x 37\n",
            "Number of images per 200x 23\n",
            "Number of images per 400x 29\n",
            "Slide id: 16188\n",
            "Patient number: 29\n",
            "Number of images per 40x 24\n",
            "Number of images per 100x 19\n",
            "Number of images per 200x 21\n",
            "Number of images per 400x 23\n",
            "Slide id: 16196\n",
            "Patient number: 30\n",
            "Number of images per 40x 22\n",
            "Number of images per 100x 17\n",
            "Number of images per 200x 18\n",
            "Number of images per 400x 17\n",
            "Slide id: 16336\n",
            "Patient number: 31\n",
            "Number of images per 40x 13\n",
            "Number of images per 100x 19\n",
            "Number of images per 200x 19\n",
            "Number of images per 400x 9\n",
            "Slide id: 16448\n",
            "Patient number: 32\n",
            "Number of images per 40x 11\n",
            "Number of images per 100x 14\n",
            "Number of images per 200x 13\n",
            "Number of images per 400x 15\n",
            "Slide id: 16456\n",
            "Patient number: 33\n",
            "Number of images per 40x 46\n",
            "Number of images per 100x 50\n",
            "Number of images per 200x 47\n",
            "Number of images per 400x 35\n",
            "Slide id: 16601\n",
            "Patient number: 34\n",
            "Number of images per 40x 12\n",
            "Number of images per 100x 10\n",
            "Number of images per 200x 10\n",
            "Number of images per 400x 13\n",
            "Slide id: 16716\n",
            "Patient number: 35\n",
            "Number of images per 40x 38\n",
            "Number of images per 100x 36\n",
            "Number of images per 200x 34\n",
            "Number of images per 400x 29\n",
            "Slide id: 16875\n",
            "Patient number: 36\n",
            "Number of images per 40x 14\n",
            "Number of images per 100x 22\n",
            "Number of images per 200x 17\n",
            "Number of images per 400x 8\n",
            "Slide id: 17614\n",
            "Patient number: 37\n",
            "Number of images per 40x 39\n",
            "Number of images per 100x 29\n",
            "Number of images per 200x 33\n",
            "Number of images per 400x 28\n",
            "Slide id: 17901\n",
            "Patient number: 38\n",
            "Number of images per 40x 26\n",
            "Number of images per 100x 26\n",
            "Number of images per 200x 24\n",
            "Number of images per 400x 28\n",
            "Slide id: 17915\n",
            "Patient number: 39\n",
            "Number of images per 40x 26\n",
            "Number of images per 100x 16\n",
            "Number of images per 200x 21\n",
            "Number of images per 400x 16\n",
            "Slide id: 18650\n",
            "Patient number: 40\n",
            "Number of images per 40x 29\n",
            "Number of images per 100x 22\n",
            "Number of images per 200x 28\n",
            "Number of images per 400x 29\n",
            "Slide id: 18842\n",
            "Patient number: 41\n",
            "Number of images per 40x 15\n",
            "Number of images per 100x 22\n",
            "Number of images per 200x 16\n",
            "Number of images per 400x 9\n",
            "Slide id: 18842D\n",
            "Patient number: 42\n",
            "Number of images per 40x 16\n",
            "Number of images per 100x 16\n",
            "Number of images per 200x 16\n",
            "Number of images per 400x 16\n",
            "Slide id: 190EF\n",
            "Patient number: 43\n",
            "Number of images per 40x 19\n",
            "Number of images per 100x 16\n",
            "Number of images per 200x 15\n",
            "Number of images per 400x 15\n",
            "Slide id: 19440\n",
            "Patient number: 44\n",
            "Number of images per 40x 35\n",
            "Number of images per 100x 38\n",
            "Number of images per 200x 33\n",
            "Number of images per 400x 36\n",
            "Slide id: 19854C\n",
            "Patient number: 45\n",
            "Number of images per 40x 16\n",
            "Number of images per 100x 16\n",
            "Number of images per 200x 16\n",
            "Number of images per 400x 16\n",
            "Slide id: 19979\n",
            "Patient number: 46\n",
            "Number of images per 40x 26\n",
            "Number of images per 100x 27\n",
            "Number of images per 200x 21\n",
            "Number of images per 400x 24\n",
            "Slide id: 19979C\n",
            "Patient number: 47\n",
            "Number of images per 40x 17\n",
            "Number of images per 100x 14\n",
            "Number of images per 200x 16\n",
            "Number of images per 400x 15\n",
            "Slide id: 20629\n",
            "Patient number: 48\n",
            "Number of images per 40x 36\n",
            "Number of images per 100x 33\n",
            "Number of images per 200x 32\n",
            "Number of images per 400x 24\n",
            "Slide id: 20636\n",
            "Patient number: 49\n",
            "Number of images per 40x 25\n",
            "Number of images per 100x 37\n",
            "Number of images per 200x 27\n",
            "Number of images per 400x 22\n",
            "Slide id: 21978AB\n",
            "Patient number: 50\n",
            "Number of images per 40x 16\n",
            "Number of images per 100x 18\n",
            "Number of images per 200x 17\n",
            "Number of images per 400x 14\n",
            "Slide id: 21998AB\n",
            "Patient number: 51\n",
            "Number of images per 40x 58\n",
            "Number of images per 100x 66\n",
            "Number of images per 200x 52\n",
            "Number of images per 400x 59\n",
            "Slide id: 21998CD\n",
            "Patient number: 52\n",
            "Number of images per 40x 37\n",
            "Number of images per 100x 31\n",
            "Number of images per 200x 37\n",
            "Number of images per 400x 32\n",
            "Slide id: 21998EF\n",
            "Patient number: 53\n",
            "Number of images per 40x 31\n",
            "Number of images per 100x 33\n",
            "Number of images per 200x 29\n",
            "Number of images per 400x 28\n",
            "Slide id: 22549AB\n",
            "Patient number: 54\n",
            "Number of images per 40x 29\n",
            "Number of images per 100x 30\n",
            "Number of images per 200x 32\n",
            "Number of images per 400x 30\n",
            "Slide id: 22549CD\n",
            "Patient number: 55\n",
            "Number of images per 40x 35\n",
            "Number of images per 100x 36\n",
            "Number of images per 200x 31\n",
            "Number of images per 400x 30\n",
            "Slide id: 22549G\n",
            "Patient number: 56\n",
            "Number of images per 40x 35\n",
            "Number of images per 100x 34\n",
            "Number of images per 200x 32\n",
            "Number of images per 400x 29\n",
            "Slide id: 22704\n",
            "Patient number: 57\n",
            "Number of images per 40x 38\n",
            "Number of images per 100x 39\n",
            "Number of images per 200x 42\n",
            "Number of images per 400x 39\n",
            "Slide id: 23060AB\n",
            "Patient number: 58\n",
            "Number of images per 40x 23\n",
            "Number of images per 100x 22\n",
            "Number of images per 200x 18\n",
            "Number of images per 400x 18\n",
            "Slide id: 23060CD\n",
            "Patient number: 59\n",
            "Number of images per 40x 14\n",
            "Number of images per 100x 11\n",
            "Number of images per 200x 16\n",
            "Number of images per 400x 16\n",
            "Slide id: 23222AB\n",
            "Patient number: 60\n",
            "Number of images per 40x 17\n",
            "Number of images per 100x 16\n",
            "Number of images per 200x 17\n",
            "Number of images per 400x 18\n",
            "Slide id: 25197\n",
            "Patient number: 61\n",
            "Number of images per 40x 22\n",
            "Number of images per 100x 33\n",
            "Number of images per 200x 32\n",
            "Number of images per 400x 33\n",
            "Slide id: 2523\n",
            "Patient number: 62\n",
            "Number of images per 40x 10\n",
            "Number of images per 100x 23\n",
            "Number of images per 200x 18\n",
            "Number of images per 400x 24\n",
            "Slide id: 2773\n",
            "Patient number: 63\n",
            "Number of images per 40x 30\n",
            "Number of images per 100x 41\n",
            "Number of images per 200x 35\n",
            "Number of images per 400x 38\n",
            "Slide id: 29315EF\n",
            "Patient number: 64\n",
            "Number of images per 40x 13\n",
            "Number of images per 100x 16\n",
            "Number of images per 200x 14\n",
            "Number of images per 400x 17\n",
            "Slide id: 2980\n",
            "Patient number: 65\n",
            "Number of images per 40x 20\n",
            "Number of images per 100x 25\n",
            "Number of images per 200x 21\n",
            "Number of images per 400x 18\n",
            "Slide id: 2985\n",
            "Patient number: 66\n",
            "Number of images per 40x 20\n",
            "Number of images per 100x 11\n",
            "Number of images per 200x 14\n",
            "Number of images per 400x 14\n",
            "Slide id: 29960AB\n",
            "Patient number: 67\n",
            "Number of images per 40x 18\n",
            "Number of images per 100x 15\n",
            "Number of images per 200x 18\n",
            "Number of images per 400x 17\n",
            "Slide id: 29960CD\n",
            "Patient number: 68\n",
            "Number of images per 40x 15\n",
            "Number of images per 100x 13\n",
            "Number of images per 200x 16\n",
            "Number of images per 400x 17\n",
            "Slide id: 3411F\n",
            "Patient number: 69\n",
            "Number of images per 40x 16\n",
            "Number of images per 100x 17\n",
            "Number of images per 200x 16\n",
            "Number of images per 400x 17\n",
            "Slide id: 3909\n",
            "Patient number: 70\n",
            "Number of images per 40x 26\n",
            "Number of images per 100x 26\n",
            "Number of images per 200x 29\n",
            "Number of images per 400x 14\n",
            "Slide id: 4364\n",
            "Patient number: 71\n",
            "Number of images per 40x 1\n",
            "Number of images per 100x 10\n",
            "Number of images per 200x 25\n",
            "Number of images per 400x 8\n",
            "Slide id: 4372\n",
            "Patient number: 72\n",
            "Number of images per 40x 21\n",
            "Number of images per 100x 22\n",
            "Number of images per 200x 17\n",
            "Number of images per 400x 24\n",
            "Slide id: 5287\n",
            "Patient number: 73\n",
            "Number of images per 40x 23\n",
            "Number of images per 100x 21\n",
            "Number of images per 200x 21\n",
            "Number of images per 400x 23\n",
            "Slide id: 5694\n",
            "Patient number: 74\n",
            "Number of images per 40x 22\n",
            "Number of images per 100x 21\n",
            "Number of images per 200x 21\n",
            "Number of images per 400x 26\n",
            "Slide id: 5695\n",
            "Patient number: 75\n",
            "Number of images per 40x 23\n",
            "Number of images per 100x 21\n",
            "Number of images per 200x 22\n",
            "Number of images per 400x 24\n",
            "Slide id: 6241\n",
            "Patient number: 76\n",
            "Number of images per 40x 32\n",
            "Number of images per 100x 21\n",
            "Number of images per 200x 12\n",
            "Number of images per 400x 13\n",
            "Slide id: 8168\n",
            "Patient number: 77\n",
            "Number of images per 40x 10\n",
            "Number of images per 100x 10\n",
            "Number of images per 200x 9\n",
            "Number of images per 400x 9\n",
            "Slide id: 9133\n",
            "Patient number: 78\n",
            "Number of images per 40x 26\n",
            "Number of images per 100x 36\n",
            "Number of images per 200x 38\n",
            "Number of images per 400x 26\n",
            "Slide id: 9146\n",
            "Patient number: 79\n",
            "Number of images per 40x 23\n",
            "Number of images per 100x 22\n",
            "Number of images per 200x 21\n",
            "Number of images per 400x 24\n",
            "Slide id: 9461\n",
            "Patient number: 80\n",
            "Number of images per 40x 26\n",
            "Number of images per 100x 36\n",
            "Number of images per 200x 62\n",
            "Number of images per 400x 31\n"
          ]
        }
      ],
      "source": [
        "# Rewrite this section by using the itertools package that implements the cartesian product of multiple sets\n",
        "\n",
        "# https://www.geeksforgeeks.org/python-itertools-product/\n",
        "\n",
        "# Sort the data frame by slide ids\n",
        "#sorted_df = df.sort_values('slide_id', ascending=False)\n",
        "# Drop the path of the image and the full image name\n",
        "reduced_df = df.drop(columns=['path', 'image_name'])\n",
        "# Create groups by the slide ids\n",
        "group_df = reduced_df.groupby('slide_id')\n",
        "\n",
        "# The list to store the new data (get both canny features for each magnification)\n",
        "list_magnification_40x_canny_01 = []\n",
        "list_magnification_40x_canny_02 = []\n",
        "list_magnification_100x_canny_01 = []\n",
        "list_magnification_100x_canny_02 = []\n",
        "list_magnification_200x_canny_01 = []\n",
        "list_magnification_200x_canny_02 = []\n",
        "list_magnification_400x_canny_01 = []\n",
        "list_magnification_400x_canny_02 = []\n",
        "# Also include the tumor class and the tumor type\n",
        "list_tumor_class = []\n",
        "list_tumor_type = []\n",
        "\n",
        "counter = 0\n",
        "\n",
        "# List the groups\n",
        "for slide_id, group in group_df:\n",
        "\n",
        "  print(f\"Slide id: {slide_id}\")\n",
        "  print(\"Patient number: %d\" % counter)\n",
        "  counter += 1\n",
        "\n",
        "  # Create groups based on magnification\n",
        "  sub_groups_by_magnification = group.groupby('magnification')\n",
        "\n",
        "  # Get the groups by magnification\n",
        "  group_40x = sub_groups_by_magnification.get_group(40)\n",
        "  group_100x = sub_groups_by_magnification.get_group(100)\n",
        "  group_200x = sub_groups_by_magnification.get_group(200)\n",
        "  group_400x = sub_groups_by_magnification.get_group(400)\n",
        "\n",
        "  # Get a numpy representation of the columns with the canny features\n",
        "  canny_values_01_40x = group_40x['fd_canny_100_200'].to_numpy()\n",
        "  canny_values_02_40x = group_40x['fd_canny_150_250_as5'].to_numpy()\n",
        "  canny_values_01_100x = group_100x['fd_canny_100_200'].to_numpy()\n",
        "  canny_values_02_100x = group_100x['fd_canny_150_250_as5'].to_numpy()\n",
        "  canny_values_01_200x = group_200x['fd_canny_100_200'].to_numpy()\n",
        "  canny_values_02_200x = group_200x['fd_canny_150_250_as5'].to_numpy()\n",
        "  canny_values_01_400x = group_400x['fd_canny_100_200'].to_numpy()\n",
        "  canny_values_02_400x = group_400x['fd_canny_150_250_as5'].to_numpy()\n",
        "\n",
        "  # Get a numpy representation of the columns with the tumor class and tumor type, all the tumor class and tumor type are the same\n",
        "  tumor_class_np = group_40x['tumor_class'].to_numpy()\n",
        "  tumor_type_np = group_40x['tumor_type'].to_numpy()\n",
        "\n",
        "  # Get the number of images per group\n",
        "  n_images_40x = len(canny_values_01_40x)\n",
        "  n_images_100x = len(canny_values_01_100x)\n",
        "  n_images_200x = len(canny_values_01_200x)\n",
        "  n_images_400x = len(canny_values_01_400x)\n",
        "\n",
        "  # Print the number of images per each magnification\n",
        "  print(f\"Number of images per 40x {n_images_40x}\")\n",
        "  print(f\"Number of images per 100x {n_images_100x}\")\n",
        "  print(f\"Number of images per 200x {n_images_200x}\")\n",
        "  print(f\"Number of images per 400x {n_images_400x}\")\n",
        "\n",
        "  # Set a maximum number of images to consider per group (this is due to memory limitations)\n",
        "  n_max_img_per_group = 10\n",
        "\n",
        "  # Create a new data frame with the combinations of the canny values of the images\n",
        "  # [canny_40x, canny_40x, canny_100x, canny_100x, canny_200x, canny_200x, canny_400x, canny_400x, tumor_class, tumor_type]\n",
        "  for i in range(min(n_images_40x, n_max_img_per_group)):\n",
        "    for j in range(min(n_images_100x, n_max_img_per_group)):\n",
        "      for k in range(min(n_images_200x, n_max_img_per_group)):\n",
        "        for m in range(min(n_images_400x, n_max_img_per_group)):\n",
        "\n",
        "          feature_canny_01_40x = canny_values_01_40x[i]\n",
        "          feature_canny_02_40x = canny_values_02_40x[i]\n",
        "          feature_canny_01_100x = canny_values_01_100x[j]\n",
        "          feature_canny_02_100x = canny_values_02_100x[j]\n",
        "          feature_canny_01_200x = canny_values_01_200x[k]\n",
        "          feature_canny_02_200x = canny_values_02_200x[k]\n",
        "          feature_canny_01_400x = canny_values_01_400x[m]\n",
        "          feature_canny_02_400x = canny_values_02_400x[m]\n",
        "\n",
        "          #print(f\"Slide id {name}, m40x {feature_canny_01_40x} {feature_canny_02_40x}, m100x {feature_canny_01_100x} {feature_canny_02_100x}, m200x {feature_canny_01_200x} {feature_canny_02_200x}, m400x {feature_canny_01_400x} {feature_canny_02_400x}\")\n",
        "          list_magnification_40x_canny_01.append(feature_canny_01_40x)\n",
        "          list_magnification_40x_canny_02.append(feature_canny_02_40x)\n",
        "          list_magnification_100x_canny_01.append(feature_canny_01_100x)\n",
        "          list_magnification_100x_canny_02.append(feature_canny_02_100x)\n",
        "          list_magnification_200x_canny_01.append(feature_canny_01_200x)\n",
        "          list_magnification_200x_canny_02.append(feature_canny_02_200x)\n",
        "          list_magnification_400x_canny_01.append(feature_canny_01_400x)\n",
        "          list_magnification_400x_canny_02.append(feature_canny_02_400x)\n",
        "\n",
        "          # We take the tumor type and class from the 40x image data set, it should be the same for all magnifications\n",
        "          list_tumor_class.append(tumor_class_np[i])\n",
        "          list_tumor_type.append(tumor_type_np[i])\n"
      ]
    },
    {
      "cell_type": "markdown",
      "id": "M1IE8e7Nn9bx",
      "metadata": {
        "id": "M1IE8e7Nn9bx"
      },
      "source": [
        "## Create the new data frame"
      ]
    },
    {
      "cell_type": "code",
      "execution_count": 11,
      "id": "Y_rDUlRnn6RL",
      "metadata": {
        "id": "Y_rDUlRnn6RL",
        "colab": {
          "base_uri": "https://localhost:8080/",
          "height": 488
        },
        "outputId": "c3dc9b1b-4ae0-4fe1-c672-083274c72c2d"
      },
      "outputs": [
        {
          "output_type": "execute_result",
          "data": {
            "text/plain": [
              "        canny_values_01_40x  canny_values_02_40x  canny_values_01_100x  \\\n",
              "0                  1.163549             1.245069              1.099913   \n",
              "1                  1.163549             1.245069              1.099913   \n",
              "2                  1.163549             1.245069              1.099913   \n",
              "3                  1.163549             1.245069              1.099913   \n",
              "4                  1.163549             1.245069              1.099913   \n",
              "...                     ...                  ...                   ...   \n",
              "792995             1.142506             1.222076              1.039671   \n",
              "792996             1.142506             1.222076              1.039671   \n",
              "792997             1.142506             1.222076              1.039671   \n",
              "792998             1.142506             1.222076              1.039671   \n",
              "792999             1.142506             1.222076              1.039671   \n",
              "\n",
              "        canny_values_02_100x  canny_values_01_200x  canny_values_02_200x  \\\n",
              "0                   1.176328              1.024052              1.095163   \n",
              "1                   1.176328              1.024052              1.095163   \n",
              "2                   1.176328              1.024052              1.095163   \n",
              "3                   1.176328              1.024052              1.095163   \n",
              "4                   1.176328              1.024052              1.095163   \n",
              "...                      ...                   ...                   ...   \n",
              "792995              1.100710              1.026497              1.062345   \n",
              "792996              1.100710              1.026497              1.062345   \n",
              "792997              1.100710              1.026497              1.062345   \n",
              "792998              1.100710              1.026497              1.062345   \n",
              "792999              1.100710              1.026497              1.062345   \n",
              "\n",
              "        canny_values_01_400x  canny_values_02_400x tumor_class tumor_type  \n",
              "0                   1.029744              1.075530           M         MC  \n",
              "1                   0.985013              1.020715           M         MC  \n",
              "2                   1.054150              1.099901           M         MC  \n",
              "3                   1.079761              1.128673           M         MC  \n",
              "4                   1.065704              1.130648           M         MC  \n",
              "...                      ...                   ...         ...        ...  \n",
              "792995              0.957528              0.982097           M         DC  \n",
              "792996              0.999379              1.050692           M         DC  \n",
              "792997              1.026034              1.071192           M         DC  \n",
              "792998              1.032223              1.088653           M         DC  \n",
              "792999              1.020900              1.073406           M         DC  \n",
              "\n",
              "[793000 rows x 10 columns]"
            ],
            "text/html": [
              "\n",
              "  <div id=\"df-bf9e6dae-9389-4851-93ca-2effec4a5491\">\n",
              "    <div class=\"colab-df-container\">\n",
              "      <div>\n",
              "<style scoped>\n",
              "    .dataframe tbody tr th:only-of-type {\n",
              "        vertical-align: middle;\n",
              "    }\n",
              "\n",
              "    .dataframe tbody tr th {\n",
              "        vertical-align: top;\n",
              "    }\n",
              "\n",
              "    .dataframe thead th {\n",
              "        text-align: right;\n",
              "    }\n",
              "</style>\n",
              "<table border=\"1\" class=\"dataframe\">\n",
              "  <thead>\n",
              "    <tr style=\"text-align: right;\">\n",
              "      <th></th>\n",
              "      <th>canny_values_01_40x</th>\n",
              "      <th>canny_values_02_40x</th>\n",
              "      <th>canny_values_01_100x</th>\n",
              "      <th>canny_values_02_100x</th>\n",
              "      <th>canny_values_01_200x</th>\n",
              "      <th>canny_values_02_200x</th>\n",
              "      <th>canny_values_01_400x</th>\n",
              "      <th>canny_values_02_400x</th>\n",
              "      <th>tumor_class</th>\n",
              "      <th>tumor_type</th>\n",
              "    </tr>\n",
              "  </thead>\n",
              "  <tbody>\n",
              "    <tr>\n",
              "      <th>0</th>\n",
              "      <td>1.163549</td>\n",
              "      <td>1.245069</td>\n",
              "      <td>1.099913</td>\n",
              "      <td>1.176328</td>\n",
              "      <td>1.024052</td>\n",
              "      <td>1.095163</td>\n",
              "      <td>1.029744</td>\n",
              "      <td>1.075530</td>\n",
              "      <td>M</td>\n",
              "      <td>MC</td>\n",
              "    </tr>\n",
              "    <tr>\n",
              "      <th>1</th>\n",
              "      <td>1.163549</td>\n",
              "      <td>1.245069</td>\n",
              "      <td>1.099913</td>\n",
              "      <td>1.176328</td>\n",
              "      <td>1.024052</td>\n",
              "      <td>1.095163</td>\n",
              "      <td>0.985013</td>\n",
              "      <td>1.020715</td>\n",
              "      <td>M</td>\n",
              "      <td>MC</td>\n",
              "    </tr>\n",
              "    <tr>\n",
              "      <th>2</th>\n",
              "      <td>1.163549</td>\n",
              "      <td>1.245069</td>\n",
              "      <td>1.099913</td>\n",
              "      <td>1.176328</td>\n",
              "      <td>1.024052</td>\n",
              "      <td>1.095163</td>\n",
              "      <td>1.054150</td>\n",
              "      <td>1.099901</td>\n",
              "      <td>M</td>\n",
              "      <td>MC</td>\n",
              "    </tr>\n",
              "    <tr>\n",
              "      <th>3</th>\n",
              "      <td>1.163549</td>\n",
              "      <td>1.245069</td>\n",
              "      <td>1.099913</td>\n",
              "      <td>1.176328</td>\n",
              "      <td>1.024052</td>\n",
              "      <td>1.095163</td>\n",
              "      <td>1.079761</td>\n",
              "      <td>1.128673</td>\n",
              "      <td>M</td>\n",
              "      <td>MC</td>\n",
              "    </tr>\n",
              "    <tr>\n",
              "      <th>4</th>\n",
              "      <td>1.163549</td>\n",
              "      <td>1.245069</td>\n",
              "      <td>1.099913</td>\n",
              "      <td>1.176328</td>\n",
              "      <td>1.024052</td>\n",
              "      <td>1.095163</td>\n",
              "      <td>1.065704</td>\n",
              "      <td>1.130648</td>\n",
              "      <td>M</td>\n",
              "      <td>MC</td>\n",
              "    </tr>\n",
              "    <tr>\n",
              "      <th>...</th>\n",
              "      <td>...</td>\n",
              "      <td>...</td>\n",
              "      <td>...</td>\n",
              "      <td>...</td>\n",
              "      <td>...</td>\n",
              "      <td>...</td>\n",
              "      <td>...</td>\n",
              "      <td>...</td>\n",
              "      <td>...</td>\n",
              "      <td>...</td>\n",
              "    </tr>\n",
              "    <tr>\n",
              "      <th>792995</th>\n",
              "      <td>1.142506</td>\n",
              "      <td>1.222076</td>\n",
              "      <td>1.039671</td>\n",
              "      <td>1.100710</td>\n",
              "      <td>1.026497</td>\n",
              "      <td>1.062345</td>\n",
              "      <td>0.957528</td>\n",
              "      <td>0.982097</td>\n",
              "      <td>M</td>\n",
              "      <td>DC</td>\n",
              "    </tr>\n",
              "    <tr>\n",
              "      <th>792996</th>\n",
              "      <td>1.142506</td>\n",
              "      <td>1.222076</td>\n",
              "      <td>1.039671</td>\n",
              "      <td>1.100710</td>\n",
              "      <td>1.026497</td>\n",
              "      <td>1.062345</td>\n",
              "      <td>0.999379</td>\n",
              "      <td>1.050692</td>\n",
              "      <td>M</td>\n",
              "      <td>DC</td>\n",
              "    </tr>\n",
              "    <tr>\n",
              "      <th>792997</th>\n",
              "      <td>1.142506</td>\n",
              "      <td>1.222076</td>\n",
              "      <td>1.039671</td>\n",
              "      <td>1.100710</td>\n",
              "      <td>1.026497</td>\n",
              "      <td>1.062345</td>\n",
              "      <td>1.026034</td>\n",
              "      <td>1.071192</td>\n",
              "      <td>M</td>\n",
              "      <td>DC</td>\n",
              "    </tr>\n",
              "    <tr>\n",
              "      <th>792998</th>\n",
              "      <td>1.142506</td>\n",
              "      <td>1.222076</td>\n",
              "      <td>1.039671</td>\n",
              "      <td>1.100710</td>\n",
              "      <td>1.026497</td>\n",
              "      <td>1.062345</td>\n",
              "      <td>1.032223</td>\n",
              "      <td>1.088653</td>\n",
              "      <td>M</td>\n",
              "      <td>DC</td>\n",
              "    </tr>\n",
              "    <tr>\n",
              "      <th>792999</th>\n",
              "      <td>1.142506</td>\n",
              "      <td>1.222076</td>\n",
              "      <td>1.039671</td>\n",
              "      <td>1.100710</td>\n",
              "      <td>1.026497</td>\n",
              "      <td>1.062345</td>\n",
              "      <td>1.020900</td>\n",
              "      <td>1.073406</td>\n",
              "      <td>M</td>\n",
              "      <td>DC</td>\n",
              "    </tr>\n",
              "  </tbody>\n",
              "</table>\n",
              "<p>793000 rows × 10 columns</p>\n",
              "</div>\n",
              "      <button class=\"colab-df-convert\" onclick=\"convertToInteractive('df-bf9e6dae-9389-4851-93ca-2effec4a5491')\"\n",
              "              title=\"Convert this dataframe to an interactive table.\"\n",
              "              style=\"display:none;\">\n",
              "        \n",
              "  <svg xmlns=\"http://www.w3.org/2000/svg\" height=\"24px\"viewBox=\"0 0 24 24\"\n",
              "       width=\"24px\">\n",
              "    <path d=\"M0 0h24v24H0V0z\" fill=\"none\"/>\n",
              "    <path d=\"M18.56 5.44l.94 2.06.94-2.06 2.06-.94-2.06-.94-.94-2.06-.94 2.06-2.06.94zm-11 1L8.5 8.5l.94-2.06 2.06-.94-2.06-.94L8.5 2.5l-.94 2.06-2.06.94zm10 10l.94 2.06.94-2.06 2.06-.94-2.06-.94-.94-2.06-.94 2.06-2.06.94z\"/><path d=\"M17.41 7.96l-1.37-1.37c-.4-.4-.92-.59-1.43-.59-.52 0-1.04.2-1.43.59L10.3 9.45l-7.72 7.72c-.78.78-.78 2.05 0 2.83L4 21.41c.39.39.9.59 1.41.59.51 0 1.02-.2 1.41-.59l7.78-7.78 2.81-2.81c.8-.78.8-2.07 0-2.86zM5.41 20L4 18.59l7.72-7.72 1.47 1.35L5.41 20z\"/>\n",
              "  </svg>\n",
              "      </button>\n",
              "      \n",
              "  <style>\n",
              "    .colab-df-container {\n",
              "      display:flex;\n",
              "      flex-wrap:wrap;\n",
              "      gap: 12px;\n",
              "    }\n",
              "\n",
              "    .colab-df-convert {\n",
              "      background-color: #E8F0FE;\n",
              "      border: none;\n",
              "      border-radius: 50%;\n",
              "      cursor: pointer;\n",
              "      display: none;\n",
              "      fill: #1967D2;\n",
              "      height: 32px;\n",
              "      padding: 0 0 0 0;\n",
              "      width: 32px;\n",
              "    }\n",
              "\n",
              "    .colab-df-convert:hover {\n",
              "      background-color: #E2EBFA;\n",
              "      box-shadow: 0px 1px 2px rgba(60, 64, 67, 0.3), 0px 1px 3px 1px rgba(60, 64, 67, 0.15);\n",
              "      fill: #174EA6;\n",
              "    }\n",
              "\n",
              "    [theme=dark] .colab-df-convert {\n",
              "      background-color: #3B4455;\n",
              "      fill: #D2E3FC;\n",
              "    }\n",
              "\n",
              "    [theme=dark] .colab-df-convert:hover {\n",
              "      background-color: #434B5C;\n",
              "      box-shadow: 0px 1px 3px 1px rgba(0, 0, 0, 0.15);\n",
              "      filter: drop-shadow(0px 1px 2px rgba(0, 0, 0, 0.3));\n",
              "      fill: #FFFFFF;\n",
              "    }\n",
              "  </style>\n",
              "\n",
              "      <script>\n",
              "        const buttonEl =\n",
              "          document.querySelector('#df-bf9e6dae-9389-4851-93ca-2effec4a5491 button.colab-df-convert');\n",
              "        buttonEl.style.display =\n",
              "          google.colab.kernel.accessAllowed ? 'block' : 'none';\n",
              "\n",
              "        async function convertToInteractive(key) {\n",
              "          const element = document.querySelector('#df-bf9e6dae-9389-4851-93ca-2effec4a5491');\n",
              "          const dataTable =\n",
              "            await google.colab.kernel.invokeFunction('convertToInteractive',\n",
              "                                                     [key], {});\n",
              "          if (!dataTable) return;\n",
              "\n",
              "          const docLinkHtml = 'Like what you see? Visit the ' +\n",
              "            '<a target=\"_blank\" href=https://colab.research.google.com/notebooks/data_table.ipynb>data table notebook</a>'\n",
              "            + ' to learn more about interactive tables.';\n",
              "          element.innerHTML = '';\n",
              "          dataTable['output_type'] = 'display_data';\n",
              "          await google.colab.output.renderOutput(dataTable, element);\n",
              "          const docLink = document.createElement('div');\n",
              "          docLink.innerHTML = docLinkHtml;\n",
              "          element.appendChild(docLink);\n",
              "        }\n",
              "      </script>\n",
              "    </div>\n",
              "  </div>\n",
              "  "
            ]
          },
          "metadata": {},
          "execution_count": 11
        }
      ],
      "source": [
        "# Create the data frame with the new combined data\n",
        "#new_df = pd.DataFrame([list_magnification_40x_canny_01, list_magnification_40x_canny_02, list_magnification_100x_canny_01, list_magnification_100x_canny_02, list_magnification_200x_canny_01, list_magnification_200x_canny_02, list_magnification_400x_canny_01, list_magnification_400x_canny_02, list_tumor_class, list_tumor_type], columns = ['canny_values_01_40x', 'canny_values_02_40x', 'canny_values_01_100x', 'canny_values_02_100x', 'canny_values_01_200x', 'canny_values_02_200x', 'canny_values_01_400x', 'canny_values_02_400x', 'tumor_class', 'tumor_type'])\n",
        "new_df = pd.DataFrame()\n",
        "\n",
        "new_df['canny_values_01_40x'] = list_magnification_40x_canny_01\n",
        "new_df['canny_values_02_40x'] = list_magnification_40x_canny_02\n",
        "new_df['canny_values_01_100x'] = list_magnification_100x_canny_01\n",
        "new_df['canny_values_02_100x'] = list_magnification_100x_canny_02\n",
        "new_df['canny_values_01_200x'] = list_magnification_200x_canny_01\n",
        "new_df['canny_values_02_200x'] = list_magnification_200x_canny_02\n",
        "new_df['canny_values_01_400x'] = list_magnification_400x_canny_01\n",
        "new_df['canny_values_02_400x'] = list_magnification_400x_canny_02\n",
        "new_df['tumor_class'] = list_tumor_class\n",
        "new_df['tumor_type'] = list_tumor_type\n",
        "\n",
        "new_df"
      ]
    },
    {
      "cell_type": "markdown",
      "id": "hWA3E05YFz2l",
      "metadata": {
        "id": "hWA3E05YFz2l"
      },
      "source": [
        "# Get information about the new dataset\n",
        "* Number of instances per tumor class and tumor type"
      ]
    },
    {
      "cell_type": "code",
      "execution_count": 12,
      "id": "dUtEdyNmFzmX",
      "metadata": {
        "id": "dUtEdyNmFzmX",
        "colab": {
          "base_uri": "https://localhost:8080/"
        },
        "outputId": "1041ccaa-1dc9-4f91-c34f-606be614759f"
      },
      "outputs": [
        {
          "output_type": "stream",
          "name": "stdout",
          "text": [
            "\n",
            "\n",
            "New dataset: describe()\n",
            "count     793000\n",
            "unique         8\n",
            "top           DC\n",
            "freq      358000\n",
            "Name: tumor_type, dtype: object\n",
            "\n",
            "New dataset: Number of instances for each tumor type\n",
            "DC    358000\n",
            "F     100000\n",
            "MC     89000\n",
            "TA     70000\n",
            "PC     60000\n",
            "LC     46000\n",
            "A      40000\n",
            "PT     30000\n",
            "Name: tumor_type, dtype: int64\n",
            "\n",
            "New dataset: Number of instances for each tumor class\n",
            "M    553000\n",
            "B    240000\n",
            "Name: tumor_class, dtype: int64\n"
          ]
        }
      ],
      "source": [
        "# Describe the dataset\n",
        "print(\"\\n\\nNew dataset: describe()\")\n",
        "print(new_df['tumor_type'].describe())\n",
        "# Get the number of instances of each tumor type\n",
        "print(\"\\nNew dataset: Number of instances for each tumor type\")\n",
        "print(new_df['tumor_type'].value_counts())\n",
        "# Get the number of instances of each tumor class\n",
        "print(\"\\nNew dataset: Number of instances for each tumor class\")\n",
        "print(new_df['tumor_class'].value_counts())"
      ]
    },
    {
      "cell_type": "markdown",
      "id": "389b489c",
      "metadata": {
        "id": "389b489c"
      },
      "source": [
        "# Save the new data frame to disk (not run due to large file size)"
      ]
    },
    {
      "cell_type": "code",
      "execution_count": null,
      "id": "VJBlH61cry5C",
      "metadata": {
        "id": "VJBlH61cry5C"
      },
      "outputs": [],
      "source": [
        "# Save the data frame\n",
        "#new_df.to_csv(rf'csvfile_new_df_grp_max_20.csv')"
      ]
    },
    {
      "cell_type": "markdown",
      "id": "jB87anN_WRDz",
      "metadata": {
        "id": "jB87anN_WRDz"
      },
      "source": [
        "# Classification"
      ]
    },
    {
      "cell_type": "markdown",
      "id": "9b0d634f",
      "metadata": {
        "id": "9b0d634f"
      },
      "source": [
        "## Data selection\n",
        "* (Option 1) Tumor type\n",
        "\n",
        "  * A = Adenosis\n",
        "  * F = Fibroadenoma\n",
        "  * TA = Tubular Adenoma\n",
        "  * PT = Phyllodes Tumor\n",
        "\n",
        "  * DC = Ductal Carcicoma\n",
        "  * LC = Lobular Carcicoma\n",
        "  * MC = Mucinous Carcicoma (Colloid)\n",
        "  * PC = Papillary Carcicoma\n",
        "\n",
        "* (Option 2) Tumor class\n",
        "\n",
        "  * B = Benign\n",
        "  * M = Malign"
      ]
    },
    {
      "cell_type": "markdown",
      "id": "Nc8SJh0hQqgn",
      "metadata": {
        "id": "Nc8SJh0hQqgn"
      },
      "source": [
        "### Option 1: Remove the tumor class column\n"
      ]
    },
    {
      "cell_type": "code",
      "execution_count": null,
      "id": "87_giggHSCSK",
      "metadata": {
        "id": "87_giggHSCSK"
      },
      "outputs": [],
      "source": [
        "# Drop the tumor class column\n",
        "#new_df = new_df.drop(columns=['tumor_class'])\n",
        "#new_df"
      ]
    },
    {
      "cell_type": "markdown",
      "id": "Knq90kyyT1Hs",
      "metadata": {
        "id": "Knq90kyyT1Hs"
      },
      "source": [
        "### Option 2: Remove the tumor type column\n",
        "\n"
      ]
    },
    {
      "cell_type": "code",
      "execution_count": 13,
      "id": "zj7y5wzZTyCc",
      "metadata": {
        "id": "zj7y5wzZTyCc",
        "colab": {
          "base_uri": "https://localhost:8080/",
          "height": 488
        },
        "outputId": "548be205-b8d6-45c1-bcbc-8f30e6d4c71e"
      },
      "outputs": [
        {
          "output_type": "execute_result",
          "data": {
            "text/plain": [
              "        canny_values_01_40x  canny_values_02_40x  canny_values_01_100x  \\\n",
              "0                  1.163549             1.245069              1.099913   \n",
              "1                  1.163549             1.245069              1.099913   \n",
              "2                  1.163549             1.245069              1.099913   \n",
              "3                  1.163549             1.245069              1.099913   \n",
              "4                  1.163549             1.245069              1.099913   \n",
              "...                     ...                  ...                   ...   \n",
              "792995             1.142506             1.222076              1.039671   \n",
              "792996             1.142506             1.222076              1.039671   \n",
              "792997             1.142506             1.222076              1.039671   \n",
              "792998             1.142506             1.222076              1.039671   \n",
              "792999             1.142506             1.222076              1.039671   \n",
              "\n",
              "        canny_values_02_100x  canny_values_01_200x  canny_values_02_200x  \\\n",
              "0                   1.176328              1.024052              1.095163   \n",
              "1                   1.176328              1.024052              1.095163   \n",
              "2                   1.176328              1.024052              1.095163   \n",
              "3                   1.176328              1.024052              1.095163   \n",
              "4                   1.176328              1.024052              1.095163   \n",
              "...                      ...                   ...                   ...   \n",
              "792995              1.100710              1.026497              1.062345   \n",
              "792996              1.100710              1.026497              1.062345   \n",
              "792997              1.100710              1.026497              1.062345   \n",
              "792998              1.100710              1.026497              1.062345   \n",
              "792999              1.100710              1.026497              1.062345   \n",
              "\n",
              "        canny_values_01_400x  canny_values_02_400x tumor_class  \n",
              "0                   1.029744              1.075530           M  \n",
              "1                   0.985013              1.020715           M  \n",
              "2                   1.054150              1.099901           M  \n",
              "3                   1.079761              1.128673           M  \n",
              "4                   1.065704              1.130648           M  \n",
              "...                      ...                   ...         ...  \n",
              "792995              0.957528              0.982097           M  \n",
              "792996              0.999379              1.050692           M  \n",
              "792997              1.026034              1.071192           M  \n",
              "792998              1.032223              1.088653           M  \n",
              "792999              1.020900              1.073406           M  \n",
              "\n",
              "[793000 rows x 9 columns]"
            ],
            "text/html": [
              "\n",
              "  <div id=\"df-e0d27cdb-932f-4524-b886-b343c40cf11b\">\n",
              "    <div class=\"colab-df-container\">\n",
              "      <div>\n",
              "<style scoped>\n",
              "    .dataframe tbody tr th:only-of-type {\n",
              "        vertical-align: middle;\n",
              "    }\n",
              "\n",
              "    .dataframe tbody tr th {\n",
              "        vertical-align: top;\n",
              "    }\n",
              "\n",
              "    .dataframe thead th {\n",
              "        text-align: right;\n",
              "    }\n",
              "</style>\n",
              "<table border=\"1\" class=\"dataframe\">\n",
              "  <thead>\n",
              "    <tr style=\"text-align: right;\">\n",
              "      <th></th>\n",
              "      <th>canny_values_01_40x</th>\n",
              "      <th>canny_values_02_40x</th>\n",
              "      <th>canny_values_01_100x</th>\n",
              "      <th>canny_values_02_100x</th>\n",
              "      <th>canny_values_01_200x</th>\n",
              "      <th>canny_values_02_200x</th>\n",
              "      <th>canny_values_01_400x</th>\n",
              "      <th>canny_values_02_400x</th>\n",
              "      <th>tumor_class</th>\n",
              "    </tr>\n",
              "  </thead>\n",
              "  <tbody>\n",
              "    <tr>\n",
              "      <th>0</th>\n",
              "      <td>1.163549</td>\n",
              "      <td>1.245069</td>\n",
              "      <td>1.099913</td>\n",
              "      <td>1.176328</td>\n",
              "      <td>1.024052</td>\n",
              "      <td>1.095163</td>\n",
              "      <td>1.029744</td>\n",
              "      <td>1.075530</td>\n",
              "      <td>M</td>\n",
              "    </tr>\n",
              "    <tr>\n",
              "      <th>1</th>\n",
              "      <td>1.163549</td>\n",
              "      <td>1.245069</td>\n",
              "      <td>1.099913</td>\n",
              "      <td>1.176328</td>\n",
              "      <td>1.024052</td>\n",
              "      <td>1.095163</td>\n",
              "      <td>0.985013</td>\n",
              "      <td>1.020715</td>\n",
              "      <td>M</td>\n",
              "    </tr>\n",
              "    <tr>\n",
              "      <th>2</th>\n",
              "      <td>1.163549</td>\n",
              "      <td>1.245069</td>\n",
              "      <td>1.099913</td>\n",
              "      <td>1.176328</td>\n",
              "      <td>1.024052</td>\n",
              "      <td>1.095163</td>\n",
              "      <td>1.054150</td>\n",
              "      <td>1.099901</td>\n",
              "      <td>M</td>\n",
              "    </tr>\n",
              "    <tr>\n",
              "      <th>3</th>\n",
              "      <td>1.163549</td>\n",
              "      <td>1.245069</td>\n",
              "      <td>1.099913</td>\n",
              "      <td>1.176328</td>\n",
              "      <td>1.024052</td>\n",
              "      <td>1.095163</td>\n",
              "      <td>1.079761</td>\n",
              "      <td>1.128673</td>\n",
              "      <td>M</td>\n",
              "    </tr>\n",
              "    <tr>\n",
              "      <th>4</th>\n",
              "      <td>1.163549</td>\n",
              "      <td>1.245069</td>\n",
              "      <td>1.099913</td>\n",
              "      <td>1.176328</td>\n",
              "      <td>1.024052</td>\n",
              "      <td>1.095163</td>\n",
              "      <td>1.065704</td>\n",
              "      <td>1.130648</td>\n",
              "      <td>M</td>\n",
              "    </tr>\n",
              "    <tr>\n",
              "      <th>...</th>\n",
              "      <td>...</td>\n",
              "      <td>...</td>\n",
              "      <td>...</td>\n",
              "      <td>...</td>\n",
              "      <td>...</td>\n",
              "      <td>...</td>\n",
              "      <td>...</td>\n",
              "      <td>...</td>\n",
              "      <td>...</td>\n",
              "    </tr>\n",
              "    <tr>\n",
              "      <th>792995</th>\n",
              "      <td>1.142506</td>\n",
              "      <td>1.222076</td>\n",
              "      <td>1.039671</td>\n",
              "      <td>1.100710</td>\n",
              "      <td>1.026497</td>\n",
              "      <td>1.062345</td>\n",
              "      <td>0.957528</td>\n",
              "      <td>0.982097</td>\n",
              "      <td>M</td>\n",
              "    </tr>\n",
              "    <tr>\n",
              "      <th>792996</th>\n",
              "      <td>1.142506</td>\n",
              "      <td>1.222076</td>\n",
              "      <td>1.039671</td>\n",
              "      <td>1.100710</td>\n",
              "      <td>1.026497</td>\n",
              "      <td>1.062345</td>\n",
              "      <td>0.999379</td>\n",
              "      <td>1.050692</td>\n",
              "      <td>M</td>\n",
              "    </tr>\n",
              "    <tr>\n",
              "      <th>792997</th>\n",
              "      <td>1.142506</td>\n",
              "      <td>1.222076</td>\n",
              "      <td>1.039671</td>\n",
              "      <td>1.100710</td>\n",
              "      <td>1.026497</td>\n",
              "      <td>1.062345</td>\n",
              "      <td>1.026034</td>\n",
              "      <td>1.071192</td>\n",
              "      <td>M</td>\n",
              "    </tr>\n",
              "    <tr>\n",
              "      <th>792998</th>\n",
              "      <td>1.142506</td>\n",
              "      <td>1.222076</td>\n",
              "      <td>1.039671</td>\n",
              "      <td>1.100710</td>\n",
              "      <td>1.026497</td>\n",
              "      <td>1.062345</td>\n",
              "      <td>1.032223</td>\n",
              "      <td>1.088653</td>\n",
              "      <td>M</td>\n",
              "    </tr>\n",
              "    <tr>\n",
              "      <th>792999</th>\n",
              "      <td>1.142506</td>\n",
              "      <td>1.222076</td>\n",
              "      <td>1.039671</td>\n",
              "      <td>1.100710</td>\n",
              "      <td>1.026497</td>\n",
              "      <td>1.062345</td>\n",
              "      <td>1.020900</td>\n",
              "      <td>1.073406</td>\n",
              "      <td>M</td>\n",
              "    </tr>\n",
              "  </tbody>\n",
              "</table>\n",
              "<p>793000 rows × 9 columns</p>\n",
              "</div>\n",
              "      <button class=\"colab-df-convert\" onclick=\"convertToInteractive('df-e0d27cdb-932f-4524-b886-b343c40cf11b')\"\n",
              "              title=\"Convert this dataframe to an interactive table.\"\n",
              "              style=\"display:none;\">\n",
              "        \n",
              "  <svg xmlns=\"http://www.w3.org/2000/svg\" height=\"24px\"viewBox=\"0 0 24 24\"\n",
              "       width=\"24px\">\n",
              "    <path d=\"M0 0h24v24H0V0z\" fill=\"none\"/>\n",
              "    <path d=\"M18.56 5.44l.94 2.06.94-2.06 2.06-.94-2.06-.94-.94-2.06-.94 2.06-2.06.94zm-11 1L8.5 8.5l.94-2.06 2.06-.94-2.06-.94L8.5 2.5l-.94 2.06-2.06.94zm10 10l.94 2.06.94-2.06 2.06-.94-2.06-.94-.94-2.06-.94 2.06-2.06.94z\"/><path d=\"M17.41 7.96l-1.37-1.37c-.4-.4-.92-.59-1.43-.59-.52 0-1.04.2-1.43.59L10.3 9.45l-7.72 7.72c-.78.78-.78 2.05 0 2.83L4 21.41c.39.39.9.59 1.41.59.51 0 1.02-.2 1.41-.59l7.78-7.78 2.81-2.81c.8-.78.8-2.07 0-2.86zM5.41 20L4 18.59l7.72-7.72 1.47 1.35L5.41 20z\"/>\n",
              "  </svg>\n",
              "      </button>\n",
              "      \n",
              "  <style>\n",
              "    .colab-df-container {\n",
              "      display:flex;\n",
              "      flex-wrap:wrap;\n",
              "      gap: 12px;\n",
              "    }\n",
              "\n",
              "    .colab-df-convert {\n",
              "      background-color: #E8F0FE;\n",
              "      border: none;\n",
              "      border-radius: 50%;\n",
              "      cursor: pointer;\n",
              "      display: none;\n",
              "      fill: #1967D2;\n",
              "      height: 32px;\n",
              "      padding: 0 0 0 0;\n",
              "      width: 32px;\n",
              "    }\n",
              "\n",
              "    .colab-df-convert:hover {\n",
              "      background-color: #E2EBFA;\n",
              "      box-shadow: 0px 1px 2px rgba(60, 64, 67, 0.3), 0px 1px 3px 1px rgba(60, 64, 67, 0.15);\n",
              "      fill: #174EA6;\n",
              "    }\n",
              "\n",
              "    [theme=dark] .colab-df-convert {\n",
              "      background-color: #3B4455;\n",
              "      fill: #D2E3FC;\n",
              "    }\n",
              "\n",
              "    [theme=dark] .colab-df-convert:hover {\n",
              "      background-color: #434B5C;\n",
              "      box-shadow: 0px 1px 3px 1px rgba(0, 0, 0, 0.15);\n",
              "      filter: drop-shadow(0px 1px 2px rgba(0, 0, 0, 0.3));\n",
              "      fill: #FFFFFF;\n",
              "    }\n",
              "  </style>\n",
              "\n",
              "      <script>\n",
              "        const buttonEl =\n",
              "          document.querySelector('#df-e0d27cdb-932f-4524-b886-b343c40cf11b button.colab-df-convert');\n",
              "        buttonEl.style.display =\n",
              "          google.colab.kernel.accessAllowed ? 'block' : 'none';\n",
              "\n",
              "        async function convertToInteractive(key) {\n",
              "          const element = document.querySelector('#df-e0d27cdb-932f-4524-b886-b343c40cf11b');\n",
              "          const dataTable =\n",
              "            await google.colab.kernel.invokeFunction('convertToInteractive',\n",
              "                                                     [key], {});\n",
              "          if (!dataTable) return;\n",
              "\n",
              "          const docLinkHtml = 'Like what you see? Visit the ' +\n",
              "            '<a target=\"_blank\" href=https://colab.research.google.com/notebooks/data_table.ipynb>data table notebook</a>'\n",
              "            + ' to learn more about interactive tables.';\n",
              "          element.innerHTML = '';\n",
              "          dataTable['output_type'] = 'display_data';\n",
              "          await google.colab.output.renderOutput(dataTable, element);\n",
              "          const docLink = document.createElement('div');\n",
              "          docLink.innerHTML = docLinkHtml;\n",
              "          element.appendChild(docLink);\n",
              "        }\n",
              "      </script>\n",
              "    </div>\n",
              "  </div>\n",
              "  "
            ]
          },
          "metadata": {},
          "execution_count": 13
        }
      ],
      "source": [
        "# Drop the tumor class column\n",
        "new_df = new_df.drop(columns=['tumor_type'])\n",
        "new_df"
      ]
    },
    {
      "cell_type": "markdown",
      "id": "0C6PsO51GuUs",
      "metadata": {
        "id": "0C6PsO51GuUs"
      },
      "source": [
        "## Get information again\n",
        "* Number of tumor type/class in the dataset"
      ]
    },
    {
      "cell_type": "code",
      "execution_count": null,
      "id": "ExuUhrVDOrRn",
      "metadata": {
        "id": "ExuUhrVDOrRn"
      },
      "outputs": [],
      "source": [
        "# Describe the dataset\n",
        "#print(\"\\n\\nNew dataset: describe()\")\n",
        "#print(new_df['tumor_type'].describe())\n",
        "# Get the number of instances of each tumor type\n",
        "#print(\"\\nNew dataset: Number of instances for each tumor type\")\n",
        "#print(new_df['tumor_type'].value_counts())"
      ]
    },
    {
      "cell_type": "code",
      "execution_count": 14,
      "id": "_jYzO50JG1M3",
      "metadata": {
        "id": "_jYzO50JG1M3",
        "colab": {
          "base_uri": "https://localhost:8080/"
        },
        "outputId": "8e919992-6889-4896-9112-5709c8e777f8"
      },
      "outputs": [
        {
          "output_type": "stream",
          "name": "stdout",
          "text": [
            "\n",
            "\n",
            "New dataset: describe()\n",
            "\n",
            "New dataset: Number of instances for each tumor class\n",
            "M    553000\n",
            "B    240000\n",
            "Name: tumor_class, dtype: int64\n"
          ]
        }
      ],
      "source": [
        "# Describe the dataset\n",
        "print(\"\\n\\nNew dataset: describe()\")\n",
        "#print(new_df['tumor_class'].describe())\n",
        "# Get the number of instances of each tumor class\n",
        "print(\"\\nNew dataset: Number of instances for each tumor class\")\n",
        "print(new_df['tumor_class'].value_counts())"
      ]
    },
    {
      "cell_type": "markdown",
      "id": "aWAI13BWUdsi",
      "metadata": {
        "id": "aWAI13BWUdsi"
      },
      "source": [
        "## Split data intro training and testing groups\n",
        "\n",
        "* X stores all observations\n",
        "* y stores all predictions\n",
        "\n",
        "* X_train stores training group observations\n",
        "* y_train stores training group predictions\n",
        "\n",
        "* X_test stores testing group observations\n",
        "* y_test stores testing group predictions"
      ]
    },
    {
      "cell_type": "code",
      "execution_count": 15,
      "id": "DXauk6jfUgc6",
      "metadata": {
        "id": "DXauk6jfUgc6",
        "colab": {
          "base_uri": "https://localhost:8080/"
        },
        "outputId": "5aa23cc3-c0b0-4f51-c953-dd453f5da90d"
      },
      "outputs": [
        {
          "output_type": "stream",
          "name": "stdout",
          "text": [
            "Full dataset size\n",
            "(793000, 8)\n",
            "(793000,)\n",
            "\n",
            "Training dataset size\n",
            "(555100, 8)\n",
            "(555100,)\n",
            "\n",
            "Testing dataset size\n",
            "(237900, 8)\n",
            "(237900,)\n"
          ]
        }
      ],
      "source": [
        "# Get the observations/input values from the new data frame\n",
        "#X = np.c_[new_df[['canny_values_01_40x', 'canny_values_02_40x', 'canny_values_01_100x', 'canny_values_02_100x', 'canny_values_01_200x', 'canny_values_02_200x', 'canny_values_01_400x', 'canny_values_02_400x']]]\n",
        "# Get the predictions (from tge \"tumor class\" or the \"tumor type\" column)\n",
        "#y = np.c_[new_df['tumor_class']]\n",
        "#y = np.c_[new_df['tumor_type']]\n",
        "\n",
        "X = new_df[['canny_values_01_40x', 'canny_values_02_40x', 'canny_values_01_100x', 'canny_values_02_100x', 'canny_values_01_200x', 'canny_values_02_200x', 'canny_values_01_400x', 'canny_values_02_400x']]\n",
        "# Get the predictions (from tge \"tumor class\" or the \"tumor type\" column)\n",
        "y = new_df['tumor_class']\n",
        "#y = new_df['tumor_type']\n",
        "\n",
        "# Split the data\n",
        "percentage_for_test_size = 0.3\n",
        "X_train, X_test, y_train, y_test = train_test_split(X, y, test_size = percentage_for_test_size, shuffle = True)\n",
        "print(\"Full dataset size\")\n",
        "print(X.shape)\n",
        "print(y.shape)\n",
        "\n",
        "print(\"\\nTraining dataset size\")\n",
        "print(X_train.shape)\n",
        "print(y_train.shape)\n",
        "print(\"\\nTesting dataset size\")\n",
        "print(X_test.shape)\n",
        "print(y_test.shape)"
      ]
    },
    {
      "cell_type": "markdown",
      "id": "gNVpmFhSXsR8",
      "metadata": {
        "id": "gNVpmFhSXsR8"
      },
      "source": [
        "## Pre-processing"
      ]
    },
    {
      "cell_type": "markdown",
      "id": "82c06897",
      "metadata": {
        "id": "82c06897"
      },
      "source": [
        "### Scaling (training and testing data)"
      ]
    },
    {
      "cell_type": "code",
      "execution_count": 16,
      "id": "dP83SXQSX2wx",
      "metadata": {
        "id": "dP83SXQSX2wx"
      },
      "outputs": [],
      "source": [
        "#scaler = preprocessing.MinMaxScaler().fit(X_train)\n",
        "scaler = preprocessing.StandardScaler().fit(X_train)\n",
        "X_train_scaled = scaler.transform(X_train)\n",
        "X_test_scaled = scaler.transform(X_test)"
      ]
    },
    {
      "cell_type": "markdown",
      "id": "47cb44cc",
      "metadata": {
        "id": "47cb44cc"
      },
      "source": [
        "### Correct the training vector shape"
      ]
    },
    {
      "cell_type": "code",
      "execution_count": 17,
      "id": "b940bb36",
      "metadata": {
        "id": "b940bb36"
      },
      "outputs": [],
      "source": [
        "# Correct the issue of size (numpy format)\n",
        "y_train = np.ravel(y_train)"
      ]
    },
    {
      "cell_type": "markdown",
      "id": "p3WXYgwvZVcG",
      "metadata": {
        "id": "p3WXYgwvZVcG"
      },
      "source": [
        "### Manage unbalanced data set"
      ]
    },
    {
      "cell_type": "code",
      "execution_count": 18,
      "id": "m2mIobv3Zd3E",
      "metadata": {
        "id": "m2mIobv3Zd3E",
        "colab": {
          "base_uri": "https://localhost:8080/"
        },
        "outputId": "5419f1e2-d075-418b-c7f4-6c6649bac95e"
      },
      "outputs": [
        {
          "output_type": "stream",
          "name": "stdout",
          "text": [
            "Before unbalance management Counter({'M': 387092, 'B': 168008})\n",
            "After unbalance management Counter({'B': 168008, 'M': 168008})\n",
            "\n",
            "Training dataset size\n",
            "(336016, 8)\n",
            "(336016,)\n",
            "\n",
            "Testing dataset size\n",
            "(237900, 8)\n",
            "(237900,)\n"
          ]
        }
      ],
      "source": [
        "# Print data prior unbalance management\n",
        "print(\"Before unbalance management\", Counter(y_train))\n",
        "\n",
        "# Instantiate sampler strategy\n",
        "undersample = RandomUnderSampler(sampling_strategy='majority')\n",
        "\n",
        "# Apply strategy\n",
        "X_train_balanced, y_train_balanced = undersample.fit_resample(X_train_scaled, y_train)\n",
        "\n",
        "# Print data after unbalance management\n",
        "print(\"After unbalance management\", Counter(y_train_balanced))\n",
        "\n",
        "print(\"\\nTraining dataset size\")\n",
        "print(X_train_balanced.shape)\n",
        "print(y_train_balanced.shape)\n",
        "print(\"\\nTesting dataset size\")\n",
        "print(X_test_scaled.shape)\n",
        "print(y_test.shape)"
      ]
    },
    {
      "cell_type": "markdown",
      "id": "cK4PymsNJ38S",
      "metadata": {
        "id": "cK4PymsNJ38S"
      },
      "source": [
        "## Compute feature importance\n",
        "* Use a decision tree to get the importance of each feature on classification\n",
        "* Use all dataset since we want to know the feature importance"
      ]
    },
    {
      "cell_type": "code",
      "execution_count": 19,
      "id": "k-7T3TKGKBjp",
      "metadata": {
        "id": "k-7T3TKGKBjp",
        "colab": {
          "base_uri": "https://localhost:8080/"
        },
        "outputId": "6972008a-1590-45cf-f93b-632fcb16e46f"
      },
      "outputs": [
        {
          "output_type": "execute_result",
          "data": {
            "text/plain": [
              "0.8802761664564943"
            ]
          },
          "metadata": {},
          "execution_count": 19
        }
      ],
      "source": [
        "# Instance the decision tree\n",
        "tree = DecisionTreeClassifier(max_depth = 10, random_state=0)\n",
        "# Fit with the whole dataset to get feature importance\n",
        "tree.fit(X, y)\n",
        "tree.score(X, y)"
      ]
    },
    {
      "cell_type": "code",
      "execution_count": 20,
      "id": "rzJPnfHjKn37",
      "metadata": {
        "id": "rzJPnfHjKn37",
        "colab": {
          "base_uri": "https://localhost:8080/",
          "height": 570
        },
        "outputId": "ad3bfd24-45ce-4f84-e659-ac3916e7a8af"
      },
      "outputs": [
        {
          "output_type": "display_data",
          "data": {
            "text/plain": [
              "<Figure size 1800x720 with 1 Axes>"
            ],
            "image/png": "[encoded data removed]"
          },
          "metadata": {
            "needs_background": "light"
          }
        }
      ],
      "source": [
        "# Get a graph with the importance of each feature\n",
        "%matplotlib inline\n",
        "pd.Series(tree.feature_importances_, index = X.columns).plot.barh(figsize=(25, 10));"
      ]
    },
    {
      "cell_type": "markdown",
      "id": "bb5892be",
      "metadata": {
        "id": "bb5892be"
      },
      "source": [
        "## Proceed to classification (processing)"
      ]
    },
    {
      "cell_type": "markdown",
      "id": "0BSyE3buIKaX",
      "metadata": {
        "id": "0BSyE3buIKaX"
      },
      "source": [
        "### Dummy classifier\n",
        "* Create a dummy classifier to get the worst cases to compare with\n",
        "* It is expected that the tested classifiers get better results that the dummy one\n",
        "* Use different strategies for the dummy **classifier**"
      ]
    },
    {
      "cell_type": "code",
      "execution_count": 21,
      "id": "iCJ39xLIINX4",
      "metadata": {
        "id": "iCJ39xLIINX4",
        "colab": {
          "base_uri": "https://localhost:8080/"
        },
        "outputId": "4dd2b813-03cf-4fde-9655-ff4610fe4b2c"
      },
      "outputs": [
        {
          "output_type": "stream",
          "name": "stdout",
          "text": [
            "most_frequent  | score = 0.3026 | time = 0.220s/0.538s\n",
            "stratified     | score = 0.4991 | time = 0.214s/0.953s\n",
            "prior          | score = 0.3026 | time = 0.223s/0.527s\n",
            "uniform        | score = 0.5002 | time = 0.215s/0.660s\n"
          ]
        }
      ],
      "source": [
        "for strategy in ['most_frequent', 'stratified', 'prior', 'uniform']:\n",
        "  dummy = DummyClassifier(strategy = strategy, random_state = 0)\n",
        "  # Fit\n",
        "  start = time()\n",
        "  dummy.fit(X_train_balanced, y_train_balanced)\n",
        "  train_time = time() - start\n",
        "  # Compute accuracy and prediction time\n",
        "  start = time()\n",
        "  score = dummy.score(X_test_scaled, y_test)\n",
        "  predict_time = time() - start\n",
        "  # Print results\n",
        "  print(\"{:<15}| score = {:.4f} | time = {:,.3f}s/{:,.3f}s\".format(strategy, score, train_time, predict_time))"
      ]
    },
    {
      "cell_type": "markdown",
      "id": "ILR7DMvQWLFJ",
      "metadata": {
        "id": "ILR7DMvQWLFJ"
      },
      "source": [
        "### Logistic regression"
      ]
    },
    {
      "cell_type": "code",
      "execution_count": null,
      "id": "jqZ3wrmBWdlp",
      "metadata": {
        "id": "jqZ3wrmBWdlp"
      },
      "outputs": [],
      "source": [
        "#   ****************Logistic Regression*****************\n",
        "#estimator = LogisticRegression(random_state=0, solver='liblinear', n_jobs=-1)\n",
        "estimator = LogisticRegression(random_state=0, solver='sag', n_jobs=-1)\n",
        "#estimator = LogisticRegression(random_state=0, solver='lbfgs', n_jobs=-1, verbose=1)\n",
        "\n",
        "# Fit\n",
        "start = time()\n",
        "estimator.fit(X_train_balanced, y_train_balanced)\n",
        "train_time = time() - start\n",
        "\n",
        "# Prediction\n",
        "start = time()\n",
        "y_pred = estimator.predict(X_test_scaled)\n",
        "predict_time = time() - start\n",
        "\n",
        "# Metrics\n",
        "accuracy = metrics.accuracy_score(y_test, y_pred)\n",
        "#print(\"Precision score of logistic regression classifier :: \" , metrics.precision_score(y_test, y_pred, average=None, labels=logReg.classes_))\n",
        "#print(\"Recall score of logistic regression classifier :: \" , metrics.recall_score(y_test, y_pred, average=None, labels=logReg.classes_))\n",
        "#print(\"F1 score of logistic regression classifier :: \" , metrics.f1_score(y_test, y_pred, average=None, labels=logReg.classes_))\n",
        "\n",
        "#print(\"ROC curve score of logistic regression classifier :: \" , metrics.roc_score(y_test, y_pred, average=None, labels=logReg.classes_))\n",
        "\n",
        "# Pre-processing\n",
        "y_pred = np.ravel(y_pred)\n",
        "\n",
        "# Print results\n",
        "print(\"Accuracy = {:.4f} | time = {:,.3f}s/{:,.3f}s\".format(accuracy, train_time, predict_time))\n",
        "\n",
        "# Plot confusion matrix\n",
        "cm = metrics.confusion_matrix(y_test, y_pred, labels=estimator.classes_)\n",
        "print(\"\\nConfusion matrix\")\n",
        "print(cm)\n",
        "\n",
        "#disp = metrics.ConfusionMatrixDisplay(confusion_matrix=cm, display_labels=estimator.classes_)\n",
        "#disp.plot()\n",
        "#plt.title(\"Confusion matrix\")\n",
        "#plt.figure(figsize=(10,10))\n",
        "#plt.show()\n",
        "\n",
        "#%sklearn inline\n",
        "#metrics.ConfusionMatrixDisplay.from_estimator(estimator, X_test_scaled, y_test, display_labels=estimator.classes_, normalize='all', cmap='Greys')\n",
        "metrics.ConfusionMatrixDisplay.from_predictions(y_test, y_pred, display_labels=estimator.classes_, normalize='all', cmap='Greys')\n",
        "plt.title(\"Confusion matrix\")\n",
        "plt.figure(figsize=(10,10))\n",
        "plt.show()\n",
        "\n",
        "# Classification report\n",
        "print(metrics.classification_report(y_test, y_pred, digits=4))\n",
        "\n",
        "# ROC curve and AUC\n",
        "#fpr, tpr, thresholds = metrics.roc_curve(y_test, y_score)\n",
        "fig, ax = plt.subplots()\n",
        "metrics.RocCurveDisplay.from_estimator(estimator, X_test_scaled, y_test, alpha=0.8, lw=2, ax=ax)\n",
        "#metrics.RocCurveDisplay.from_predictions(y_test, y_pred, alpha=0.8, lw=2, ax=ax)\n",
        "ax.plot([0,1], [0,1], linestyle=\"--\", lw=2, color = \"r\", alpha = 0.5)\n",
        "plt.title(\"ROC Curve\")\n",
        "plt.figure(figsize=(20,20))\n",
        "plt.show()\n",
        "\n",
        "# Check the section for multiclass\n",
        "# https://scikit-learn.org/stable/auto_examples/model_selection/plot_roc.html\n",
        "# For displaying ROC curve\n",
        "# https://scikit-learn.org/stable/modules/generated/sklearn.metrics.RocCurveDisplay.html#sklearn.metrics.RocCurveDisplay.from_estimator\n",
        "# ROC curve with cross-validation\n",
        "# https://scikit-learn.org/stable/auto_examples/model_selection/plot_roc_crossval.html#sphx-glr-auto-examples-model-selection-plot-roc-crossval-py\n",
        "\n",
        "# Area Under Curve (AUC)\n",
        "\n",
        "#auc = metrics.roc_auc_score(y_test, estimator.decision_function(X_test_scaled))\n",
        "# Check this https://scikit-learn.org/stable/modules/model_evaluation.html#roc-auc-binary\n",
        "# where \"estimator.predict_proba(X_test_scaled)[:, 1]\" corresponds to the probability of the class with the \"greater label\", that is why the 1 as the index.\n",
        "y_score = estimator.predict_proba(X_test_scaled)[:, 1]\n",
        "auc = metrics.roc_auc_score(y_test, y_score)\n",
        "\n",
        "print(\"\\nArea Under Curve (AUC) = {:.4f}\".format(auc))\n",
        "# Check examples for multiclass\n",
        "# https://scikit-learn.org/stable/modules/generated/sklearn.metrics.roc_auc_score.html#sklearn.metrics.roc_auc_score"
      ]
    },
    {
      "cell_type": "markdown",
      "source": [
        "#### Cross-validation for logistic regression"
      ],
      "metadata": {
        "id": "z03UeRGVXfvc"
      },
      "id": "z03UeRGVXfvc"
    },
    {
      "cell_type": "code",
      "source": [
        "start = time()\n",
        "#cross_validation_scores = cross_val_score(estimator, X_train_balanced, y_train_balanced, cv=LeaveOneOut(), scoring='f1_macro', n_jobs=-1, verbose=1)\n",
        "#cv = ShuffleSplit(n_splits=5, test_size=0.3, random_state=0)\n",
        "#cross_validation_scores = cross_val_score(estimator, X_train_balanced, y_train_balanced, cv=cv, scoring='f1_macro', n_jobs=-1, verbose=1)\n",
        "cross_validation_scores = cross_val_score(estimator, X_train_balanced, y_train_balanced, cv=10, scoring='f1_macro', n_jobs=-1, verbose=1)\n",
        "cross_validation_time = time() - start\n",
        "print(\"Mean cross-validation scores (Stratified CV) = {:.4f}\".format(np.mean(cross_validation_scores)))\n",
        "print(\"Standard deviation for cross-validation scores (Stratified CV) = {:.4f}\".format(np.std(cross_validation_scores)))\n",
        "print(\"Reported cross-validation time = {:,.3f}s\".format(cross_validation_time))\n",
        "print(\"All cross-validation scores:\\n\", cross_validation_scores)"
      ],
      "metadata": {
        "id": "OUZQtuV3XlTt"
      },
      "id": "OUZQtuV3XlTt",
      "execution_count": null,
      "outputs": []
    },
    {
      "cell_type": "markdown",
      "id": "YdFJbF9Zb2AT",
      "metadata": {
        "id": "YdFJbF9Zb2AT"
      },
      "source": [
        "### Multilayer Perceptron"
      ]
    },
    {
      "cell_type": "code",
      "execution_count": null,
      "id": "FV0Il9bnTTAd",
      "metadata": {
        "id": "FV0Il9bnTTAd"
      },
      "outputs": [],
      "source": [
        "#   ****************Multi-layer Perceptron*****************\n",
        "#estimator = MLPClassifier(alpha=1)\n",
        "#estimator = MLPClassifier(alpha=0.0001, solver='adam', verbose=True)\n",
        "#estimator = MLPClassifier(alpha=0.0001, solver='adam', verbose=True, early_stopping=True)\n",
        "estimator = MLPClassifier(alpha=0.001, tol=1e-3, solver='adam', verbose=True, early_stopping=True)\n",
        "\n",
        "# Fit\n",
        "start = time()\n",
        "estimator.fit(X_train_balanced, y_train_balanced)\n",
        "train_time = time() - start\n",
        "\n",
        "# Prediction\n",
        "start = time()\n",
        "y_pred = estimator.predict(X_test_scaled)\n",
        "predict_time = time() - start\n",
        "\n",
        "# Metrics\n",
        "accuracy = metrics.accuracy_score(y_test, y_pred)\n",
        "\n",
        "# Pre-processing\n",
        "y_pred = np.ravel(y_pred)\n",
        "\n",
        "# Print results\n",
        "print(\"Accuracy = {:.4f} | time = {:,.3f}s/{:,.3f}s\".format(accuracy, train_time, predict_time))\n",
        "\n",
        "# Plot confusion matrix\n",
        "cm = metrics.confusion_matrix(y_test, y_pred, labels=estimator.classes_)\n",
        "print(\"\\nConfusion matrix\")\n",
        "print(cm)\n",
        "\n",
        "#metrics.ConfusionMatrixDisplay.from_estimator(estimator, X_test, y_test, display_labels=estimator.classes_, normalize='all', cmap='Greys')\n",
        "metrics.ConfusionMatrixDisplay.from_predictions(y_test, y_pred, display_labels=estimator.classes_, normalize='all', cmap='Greys')\n",
        "plt.title(\"Confusion matrix\")\n",
        "plt.figure(figsize=(10,10))\n",
        "plt.show()\n",
        "\n",
        "# Classification report\n",
        "print(metrics.classification_report(y_test, y_pred, digits=4))\n",
        "\n",
        "# ROC curve and AUC\n",
        "fig, ax = plt.subplots()\n",
        "metrics.RocCurveDisplay.from_estimator(estimator, X_test_scaled, y_test, alpha=0.8, lw=2, ax=ax)\n",
        "ax.plot([0,1], [0,1], linestyle=\"--\", lw=2, color = \"r\", label = \"Change\", alpha = 0.5)\n",
        "plt.title(\"ROC Curve\")\n",
        "plt.figure(figsize=(10,10))\n",
        "plt.show()\n",
        "\n",
        "# Area Under Curve (AUC)\n",
        "\n",
        "#auc = metrics.roc_auc_score(y_test, estimator.decision_function(X_test))\n",
        "# Check this https://scikit-learn.org/stable/modules/model_evaluation.html#roc-auc-binary\n",
        "# where \"estimator.predict_proba(X_test_scaled)[:, 1]\" corresponds to the probability of the class with the \"greater label\", that is why the 1 as the index.\n",
        "y_score = estimator.predict_proba(X_test_scaled)[:, 1]\n",
        "auc = metrics.roc_auc_score(y_test, y_score)\n",
        "print(\"\\nArea Under Curve (AUC) = {:.4f}\".format(auc))"
      ]
    },
    {
      "cell_type": "markdown",
      "source": [
        "#### Cross-validation for Multilayer-Perceptron"
      ],
      "metadata": {
        "id": "EVm5JYmtkxEn"
      },
      "id": "EVm5JYmtkxEn"
    },
    {
      "cell_type": "code",
      "source": [
        "start = time()\n",
        "#cross_validation_scores = cross_val_score(estimator, X_train_balanced, y_train_balanced, cv=LeaveOneOut(), scoring='f1_macro', n_jobs=-1, verbose=1)\n",
        "#cv = ShuffleSplit(n_splits=5, test_size=0.3, random_state=0)\n",
        "#cross_validation_scores = cross_val_score(estimator, X_train_balanced, y_train_balanced, cv=cv, scoring='f1_macro', n_jobs=-1, verbose=1)\n",
        "cross_validation_scores = cross_val_score(estimator, X_train_balanced, y_train_balanced, cv=10, scoring='f1_macro', n_jobs=-1, verbose=1)\n",
        "cross_validation_time = time() - start\n",
        "print(\"Mean cross-validation scores (Stratified CV) = {:.4f}\".format(np.mean(cross_validation_scores)))\n",
        "print(\"Standard deviation for cross-validation scores (Stratified CV) = {:.4f}\".format(np.std(cross_validation_scores)))\n",
        "print(\"Reported cross-validation time = {:,.3f}s\".format(cross_validation_time))\n",
        "print(\"All cross-validation scores:\\n\", cross_validation_scores)"
      ],
      "metadata": {
        "id": "myAiApgBk9cd"
      },
      "id": "myAiApgBk9cd",
      "execution_count": null,
      "outputs": []
    },
    {
      "cell_type": "markdown",
      "id": "D0OLCkx4cI4S",
      "metadata": {
        "id": "D0OLCkx4cI4S"
      },
      "source": [
        "### Naive-Bayes"
      ]
    },
    {
      "cell_type": "code",
      "execution_count": 22,
      "id": "m20rf12DVmWa",
      "metadata": {
        "id": "m20rf12DVmWa",
        "colab": {
          "base_uri": "https://localhost:8080/",
          "height": 885
        },
        "outputId": "4d7d203e-8a3f-431a-ea1b-1023c17826d9"
      },
      "outputs": [
        {
          "output_type": "stream",
          "name": "stdout",
          "text": [
            "Accuracy = 0.6934 | time = 1.203s/0.039s\n",
            "\n",
            "Confusion matrix\n",
            "[[ 34760  37232]\n",
            " [ 35701 130207]]\n"
          ]
        },
        {
          "output_type": "display_data",
          "data": {
            "text/plain": [
              "<Figure size 432x288 with 2 Axes>"
            ],
            "image/png": "[encoded data removed]"
          },
          "metadata": {
            "needs_background": "light"
          }
        },
        {
          "output_type": "display_data",
          "data": {
            "text/plain": [
              "<Figure size 720x720 with 0 Axes>"
            ]
          },
          "metadata": {}
        },
        {
          "output_type": "stream",
          "name": "stdout",
          "text": [
            "              precision    recall  f1-score   support\n",
            "\n",
            "           B     0.4933    0.4828    0.4880     71992\n",
            "           M     0.7776    0.7848    0.7812    165908\n",
            "\n",
            "    accuracy                         0.6934    237900\n",
            "   macro avg     0.6355    0.6338    0.6346    237900\n",
            "weighted avg     0.6916    0.6934    0.6925    237900\n",
            "\n"
          ]
        },
        {
          "output_type": "display_data",
          "data": {
            "text/plain": [
              "<Figure size 432x288 with 1 Axes>"
            ],
            "image/png": "[encoded data removed]"
          },
          "metadata": {
            "needs_background": "light"
          }
        },
        {
          "output_type": "display_data",
          "data": {
            "text/plain": [
              "<Figure size 720x720 with 0 Axes>"
            ]
          },
          "metadata": {}
        },
        {
          "output_type": "stream",
          "name": "stdout",
          "text": [
            "\n",
            "Area Under Curve (AUC) = 0.6615\n"
          ]
        }
      ],
      "source": [
        "#   ****************Naive-Bayes*****************\n",
        "estimator = GaussianNB()\n",
        "\n",
        "# Fit\n",
        "start = time()\n",
        "estimator.fit(X_train_balanced, y_train_balanced)\n",
        "train_time = time() - start\n",
        "\n",
        "# Prediction\n",
        "start = time()\n",
        "y_pred = estimator.predict(X_test_scaled)\n",
        "predict_time = time() - start\n",
        "\n",
        "# Metrics\n",
        "accuracy = metrics.accuracy_score(y_test, y_pred)\n",
        "\n",
        "# Pre-processing\n",
        "y_pred = np.ravel(y_pred)\n",
        "\n",
        "# Print results\n",
        "print(\"Accuracy = {:.4f} | time = {:,.3f}s/{:,.3f}s\".format(accuracy, train_time, predict_time))\n",
        "\n",
        "# Plot confusion matrix\n",
        "cm = metrics.confusion_matrix(y_test, y_pred, labels=estimator.classes_)\n",
        "print(\"\\nConfusion matrix\")\n",
        "print(cm)\n",
        "\n",
        "#metrics.ConfusionMatrixDisplay.from_estimator(estimator, X_test, y_test, display_labels=estimator.classes_, normalize='all', cmap='Greys')\n",
        "metrics.ConfusionMatrixDisplay.from_predictions(y_test, y_pred, display_labels=estimator.classes_, normalize='all', cmap='Greys')\n",
        "plt.title(\"Confusion matrix\")\n",
        "plt.figure(figsize=(10,10))\n",
        "plt.show()\n",
        "\n",
        "# Classification report\n",
        "print(metrics.classification_report(y_test, y_pred, digits=4))\n",
        "\n",
        "# ROC curve and AUC\n",
        "fig, ax = plt.subplots()\n",
        "metrics.RocCurveDisplay.from_estimator(estimator, X_test_scaled, y_test, alpha=0.8, lw=2, ax=ax)\n",
        "ax.plot([0,1], [0,1], linestyle=\"--\", lw=2, color = \"r\", label = \"Change\", alpha = 0.5)\n",
        "plt.title(\"ROC Curve\")\n",
        "plt.figure(figsize=(10,10))\n",
        "plt.show()\n",
        "\n",
        "# Area Under Curve (AUC)\n",
        "\n",
        "#auc = metrics.roc_auc_score(y_test, estimator.decision_function(X_test))\n",
        "# Check this https://scikit-learn.org/stable/modules/model_evaluation.html#roc-auc-binary\n",
        "# where \"estimator.predict_proba(X_test_scaled)[:, 1]\" corresponds to the probability of the class with the \"greater label\", that is why the 1 as the index.\n",
        "y_score = estimator.predict_proba(X_test_scaled)[:, 1]\n",
        "auc = metrics.roc_auc_score(y_test, y_score)\n",
        "print(\"\\nArea Under Curve (AUC) = {:.4f}\".format(auc))"
      ]
    },
    {
      "cell_type": "markdown",
      "source": [
        "#### Cross-validation for Naive-Bayes"
      ],
      "metadata": {
        "id": "X7WeoIOqlS2G"
      },
      "id": "X7WeoIOqlS2G"
    },
    {
      "cell_type": "code",
      "source": [
        "start = time()\n",
        "#cross_validation_scores = cross_val_score(estimator, X_train_balanced, y_train_balanced, cv=LeaveOneOut(), scoring='f1_macro', n_jobs=-1, verbose=1)\n",
        "#cv = ShuffleSplit(n_splits=5, test_size=0.3, random_state=0)\n",
        "#cross_validation_scores = cross_val_score(estimator, X_train_balanced, y_train_balanced, cv=cv, scoring='f1_macro', n_jobs=-1, verbose=1)\n",
        "cross_validation_scores = cross_val_score(estimator, X_train_balanced, y_train_balanced, cv=10, scoring='f1_macro', n_jobs=-1, verbose=1)\n",
        "cross_validation_time = time() - start\n",
        "print(\"Mean cross-validation scores (Stratified CV) = {:.4f}\".format(np.mean(cross_validation_scores)))\n",
        "print(\"Standard deviation for cross-validation scores (Stratified CV) = {:.4f}\".format(np.std(cross_validation_scores)))\n",
        "print(\"Reported cross-validation time = {:,.3f}s\".format(cross_validation_time))\n",
        "print(\"All cross-validation scores:\\n\", cross_validation_scores)"
      ],
      "metadata": {
        "id": "rZd897FMlGoW"
      },
      "id": "rZd897FMlGoW",
      "execution_count": null,
      "outputs": []
    },
    {
      "cell_type": "markdown",
      "id": "CmbKfe7j__lO",
      "metadata": {
        "id": "CmbKfe7j__lO"
      },
      "source": [
        "### Gaussian Process"
      ]
    },
    {
      "cell_type": "code",
      "execution_count": null,
      "id": "b1khzyhMAEvH",
      "metadata": {
        "id": "b1khzyhMAEvH"
      },
      "outputs": [],
      "source": [
        "#   ****************Gaussian Process classifier*****************\n",
        "estimator = GaussianProcessClassifier(max_iter_predict=10, random_state=0, n_jobs=-1)\n",
        "\n",
        "# Fit\n",
        "start = time()\n",
        "estimator.fit(X_train_balanced, y_train_balanced)\n",
        "train_time = time() - start\n",
        "\n",
        "# Prediction\n",
        "start = time()\n",
        "y_pred = estimator.predict(X_test_scaled)\n",
        "predict_time = time() - start\n",
        "\n",
        "# Metrics\n",
        "accuracy = metrics.accuracy_score(y_test, y_pred)\n",
        "\n",
        "# Pre-processing\n",
        "y_pred = np.ravel(y_pred)\n",
        "\n",
        "# Print results\n",
        "print(\"Accuracy = {:.4f} | time = {:,.3f}s/{:,.3f}s\".format(accuracy, train_time, predict_time))\n",
        "\n",
        "# Plot confusion matrix\n",
        "cm = metrics.confusion_matrix(y_test, y_pred, labels=estimator.classes_)\n",
        "print(\"\\nConfusion matrix\")\n",
        "print(cm)\n",
        "\n",
        "#metrics.ConfusionMatrixDisplay.from_estimator(estimator, X_test, y_test, display_labels=estimator.classes_, normalize='all', cmap='Greys')\n",
        "metrics.ConfusionMatrixDisplay.from_predictions(y_test, y_pred, display_labels=estimator.classes_, normalize='all', cmap='Greys')\n",
        "plt.title(\"Confusion matrix\")\n",
        "plt.figure(figsize=(10,10))\n",
        "plt.show()\n",
        "\n",
        "# Classification report\n",
        "print(metrics.classification_report(y_test, y_pred, digits=4))\n",
        "\n",
        "# ROC curve and AUC\n",
        "fig, ax = plt.subplots()\n",
        "metrics.RocCurveDisplay.from_estimator(estimator, X_test_scaled, y_test, alpha=0.8, lw=2, ax=ax)\n",
        "ax.plot([0,1], [0,1], linestyle=\"--\", lw=2, color = \"r\", label = \"Change\", alpha = 0.5)\n",
        "plt.title(\"ROC Curve\")\n",
        "plt.figure(figsize=(10,10))\n",
        "plt.show()\n",
        "\n",
        "# Area Under Curve (AUC)\n",
        "\n",
        "#auc = metrics.roc_auc_score(y_test, estimator.decision_function(X_test))\n",
        "# Check this https://scikit-learn.org/stable/modules/model_evaluation.html#roc-auc-binary\n",
        "# where \"estimator.predict_proba(X_test_scaled)[:, 1]\" corresponds to the probability of the class with the \"greater label\", that is why the 1 as the index.\n",
        "y_score = estimator.predict_proba(X_test_scaled)[:, 1]\n",
        "auc = metrics.roc_auc_score(y_test, y_score)\n",
        "print(\"\\nArea Under Curve (AUC) = {:.4f}\".format(auc))"
      ]
    },
    {
      "cell_type": "markdown",
      "source": [
        "#### Cross-validation for Gaussian-Process"
      ],
      "metadata": {
        "id": "s8CcaOrelV9x"
      },
      "id": "s8CcaOrelV9x"
    },
    {
      "cell_type": "code",
      "source": [
        "start = time()\n",
        "#cross_validation_scores = cross_val_score(estimator, X_train_balanced, y_train_balanced, cv=LeaveOneOut(), scoring='f1_macro', n_jobs=-1, verbose=1)\n",
        "#cv = ShuffleSplit(n_splits=5, test_size=0.3, random_state=0)\n",
        "#cross_validation_scores = cross_val_score(estimator, X_train_balanced, y_train_balanced, cv=cv, scoring='f1_macro', n_jobs=-1, verbose=1)\n",
        "cross_validation_scores = cross_val_score(estimator, X_train_balanced, y_train_balanced, cv=10, scoring='f1_macro', n_jobs=-1, verbose=1)\n",
        "cross_validation_time = time() - start\n",
        "print(\"Mean cross-validation scores (Stratified CV) = {:.4f}\".format(np.mean(cross_validation_scores)))\n",
        "print(\"Standard deviation for cross-validation scores (Stratified CV) = {:.4f}\".format(np.std(cross_validation_scores)))\n",
        "print(\"Reported cross-validation time = {:,.3f}s\".format(cross_validation_time))\n",
        "print(\"All cross-validation scores:\\n\", cross_validation_scores)"
      ],
      "metadata": {
        "id": "yThY_NUMlHg1"
      },
      "id": "yThY_NUMlHg1",
      "execution_count": null,
      "outputs": []
    },
    {
      "cell_type": "markdown",
      "id": "0Wijk73IcLJv",
      "metadata": {
        "id": "0Wijk73IcLJv"
      },
      "source": [
        "### SVM"
      ]
    },
    {
      "cell_type": "code",
      "execution_count": null,
      "id": "kSh5DD31O-Kv",
      "metadata": {
        "id": "kSh5DD31O-Kv"
      },
      "outputs": [],
      "source": [
        "#   ****************SVM 3th grade polynomial Kernel*****************\n",
        "#estimator = SVC(kernel=\"poly\")\n",
        "#estimator = SVC(kernel=\"rbf\")\n",
        "#estimator = SVC(kernel=\"linear\", verbose=True)\n",
        "estimator = SVC(kernel=\"linear\", gamma=0.001, verbose=True)\n",
        "\n",
        "# Fit\n",
        "start = time()\n",
        "estimator.fit(X_train_balanced, y_train_balanced)\n",
        "train_time = time() - start\n",
        "\n",
        "# Prediction\n",
        "start = time()\n",
        "y_pred = estimator.predict(X_test_scaled)\n",
        "predict_time = time() - start\n",
        "\n",
        "# Metrics\n",
        "accuracy = metrics.accuracy_score(y_test, y_pred)\n",
        "\n",
        "# Pre-processing\n",
        "y_pred = np.ravel(y_pred)\n",
        "\n",
        "# Print results\n",
        "print(\"Accuracy = {:.4f} | time = {:,.3f}s/{:,.3f}s\".format(accuracy, train_time, predict_time))\n",
        "\n",
        "# Plot confusion matrix\n",
        "cm = metrics.confusion_matrix(y_test, y_pred, labels=estimator.classes_)\n",
        "print(\"\\nConfusion matrix\")\n",
        "print(cm)\n",
        "\n",
        "#metrics.ConfusionMatrixDisplay.from_estimator(estimator, X_test, y_test, display_labels=estimator.classes_, normalize='all', cmap='Greys')\n",
        "metrics.ConfusionMatrixDisplay.from_predictions(y_test, y_pred, display_labels=estimator.classes_, normalize='all', cmap='Greys')\n",
        "plt.title(\"Confusion matrix\")\n",
        "plt.figure(figsize=(10,10))\n",
        "plt.show()\n",
        "\n",
        "# Classification report\n",
        "print(metrics.classification_report(y_test, y_pred, digits=4))\n",
        "\n",
        "# ROC curve and AUC\n",
        "fig, ax = plt.subplots()\n",
        "metrics.RocCurveDisplay.from_estimator(estimator, X_test_scaled, y_test, alpha=0.8, lw=2, ax=ax)\n",
        "ax.plot([0,1], [0,1], linestyle=\"--\", lw=2, color = \"r\", label = \"Change\", alpha = 0.5)\n",
        "plt.title(\"ROC Curve\")\n",
        "plt.figure(figsize=(10,10))\n",
        "plt.show()\n",
        "\n",
        "# Area Under Curve (AUC)\n",
        "\n",
        "#auc = metrics.roc_auc_score(y_test, estimator.decision_function(X_test))\n",
        "# Check this https://scikit-learn.org/stable/modules/model_evaluation.html#roc-auc-binary\n",
        "# where \"estimator.predict_proba(X_test_scaled)[:, 1]\" corresponds to the probability of the class with the \"greater label\", that is why the 1 as the index.\n",
        "y_score = estimator.predict_proba(X_test_scaled)[:, 1]\n",
        "auc = metrics.roc_auc_score(y_test, y_score)\n",
        "print(\"\\nArea Under Curve (AUC) = {:.4f}\".format(auc))"
      ]
    },
    {
      "cell_type": "markdown",
      "source": [
        "#### Cross-validation for SVM"
      ],
      "metadata": {
        "id": "HhMadcPhlZJu"
      },
      "id": "HhMadcPhlZJu"
    },
    {
      "cell_type": "code",
      "source": [
        "start = time()\n",
        "#cross_validation_scores = cross_val_score(estimator, X_train_balanced, y_train_balanced, cv=LeaveOneOut(), scoring='f1_macro', n_jobs=-1, verbose=1)\n",
        "#cv = ShuffleSplit(n_splits=5, test_size=0.3, random_state=0)\n",
        "#cross_validation_scores = cross_val_score(estimator, X_train_balanced, y_train_balanced, cv=cv, scoring='f1_macro', n_jobs=-1, verbose=1)\n",
        "cross_validation_scores = cross_val_score(estimator, X_train_balanced, y_train_balanced, cv=10, scoring='f1_macro', n_jobs=-1, verbose=1)\n",
        "cross_validation_time = time() - start\n",
        "print(\"Mean cross-validation scores (Stratified CV) = {:.4f}\".format(np.mean(cross_validation_scores)))\n",
        "print(\"Standard deviation for cross-validation scores (Stratified CV) = {:.4f}\".format(np.std(cross_validation_scores)))\n",
        "print(\"Reported cross-validation time = {:,.3f}s\".format(cross_validation_time))\n",
        "print(\"All cross-validation scores:\\n\", cross_validation_scores)"
      ],
      "metadata": {
        "id": "2IbAsqbzlIWw"
      },
      "id": "2IbAsqbzlIWw",
      "execution_count": null,
      "outputs": []
    },
    {
      "cell_type": "markdown",
      "id": "qvaHX7IbXYs-",
      "metadata": {
        "id": "qvaHX7IbXYs-"
      },
      "source": [
        "### Decision tree"
      ]
    },
    {
      "cell_type": "code",
      "execution_count": 23,
      "id": "6u_1VUvYXa2Z",
      "metadata": {
        "id": "6u_1VUvYXa2Z",
        "colab": {
          "base_uri": "https://localhost:8080/",
          "height": 885
        },
        "outputId": "d521a5b0-f3c6-435d-ab28-e9952877b32a"
      },
      "outputs": [
        {
          "output_type": "stream",
          "name": "stdout",
          "text": [
            "Accuracy = 0.9887 | time = 2.753s/0.039s\n",
            "\n",
            "Confusion matrix\n",
            "[[ 71413    579]\n",
            " [  2103 163805]]\n"
          ]
        },
        {
          "output_type": "display_data",
          "data": {
            "text/plain": [
              "<Figure size 432x288 with 2 Axes>"
            ],
            "image/png": "[encoded data removed]"
          },
          "metadata": {
            "needs_background": "light"
          }
        },
        {
          "output_type": "display_data",
          "data": {
            "text/plain": [
              "<Figure size 720x720 with 0 Axes>"
            ]
          },
          "metadata": {}
        },
        {
          "output_type": "stream",
          "name": "stdout",
          "text": [
            "              precision    recall  f1-score   support\n",
            "\n",
            "           B     0.9714    0.9920    0.9816     71992\n",
            "           M     0.9965    0.9873    0.9919    165908\n",
            "\n",
            "    accuracy                         0.9887    237900\n",
            "   macro avg     0.9839    0.9896    0.9867    237900\n",
            "weighted avg     0.9889    0.9887    0.9888    237900\n",
            "\n"
          ]
        },
        {
          "output_type": "display_data",
          "data": {
            "text/plain": [
              "<Figure size 432x288 with 1 Axes>"
            ],
            "image/png": "[encoded data removed]"
          },
          "metadata": {
            "needs_background": "light"
          }
        },
        {
          "output_type": "display_data",
          "data": {
            "text/plain": [
              "<Figure size 720x720 with 0 Axes>"
            ]
          },
          "metadata": {}
        },
        {
          "output_type": "stream",
          "name": "stdout",
          "text": [
            "\n",
            "Area Under Curve (AUC) = 0.9994\n"
          ]
        }
      ],
      "source": [
        "#   ****************Decision Tree*****************\n",
        "#estimator = DecisionTreeClassifier(max_depth=3, random_state=0)\n",
        "#estimator = DecisionTreeClassifier(random_state=0)\n",
        "estimator = DecisionTreeClassifier(max_depth=20, random_state=0)\n",
        "\n",
        "# Fit\n",
        "start = time()\n",
        "estimator.fit(X_train_balanced, y_train_balanced)\n",
        "train_time = time() - start\n",
        "\n",
        "# Prediction\n",
        "start = time()\n",
        "y_pred = estimator.predict(X_test_scaled)\n",
        "predict_time = time() - start\n",
        "\n",
        "# Metrics\n",
        "accuracy = metrics.accuracy_score(y_test, y_pred)\n",
        "\n",
        "# Pre-processing\n",
        "y_pred = np.ravel(y_pred)\n",
        "\n",
        "# Print results\n",
        "print(\"Accuracy = {:.4f} | time = {:,.3f}s/{:,.3f}s\".format(accuracy, train_time, predict_time))\n",
        "\n",
        "# Plot confusion matrix\n",
        "cm = metrics.confusion_matrix(y_test, y_pred, labels=estimator.classes_)\n",
        "print(\"\\nConfusion matrix\")\n",
        "print(cm)\n",
        "\n",
        "#metrics.ConfusionMatrixDisplay.from_estimator(estimator, X_test, y_test, display_labels=estimator.classes_, normalize='all', cmap='Greys')\n",
        "metrics.ConfusionMatrixDisplay.from_predictions(y_test, y_pred, display_labels=estimator.classes_, normalize='all', cmap='Greys')\n",
        "plt.title(\"Confusion matrix\")\n",
        "plt.figure(figsize=(10,10))\n",
        "plt.show()\n",
        "\n",
        "# Classification report\n",
        "print(metrics.classification_report(y_test, y_pred, digits=4))\n",
        "\n",
        "# ROC curve and AUC\n",
        "fig, ax = plt.subplots()\n",
        "metrics.RocCurveDisplay.from_estimator(estimator, X_test_scaled, y_test, alpha=0.8, lw=2, ax=ax)\n",
        "ax.plot([0,1], [0,1], linestyle=\"--\", lw=2, color = \"r\", label = \"Change\", alpha = 0.5)\n",
        "plt.title(\"ROC Curve\")\n",
        "plt.figure(figsize=(10,10))\n",
        "plt.show()\n",
        "\n",
        "# Area Under Curve (AUC)\n",
        "\n",
        "#auc = metrics.roc_auc_score(y_test, estimator.decision_function(X_test))\n",
        "# Check this https://scikit-learn.org/stable/modules/model_evaluation.html#roc-auc-binary\n",
        "# where \"estimator.predict_proba(X_test_scaled)[:, 1]\" corresponds to the probability of the class with the \"greater label\", that is why the 1 as the index.\n",
        "y_score = estimator.predict_proba(X_test_scaled)[:, 1]\n",
        "auc = metrics.roc_auc_score(y_test, y_score)\n",
        "print(\"\\nArea Under Curve (AUC) = {:.4f}\".format(auc))"
      ]
    },
    {
      "cell_type": "code",
      "execution_count": null,
      "id": "FzvufUF_g278",
      "metadata": {
        "id": "FzvufUF_g278"
      },
      "outputs": [],
      "source": [
        "#print(f\"Classes: {estimator.classes_}\")\n",
        "#print(f\"Feature importance: {estimator.feature_importances_}\")\n",
        "#print(f\"Max. features: {estimator.max_features}\")\n",
        "#print(f\"Number of classes: {estimator.n_classes_}\")\n",
        "#print(f\"Number of features: {estimator.n_features_}\")\n",
        "#print(f\"Number of outputs: {estimator.n_outputs_}\")\n",
        "\n",
        "#print(f\"Depth: {estimator.get_depth()}\")\n",
        "#print(f\"Number of leaves: {estimator.get_n_leaves()}\")"
      ]
    },
    {
      "cell_type": "code",
      "execution_count": null,
      "id": "ee901164",
      "metadata": {
        "id": "ee901164"
      },
      "outputs": [],
      "source": [
        "#tree.plot_tree(decTree)\n",
        "#plt.show()"
      ]
    },
    {
      "cell_type": "markdown",
      "source": [
        "#### Cross-validation for Decision Tree"
      ],
      "metadata": {
        "id": "dqjT6NC8ljyl"
      },
      "id": "dqjT6NC8ljyl"
    },
    {
      "cell_type": "code",
      "source": [
        "start = time()\n",
        "#cross_validation_scores = cross_val_score(estimator, X_train_balanced, y_train_balanced, cv=LeaveOneOut(), scoring='f1_macro', n_jobs=-1, verbose=1)\n",
        "#cv = ShuffleSplit(n_splits=5, test_size=0.3, random_state=0)\n",
        "#cross_validation_scores = cross_val_score(estimator, X_train_balanced, y_train_balanced, cv=cv, scoring='f1_macro', n_jobs=-1, verbose=1)\n",
        "cross_validation_scores = cross_val_score(estimator, X_train_balanced, y_train_balanced, cv=10, scoring='f1_macro', n_jobs=-1, verbose=1)\n",
        "cross_validation_time = time() - start\n",
        "print(\"Mean cross-validation scores (Stratified CV) = {:.4f}\".format(np.mean(cross_validation_scores)))\n",
        "print(\"Standard deviation for cross-validation scores (Stratified CV) = {:.4f}\".format(np.std(cross_validation_scores)))\n",
        "print(\"Reported cross-validation time = {:,.3f}s\".format(cross_validation_time))\n",
        "print(\"All cross-validation scores:\\n\", cross_validation_scores)"
      ],
      "metadata": {
        "id": "SwC05CuGlLYd"
      },
      "id": "SwC05CuGlLYd",
      "execution_count": null,
      "outputs": []
    },
    {
      "cell_type": "markdown",
      "id": "mavCAReZZf22",
      "metadata": {
        "id": "mavCAReZZf22"
      },
      "source": [
        "### Random forest"
      ]
    },
    {
      "cell_type": "code",
      "execution_count": 24,
      "id": "Rj1sNKXeZi6B",
      "metadata": {
        "id": "Rj1sNKXeZi6B",
        "colab": {
          "base_uri": "https://localhost:8080/",
          "height": 1000
        },
        "outputId": "7feaca7c-42c6-4ca8-b46c-839a36bd8a75"
      },
      "outputs": [
        {
          "output_type": "stream",
          "name": "stderr",
          "text": [
            "[Parallel(n_jobs=-1)]: Using backend ThreadingBackend with 2 concurrent workers.\n"
          ]
        },
        {
          "output_type": "stream",
          "name": "stdout",
          "text": [
            "building tree 1 of 10\n",
            "building tree 2 of 10\n",
            "building tree 3 of 10\n",
            "building tree 4 of 10\n",
            "building tree 5 of 10\n",
            "building tree 6 of 10\n",
            "building tree 7 of 10\n",
            "building tree 8 of 10\n",
            "building tree 9 of 10\n",
            "building tree 10 of 10\n"
          ]
        },
        {
          "output_type": "stream",
          "name": "stderr",
          "text": [
            "[Parallel(n_jobs=-1)]: Done  10 out of  10 | elapsed:    5.0s finished\n",
            "[Parallel(n_jobs=2)]: Using backend ThreadingBackend with 2 concurrent workers.\n",
            "[Parallel(n_jobs=2)]: Done  10 out of  10 | elapsed:    0.3s finished\n"
          ]
        },
        {
          "output_type": "stream",
          "name": "stdout",
          "text": [
            "Accuracy = 0.9961 | time = 5.572s/0.314s\n",
            "\n",
            "Confusion matrix\n",
            "[[ 71348    644]\n",
            " [   277 165631]]\n"
          ]
        },
        {
          "output_type": "display_data",
          "data": {
            "text/plain": [
              "<Figure size 432x288 with 2 Axes>"
            ],
            "image/png": "[encoded data removed]"
          },
          "metadata": {
            "needs_background": "light"
          }
        },
        {
          "output_type": "display_data",
          "data": {
            "text/plain": [
              "<Figure size 720x720 with 0 Axes>"
            ]
          },
          "metadata": {}
        },
        {
          "output_type": "stream",
          "name": "stdout",
          "text": [
            "              precision    recall  f1-score   support\n",
            "\n",
            "           B     0.9961    0.9911    0.9936     71992\n",
            "           M     0.9961    0.9983    0.9972    165908\n",
            "\n",
            "    accuracy                         0.9961    237900\n",
            "   macro avg     0.9961    0.9947    0.9954    237900\n",
            "weighted avg     0.9961    0.9961    0.9961    237900\n",
            "\n"
          ]
        },
        {
          "output_type": "stream",
          "name": "stderr",
          "text": [
            "[Parallel(n_jobs=2)]: Using backend ThreadingBackend with 2 concurrent workers.\n",
            "[Parallel(n_jobs=2)]: Done  10 out of  10 | elapsed:    0.5s finished\n"
          ]
        },
        {
          "output_type": "display_data",
          "data": {
            "text/plain": [
              "<Figure size 432x288 with 1 Axes>"
            ],
            "image/png": "[encoded data removed]"
          },
          "metadata": {
            "needs_background": "light"
          }
        },
        {
          "output_type": "display_data",
          "data": {
            "text/plain": [
              "<Figure size 720x720 with 0 Axes>"
            ]
          },
          "metadata": {}
        },
        {
          "output_type": "stream",
          "name": "stderr",
          "text": [
            "[Parallel(n_jobs=2)]: Using backend ThreadingBackend with 2 concurrent workers.\n",
            "[Parallel(n_jobs=2)]: Done  10 out of  10 | elapsed:    0.5s finished\n"
          ]
        },
        {
          "output_type": "stream",
          "name": "stdout",
          "text": [
            "\n",
            "Area Under Curve (AUC) = 0.9999\n"
          ]
        }
      ],
      "source": [
        "#   ****************Random Forest*****************\n",
        "#estimator = RandomForestClassifier(n_estimators=10, random_state=0, n_jobs=-1)\n",
        "estimator = RandomForestClassifier(n_estimators=10, max_depth=20, random_state=0, n_jobs=-1, verbose=2)\n",
        "\n",
        "# Fit\n",
        "start = time()\n",
        "estimator.fit(X_train_balanced, y_train_balanced)\n",
        "train_time = time() - start\n",
        "\n",
        "# Prediction\n",
        "start = time()\n",
        "y_pred = estimator.predict(X_test_scaled)\n",
        "predict_time = time() - start\n",
        "\n",
        "# Metrics\n",
        "accuracy = metrics.accuracy_score(y_test, y_pred)\n",
        "\n",
        "# Pre-processing\n",
        "y_pred = np.ravel(y_pred)\n",
        "\n",
        "# Print results\n",
        "print(\"Accuracy = {:.4f} | time = {:,.3f}s/{:,.3f}s\".format(accuracy, train_time, predict_time))\n",
        "\n",
        "# Plot confusion matrix\n",
        "cm = metrics.confusion_matrix(y_test, y_pred, labels=estimator.classes_)\n",
        "print(\"\\nConfusion matrix\")\n",
        "print(cm)\n",
        "\n",
        "#metrics.ConfusionMatrixDisplay.from_estimator(estimator, X_test, y_test, display_labels=estimator.classes_, normalize='all', cmap='Greys')\n",
        "metrics.ConfusionMatrixDisplay.from_predictions(y_test, y_pred, display_labels=estimator.classes_, normalize='all', cmap='Greys')\n",
        "plt.title(\"Confusion matrix\")\n",
        "plt.figure(figsize=(10,10))\n",
        "plt.show()\n",
        "\n",
        "# Classification report\n",
        "print(metrics.classification_report(y_test, y_pred, digits=4))\n",
        "\n",
        "# ROC curve and AUC\n",
        "fig, ax = plt.subplots()\n",
        "metrics.RocCurveDisplay.from_estimator(estimator, X_test_scaled, y_test, alpha=0.8, lw=2, ax=ax)\n",
        "ax.plot([0,1], [0,1], linestyle=\"--\", lw=2, color = \"r\", label = \"Change\", alpha = 0.5)\n",
        "plt.title(\"ROC Curve\")\n",
        "plt.figure(figsize=(10,10))\n",
        "plt.show()\n",
        "\n",
        "# Area Under Curve (AUC)\n",
        "\n",
        "#auc = metrics.roc_auc_score(y_test, estimator.decision_function(X_test))\n",
        "# Check this https://scikit-learn.org/stable/modules/model_evaluation.html#roc-auc-binary\n",
        "# where \"estimator.predict_proba(X_test_scaled)[:, 1]\" corresponds to the probability of the class with the \"greater label\", that is why the 1 as the index.\n",
        "y_score = estimator.predict_proba(X_test_scaled)[:, 1]\n",
        "auc = metrics.roc_auc_score(y_test, y_score)\n",
        "print(\"\\nArea Under Curve (AUC) = {:.4f}\".format(auc))"
      ]
    },
    {
      "cell_type": "code",
      "execution_count": null,
      "id": "bMgYY8n0hVYd",
      "metadata": {
        "id": "bMgYY8n0hVYd"
      },
      "outputs": [],
      "source": [
        "#print(f\"Classes: {rf.classes_}\")\n",
        "#print(f\"Feature importance: {rf.feature_importances_}\")\n",
        "#print(f\"Max. features: {rf.max_features}\")\n",
        "#print(f\"Number of classes: {rf.n_classes_}\")\n",
        "#print(f\"Number of features: {rf.n_features_}\")\n",
        "#print(f\"Number of outputs: {rf.n_outputs_}\")\n",
        "\n",
        "#print(f\"Base estimator: {rf.base_estimator_}\")\n",
        "##print(f\"Estimators: {rf.estimators_}\")\n",
        "#for estimator in rf.estimators_:\n",
        "    #print(f\"Estimator: {estimator}\")"
      ]
    },
    {
      "cell_type": "markdown",
      "source": [
        "#### Cross-validation for Random Forest"
      ],
      "metadata": {
        "id": "qY7lms5FlrLd"
      },
      "id": "qY7lms5FlrLd"
    },
    {
      "cell_type": "code",
      "source": [
        "start = time()\n",
        "#cross_validation_scores = cross_val_score(estimator, X_train_balanced, y_train_balanced, cv=LeaveOneOut(), scoring='f1_macro', n_jobs=-1, verbose=1)\n",
        "#cv = ShuffleSplit(n_splits=5, test_size=0.3, random_state=0)\n",
        "#cross_validation_scores = cross_val_score(estimator, X_train_balanced, y_train_balanced, cv=cv, scoring='f1_macro', n_jobs=-1, verbose=1)\n",
        "cross_validation_scores = cross_val_score(estimator, X_train_balanced, y_train_balanced, cv=10, scoring='f1_macro', n_jobs=-1, verbose=1)\n",
        "cross_validation_time = time() - start\n",
        "print(\"Mean cross-validation scores (Stratified CV) = {:.4f}\".format(np.mean(cross_validation_scores)))\n",
        "print(\"Standard deviation for cross-validation scores (Stratified CV) = {:.4f}\".format(np.std(cross_validation_scores)))\n",
        "print(\"Reported cross-validation time = {:,.3f}s\".format(cross_validation_time))\n",
        "print(\"All cross-validation scores:\\n\", cross_validation_scores)"
      ],
      "metadata": {
        "id": "_vzZONZplMrq"
      },
      "id": "_vzZONZplMrq",
      "execution_count": null,
      "outputs": []
    },
    {
      "cell_type": "markdown",
      "id": "99Pd8faZ8lC6",
      "metadata": {
        "id": "99Pd8faZ8lC6"
      },
      "source": [
        "### K Neighbors"
      ]
    },
    {
      "cell_type": "code",
      "execution_count": 25,
      "id": "O7jwNQIE8ow3",
      "metadata": {
        "id": "O7jwNQIE8ow3",
        "colab": {
          "base_uri": "https://localhost:8080/",
          "height": 885
        },
        "outputId": "31734de1-48d1-4f18-c23e-fc4a324f3e36"
      },
      "outputs": [
        {
          "output_type": "stream",
          "name": "stdout",
          "text": [
            "Accuracy = 0.9625 | time = 1.769s/13.150s\n",
            "\n",
            "Confusion matrix\n",
            "[[ 70570   1422]\n",
            " [  7493 158415]]\n"
          ]
        },
        {
          "output_type": "display_data",
          "data": {
            "text/plain": [
              "<Figure size 432x288 with 2 Axes>"
            ],
            "image/png": "[encoded data removed]"
          },
          "metadata": {
            "needs_background": "light"
          }
        },
        {
          "output_type": "display_data",
          "data": {
            "text/plain": [
              "<Figure size 720x720 with 0 Axes>"
            ]
          },
          "metadata": {}
        },
        {
          "output_type": "stream",
          "name": "stdout",
          "text": [
            "              precision    recall  f1-score   support\n",
            "\n",
            "           B     0.9040    0.9802    0.9406     71992\n",
            "           M     0.9911    0.9548    0.9726    165908\n",
            "\n",
            "    accuracy                         0.9625    237900\n",
            "   macro avg     0.9476    0.9675    0.9566    237900\n",
            "weighted avg     0.9647    0.9625    0.9629    237900\n",
            "\n"
          ]
        },
        {
          "output_type": "display_data",
          "data": {
            "text/plain": [
              "<Figure size 432x288 with 1 Axes>"
            ],
            "image/png": "[encoded data removed]"
          },
          "metadata": {
            "needs_background": "light"
          }
        },
        {
          "output_type": "display_data",
          "data": {
            "text/plain": [
              "<Figure size 720x720 with 0 Axes>"
            ]
          },
          "metadata": {}
        },
        {
          "output_type": "stream",
          "name": "stdout",
          "text": [
            "\n",
            "Area Under Curve (AUC) = 0.9942\n"
          ]
        }
      ],
      "source": [
        "#   ****************K Neighbors classifier*****************\n",
        "#estimator = KNeighborsClassifier(n_neighbors = 3, weights = 'distance', n_jobs = 4)\n",
        "estimator = KNeighborsClassifier(n_neighbors = 5, weights = 'distance', n_jobs = -1)\n",
        "\n",
        "# Fit\n",
        "start = time()\n",
        "estimator.fit(X_train_balanced, y_train_balanced)\n",
        "train_time = time() - start\n",
        "\n",
        "# Prediction\n",
        "start = time()\n",
        "y_pred = estimator.predict(X_test_scaled)\n",
        "predict_time = time() - start\n",
        "\n",
        "# Metrics\n",
        "accuracy = metrics.accuracy_score(y_test, y_pred)\n",
        "\n",
        "# Pre-processing\n",
        "y_pred = np.ravel(y_pred)\n",
        "\n",
        "# Print results\n",
        "print(\"Accuracy = {:.4f} | time = {:,.3f}s/{:,.3f}s\".format(accuracy, train_time, predict_time))\n",
        "\n",
        "# Plot confusion matrix\n",
        "cm = metrics.confusion_matrix(y_test, y_pred, labels=estimator.classes_)\n",
        "print(\"\\nConfusion matrix\")\n",
        "print(cm)\n",
        "\n",
        "#metrics.ConfusionMatrixDisplay.from_estimator(estimator, X_test, y_test, display_labels=estimator.classes_, normalize='all', cmap='Greys')\n",
        "metrics.ConfusionMatrixDisplay.from_predictions(y_test, y_pred, display_labels=estimator.classes_, normalize='all', cmap='Greys')\n",
        "plt.title(\"Confusion matrix\")\n",
        "plt.figure(figsize=(10,10))\n",
        "plt.show()\n",
        "\n",
        "# Classification report\n",
        "print(metrics.classification_report(y_test, y_pred, digits=4))\n",
        "\n",
        "# ROC curve and AUC\n",
        "fig, ax = plt.subplots()\n",
        "metrics.RocCurveDisplay.from_estimator(estimator, X_test_scaled, y_test, alpha=0.8, lw=2, ax=ax)\n",
        "ax.plot([0,1], [0,1], linestyle=\"--\", lw=2, color = \"r\", label = \"Change\", alpha = 0.5)\n",
        "plt.title(\"ROC Curve\")\n",
        "plt.figure(figsize=(10,10))\n",
        "plt.show()\n",
        "\n",
        "# Area Under Curve (AUC)\n",
        "\n",
        "#auc = metrics.roc_auc_score(y_test, estimator.decision_function(X_test))\n",
        "# Check this https://scikit-learn.org/stable/modules/model_evaluation.html#roc-auc-binary\n",
        "# where \"estimator.predict_proba(X_test_scaled)[:, 1]\" corresponds to the probability of the class with the \"greater label\", that is why the 1 as the index.\n",
        "y_score = estimator.predict_proba(X_test_scaled)[:, 1]\n",
        "auc = metrics.roc_auc_score(y_test, y_score)\n",
        "print(\"\\nArea Under Curve (AUC) = {:.4f}\".format(auc))"
      ]
    },
    {
      "cell_type": "code",
      "execution_count": null,
      "id": "e6e26d91",
      "metadata": {
        "id": "e6e26d91"
      },
      "outputs": [],
      "source": [
        "#print(f\"Classes: {knc.classes_}\")\n",
        "#print(f\"Effective metric: {knc.effective_metric_}\")\n",
        "#print(f\"Effective metric params: {knc.effective_metric_params_}\")\n",
        "#print(f\"N. samples fit: {knc.n_samples_fit_}\")"
      ]
    },
    {
      "cell_type": "markdown",
      "source": [
        "#### Cross-validation for KNN"
      ],
      "metadata": {
        "id": "FzUtnX2nnwA4"
      },
      "id": "FzUtnX2nnwA4"
    },
    {
      "cell_type": "code",
      "source": [
        "start = time()\n",
        "#cross_validation_scores = cross_val_score(estimator, X_train_balanced, y_train_balanced, cv=LeaveOneOut(), scoring='f1_macro', n_jobs=-1, verbose=1)\n",
        "#cv = ShuffleSplit(n_splits=5, test_size=0.3, random_state=0)\n",
        "#cross_validation_scores = cross_val_score(estimator, X_train_balanced, y_train_balanced, cv=cv, scoring='f1_macro', n_jobs=-1, verbose=1)\n",
        "cross_validation_scores = cross_val_score(estimator, X_train_balanced, y_train_balanced, cv=10, scoring='f1_macro', n_jobs=-1, verbose=1)\n",
        "cross_validation_time = time() - start\n",
        "print(\"Mean cross-validation scores (Stratified CV) = {:.4f}\".format(np.mean(cross_validation_scores)))\n",
        "print(\"Standard deviation for cross-validation scores (Stratified CV) = {:.4f}\".format(np.std(cross_validation_scores)))\n",
        "print(\"Reported cross-validation time = {:,.3f}s\".format(cross_validation_time))\n",
        "print(\"All cross-validation scores:\\n\", cross_validation_scores)"
      ],
      "metadata": {
        "id": "QjR4YWx7lNmD"
      },
      "id": "QjR4YWx7lNmD",
      "execution_count": null,
      "outputs": []
    },
    {
      "cell_type": "markdown",
      "source": [
        "# AutoML with LazyPredict"
      ],
      "metadata": {
        "id": "N87QKhVbUoPg"
      },
      "id": "N87QKhVbUoPg"
    },
    {
      "cell_type": "code",
      "source": [
        "clf = LazyClassifier(verbose=0, ignore_warnings=True, custom_metric=None)\n",
        "# Fit\n",
        "start = time()\n",
        "models, predictions = clf.fit(X_train_balanced, X_test_scaled, y_train_balanced, y_test)\n",
        "lazy_classifier_time = time() - start\n",
        "\n",
        "# Print results\n",
        "print(\"time = {:,.3f}s\".format(lazy_classifier_time))"
      ],
      "metadata": {
        "id": "YYTndDIMUtt-"
      },
      "id": "YYTndDIMUtt-",
      "execution_count": null,
      "outputs": []
    },
    {
      "cell_type": "code",
      "source": [
        "print(models)"
      ],
      "metadata": {
        "id": "OqkFBvYvX09M"
      },
      "id": "OqkFBvYvX09M",
      "execution_count": null,
      "outputs": []
    },
    {
      "cell_type": "markdown",
      "id": "c791711c",
      "metadata": {
        "id": "c791711c"
      },
      "source": [
        "# AutoML with auto-sklearn"
      ]
    },
    {
      "cell_type": "code",
      "execution_count": null,
      "id": "4409bbfc",
      "metadata": {
        "id": "4409bbfc"
      },
      "outputs": [],
      "source": [
        "#automl = autosklearn.classification.AutoSklearnClassifier(\n",
        "    #include_estimators=[\"decision_tree\", \"k_nearest_neighbors\", \"random_forest\", ], exclude_estimators=None,\n",
        "    #include_preprocessors=[\"fast_ica\", \"pca\", \"polynomial\", \"no_preprocessing\", \"truncatedSVD\", ], exclude_preprocessors=None,\n",
        "    #n_jobs=4)\n",
        "#automl.fit(X_train, y_train)\n",
        "#y_pred_auto = automl.predict(X_test)\n",
        "#print(\"Accuracy score of AutoML\", metrics.accuracy_score(y_test, y_pred_auto))"
      ]
    },
    {
      "cell_type": "code",
      "execution_count": null,
      "id": "7c6f266e",
      "metadata": {
        "id": "7c6f266e"
      },
      "outputs": [],
      "source": [
        "#automl.cv_results_"
      ]
    },
    {
      "cell_type": "code",
      "execution_count": null,
      "id": "7cd7f3bb",
      "metadata": {
        "id": "7cd7f3bb"
      },
      "outputs": [],
      "source": [
        "#automl.sprint_statistics()"
      ]
    },
    {
      "cell_type": "code",
      "execution_count": null,
      "id": "adba58dc",
      "metadata": {
        "id": "adba58dc"
      },
      "outputs": [],
      "source": [
        "#automl.show_models()"
      ]
    },
    {
      "cell_type": "code",
      "execution_count": null,
      "id": "e97fb06b",
      "metadata": {
        "id": "e97fb06b"
      },
      "outputs": [],
      "source": [
        "#print(automl.show_models())"
      ]
    }
  ],
  "metadata": {
    "colab": {
      "collapsed_sections": [
        "original-diameter",
        "banned-application",
        "6a299ea0",
        "e0d91b4a",
        "a886ccf3",
        "b8a7a938",
        "fdc57427",
        "6391d798",
        "aab82110",
        "e231659f",
        "8cef7799",
        "b1165f40",
        "b5d8e754",
        "7167ee03"
      ],
      "name": "Multifractal based on slide ids.ipynb",
      "provenance": [],
      "include_colab_link": true
    },
    "kernelspec": {
      "display_name": "Python 3",
      "language": "python",
      "name": "python3"
    },
    "language_info": {
      "codemirror_mode": {
        "name": "ipython",
        "version": 3
      },
      "file_extension": ".py",
      "mimetype": "text/x-python",
      "name": "python",
      "nbconvert_exporter": "python",
      "pygments_lexer": "ipython3",
      "version": "3.8.8"
    }
  },
  "nbformat": 4,
  "nbformat_minor": 5
}